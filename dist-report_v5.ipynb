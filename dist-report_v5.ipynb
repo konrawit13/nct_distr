{
 "cells": [
  {
   "cell_type": "code",
   "execution_count": 1,
   "id": "0b889514-ad90-4fd9-b826-a5271354ed9a",
   "metadata": {},
   "outputs": [
    {
     "name": "stdout",
     "output_type": "stream",
     "text": [
      "Renderers configuration\n",
      "-----------------------\n",
      "    Default renderer: 'browser'\n",
      "    Available renderers:\n",
      "        ['plotly_mimetype', 'jupyterlab', 'nteract', 'vscode',\n",
      "         'notebook', 'notebook_connected', 'kaggle', 'azure', 'colab',\n",
      "         'cocalc', 'databricks', 'json', 'png', 'jpeg', 'jpg', 'svg',\n",
      "         'pdf', 'browser', 'firefox', 'chrome', 'chromium', 'iframe',\n",
      "         'iframe_connected', 'sphinx_gallery', 'sphinx_gallery_png']\n",
      "\n"
     ]
    }
   ],
   "source": [
    "import os, ast, json, uuid\n",
    "import numpy as np\n",
    "import pandas as pd\n",
    "\n",
    "import matplotlib.pyplot as plt\n",
    "import seaborn as sns\n",
    "import plotly.graph_objects as go\n",
    "import plotly.express as px\n",
    "import plotly.io as pio\n",
    "pio.renderers.default = \"browser\"\n",
    "print(pio.renderers)"
   ]
  },
  {
   "cell_type": "code",
   "execution_count": 2,
   "id": "25492096-813f-48fe-99db-4ee5fc9472fc",
   "metadata": {},
   "outputs": [],
   "source": [
    "pd.set_option('display.max_columns', None)\n",
    "sns.set_theme()"
   ]
  },
  {
   "cell_type": "code",
   "execution_count": 3,
   "id": "57d17298-ee39-4e25-aff5-1c7a6b04b00c",
   "metadata": {},
   "outputs": [
    {
     "data": {
      "text/plain": [
       "'c:\\\\users\\\\user\\\\root_dir\\\\src\\\\nct_distr'"
      ]
     },
     "execution_count": 3,
     "metadata": {},
     "output_type": "execute_result"
    }
   ],
   "source": [
    "os.getcwd()"
   ]
  },
  {
   "cell_type": "code",
   "execution_count": 7,
   "id": "128cbdd2-b7e4-4cbf-b1a9-b69c9e495762",
   "metadata": {},
   "outputs": [],
   "source": [
    "distreport_redis_path = \"C:/Users/user/Downloads/dist_report_redis-2025-07-31 - Sheet1.csv\""
   ]
  },
  {
   "cell_type": "code",
   "execution_count": 4,
   "id": "e5c60918-4e0a-4a57-97a4-eda3b07fbc46",
   "metadata": {},
   "outputs": [],
   "source": [
    "dist3_path = \"C:/Users/user/root_dir/data/nct-distr/dist-report-v3.csv\""
   ]
  },
  {
   "cell_type": "code",
   "execution_count": 5,
   "id": "6c674ef9-45f6-4ae3-9250-a97aa0603c2a",
   "metadata": {},
   "outputs": [],
   "source": [
    "df = pd.read_csv(dist3_path)"
   ]
  },
  {
   "cell_type": "code",
   "execution_count": 6,
   "id": "5e826850-c7ba-401f-926c-72479836f4f2",
   "metadata": {},
   "outputs": [
    {
     "name": "stdout",
     "output_type": "stream",
     "text": [
      "<class 'pandas.core.frame.DataFrame'>\n",
      "RangeIndex: 288522 entries, 0 to 288521\n",
      "Data columns (total 25 columns):\n",
      " #   Column                                    Non-Null Count   Dtype  \n",
      "---  ------                                    --------------   -----  \n",
      " 0   Unnamed: 0                                288522 non-null  int64  \n",
      " 1   ReportDisburseNarcoticBeYear              288522 non-null  float64\n",
      " 2   ReportDisburseNarcoticMonth               288522 non-null  float64\n",
      " 3   ProductTypeName                           288522 non-null  object \n",
      " 4   MonthlyReportNarcoticName                 288522 non-null  object \n",
      " 5   MonthlyReportNarcoticBalanceForwardValue  288522 non-null  float64\n",
      " 6   MonthlyReportNarcoticReceiveValue         288522 non-null  float64\n",
      " 7   MonthlyReportNarcoticPaidValue            288522 non-null  float64\n",
      " 8   MonthlyReportNarcoticRemainValue          288522 non-null  float64\n",
      " 9   ReferCustomerName                         288522 non-null  object \n",
      " 10  CustomerAddressProvinceName               288522 non-null  object \n",
      " 11  CustomerTypeName                          288522 non-null  object \n",
      " 12  ReportDisburseNarcoticRecordType          288522 non-null  object \n",
      " 13  CreateDateTime                            288522 non-null  object \n",
      " 14  ReportDisburseNarcoticRequestorName       288522 non-null  object \n",
      " 15  SendReportDate                            288522 non-null  object \n",
      " 16  uuid_x                                    288522 non-null  object \n",
      " 17  uuid_y                                    288522 non-null  object \n",
      " 18  fullAddress                               288522 non-null  object \n",
      " 19  formatted_address                         288522 non-null  object \n",
      " 20  location_type                             288522 non-null  object \n",
      " 21  place_id                                  288522 non-null  object \n",
      " 22  lat                                       288522 non-null  float64\n",
      " 23  lng                                       288522 non-null  float64\n",
      " 24  types                                     288522 non-null  object \n",
      "dtypes: float64(8), int64(1), object(16)\n",
      "memory usage: 55.0+ MB\n"
     ]
    }
   ],
   "source": [
    "df.info()"
   ]
  },
  {
   "cell_type": "code",
   "execution_count": 9,
   "id": "6240026d-5d85-4ea7-9fd2-0471b7467fe9",
   "metadata": {},
   "outputs": [],
   "source": [
    "df_og = pd.read_csv(distreport_redis_path)"
   ]
  },
  {
   "cell_type": "code",
   "execution_count": 10,
   "id": "014ecd1e-ed42-4f11-8f02-b52f436ba8d3",
   "metadata": {},
   "outputs": [
    {
     "name": "stdout",
     "output_type": "stream",
     "text": [
      "<class 'pandas.core.frame.DataFrame'>\n",
      "RangeIndex: 395588 entries, 0 to 395587\n",
      "Data columns (total 17 columns):\n",
      " #   Column                                    Non-Null Count   Dtype  \n",
      "---  ------                                    --------------   -----  \n",
      " 0   ReportDisburseNarcoticBeYear              395588 non-null  int64  \n",
      " 1   ReportDisburseNarcoticMonth               395588 non-null  int64  \n",
      " 2   ProductTypeName                           395588 non-null  object \n",
      " 3   MonthlyReportNarcoticName                 395588 non-null  object \n",
      " 4   MonthlyReportNarcoticBalanceForwardValue  395588 non-null  float64\n",
      " 5   MonthlyReportNarcoticReceiveValue         395588 non-null  float64\n",
      " 6   MonthlyReportNarcoticPaidValue            395588 non-null  float64\n",
      " 7   MonthlyReportNarcoticRemainValue          395588 non-null  float64\n",
      " 8   ReferCustomerName                         395588 non-null  object \n",
      " 9   CustomerAddressProvinceName               395588 non-null  object \n",
      " 10  CustomerAddress                           395588 non-null  object \n",
      " 11  CustomerTypeName                          395588 non-null  object \n",
      " 12  ReportDisburseNarcoticRecordType          395588 non-null  object \n",
      " 13  CreateDateTime                            395588 non-null  object \n",
      " 14  ReportDisburseNarcoticRequestorName       395588 non-null  object \n",
      " 15  SendReportDate                            395588 non-null  object \n",
      " 16  เขต                                       395588 non-null  int64  \n",
      "dtypes: float64(4), int64(3), object(10)\n",
      "memory usage: 51.3+ MB\n"
     ]
    }
   ],
   "source": [
    "df_og.info()"
   ]
  },
  {
   "cell_type": "code",
   "execution_count": 11,
   "id": "9338a392-e34c-4e4e-8e15-b1cb268edf8a",
   "metadata": {},
   "outputs": [
    {
     "data": {
      "text/plain": [
       "ProductTypeName\n",
       "(วจ. 2) วัตถุออกฤทธิ์ในประเภท 2     213340\n",
       "(ยส. 2) ยาเสพติดให้โทษในประเภท 2    182248\n",
       "Name: count, dtype: int64"
      ]
     },
     "execution_count": 11,
     "metadata": {},
     "output_type": "execute_result"
    }
   ],
   "source": [
    "df_og['ProductTypeName'].value_counts()"
   ]
  },
  {
   "cell_type": "code",
   "execution_count": 17,
   "id": "5a50cb32-6a3e-4867-bdbc-7eb8f756d151",
   "metadata": {},
   "outputs": [
    {
     "data": {
      "text/html": [
       "<div>\n",
       "<style scoped>\n",
       "    .dataframe tbody tr th:only-of-type {\n",
       "        vertical-align: middle;\n",
       "    }\n",
       "\n",
       "    .dataframe tbody tr th {\n",
       "        vertical-align: top;\n",
       "    }\n",
       "\n",
       "    .dataframe thead th {\n",
       "        text-align: right;\n",
       "    }\n",
       "</style>\n",
       "<table border=\"1\" class=\"dataframe\">\n",
       "  <thead>\n",
       "    <tr style=\"text-align: right;\">\n",
       "      <th></th>\n",
       "      <th>CustomerTypeName</th>\n",
       "      <th>count</th>\n",
       "    </tr>\n",
       "  </thead>\n",
       "  <tbody>\n",
       "    <tr>\n",
       "      <th>0</th>\n",
       "      <td>สถานพยาบาลของรัฐ</td>\n",
       "      <td>186143</td>\n",
       "    </tr>\n",
       "    <tr>\n",
       "      <th>1</th>\n",
       "      <td>โรงพยาบาลเอกชน</td>\n",
       "      <td>114597</td>\n",
       "    </tr>\n",
       "    <tr>\n",
       "      <th>2</th>\n",
       "      <td>คลินิก</td>\n",
       "      <td>78178</td>\n",
       "    </tr>\n",
       "    <tr>\n",
       "      <th>3</th>\n",
       "      <td>สถานพยาบาลสัตว์</td>\n",
       "      <td>15740</td>\n",
       "    </tr>\n",
       "    <tr>\n",
       "      <th>4</th>\n",
       "      <td>สถานพยาบาลทันตกรรม</td>\n",
       "      <td>489</td>\n",
       "    </tr>\n",
       "    <tr>\n",
       "      <th>5</th>\n",
       "      <td>ขนส่งระหว่างประเทศ</td>\n",
       "      <td>158</td>\n",
       "    </tr>\n",
       "    <tr>\n",
       "      <th>6</th>\n",
       "      <td>ยานพาหนะที่ใช้ในการขนส่งสาธารณะระหว่างประเทศ</td>\n",
       "      <td>70</td>\n",
       "    </tr>\n",
       "    <tr>\n",
       "      <th>7</th>\n",
       "      <td>ประเภท ข เดินเรือ</td>\n",
       "      <td>68</td>\n",
       "    </tr>\n",
       "    <tr>\n",
       "      <th>8</th>\n",
       "      <td>บริษัท วงศ์สมุทรมาริไทม์ จำกัด</td>\n",
       "      <td>50</td>\n",
       "    </tr>\n",
       "    <tr>\n",
       "      <th>9</th>\n",
       "      <td>ใบอนุญาตมีไว้ครอบครองประเภท 2 หมวด ข  (เรือกลเ...</td>\n",
       "      <td>36</td>\n",
       "    </tr>\n",
       "    <tr>\n",
       "      <th>10</th>\n",
       "      <td>ใช้ประจำในการปฐมพยาบาลหรือในกรณีเกิดเหตุฉุกเฉิ...</td>\n",
       "      <td>36</td>\n",
       "    </tr>\n",
       "    <tr>\n",
       "      <th>11</th>\n",
       "      <td>บริษัท</td>\n",
       "      <td>11</td>\n",
       "    </tr>\n",
       "    <tr>\n",
       "      <th>12</th>\n",
       "      <td>สถาบันวิจัยวิทยาศาสตร์</td>\n",
       "      <td>8</td>\n",
       "    </tr>\n",
       "    <tr>\n",
       "      <th>13</th>\n",
       "      <td>อื่นๆ</td>\n",
       "      <td>4</td>\n",
       "    </tr>\n",
       "  </tbody>\n",
       "</table>\n",
       "</div>"
      ],
      "text/plain": [
       "                                     CustomerTypeName   count\n",
       "0                                    สถานพยาบาลของรัฐ  186143\n",
       "1                                      โรงพยาบาลเอกชน  114597\n",
       "2                                              คลินิก   78178\n",
       "3                                     สถานพยาบาลสัตว์   15740\n",
       "4                                  สถานพยาบาลทันตกรรม     489\n",
       "5                                  ขนส่งระหว่างประเทศ     158\n",
       "6        ยานพาหนะที่ใช้ในการขนส่งสาธารณะระหว่างประเทศ      70\n",
       "7                                   ประเภท ข เดินเรือ      68\n",
       "8                      บริษัท วงศ์สมุทรมาริไทม์ จำกัด      50\n",
       "9   ใบอนุญาตมีไว้ครอบครองประเภท 2 หมวด ข  (เรือกลเ...      36\n",
       "10  ใช้ประจำในการปฐมพยาบาลหรือในกรณีเกิดเหตุฉุกเฉิ...      36\n",
       "11                                             บริษัท      11\n",
       "12                             สถาบันวิจัยวิทยาศาสตร์       8\n",
       "13                                              อื่นๆ       4"
      ]
     },
     "execution_count": 17,
     "metadata": {},
     "output_type": "execute_result"
    }
   ],
   "source": [
    "df_og['CustomerTypeName'].value_counts().reset_index().sort_values(by=\"count\", ascending=False)"
   ]
  },
  {
   "cell_type": "code",
   "execution_count": 18,
   "id": "8f9010f7-c874-4c90-9b66-6af8e0262239",
   "metadata": {},
   "outputs": [
    {
     "data": {
      "text/plain": [
       "ReportDisburseNarcoticRecordType\n",
       "RECORD    199505\n",
       "ONLINE    196083\n",
       "Name: count, dtype: int64"
      ]
     },
     "execution_count": 18,
     "metadata": {},
     "output_type": "execute_result"
    }
   ],
   "source": [
    "df_og['ReportDisburseNarcoticRecordType'].value_counts()"
   ]
  }
 ],
 "metadata": {
  "kernelspec": {
   "display_name": "Python 3 (ipykernel)",
   "language": "python",
   "name": "python3"
  },
  "language_info": {
   "codemirror_mode": {
    "name": "ipython",
    "version": 3
   },
   "file_extension": ".py",
   "mimetype": "text/x-python",
   "name": "python",
   "nbconvert_exporter": "python",
   "pygments_lexer": "ipython3",
   "version": "3.11.4"
  }
 },
 "nbformat": 4,
 "nbformat_minor": 5
}
