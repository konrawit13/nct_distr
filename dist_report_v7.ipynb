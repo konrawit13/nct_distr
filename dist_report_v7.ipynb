{
 "cells": [
  {
   "cell_type": "code",
   "execution_count": null,
   "id": "4d74bd4d-8bce-46df-ba90-c509bee22e77",
   "metadata": {},
   "outputs": [],
   "source": []
  },
  {
   "cell_type": "code",
   "execution_count": 83,
   "id": "febfb99c-63c4-4702-af93-e292f3e17e92",
   "metadata": {},
   "outputs": [
    {
     "name": "stdout",
     "output_type": "stream",
     "text": [
      "Renderers configuration\n",
      "-----------------------\n",
      "    Default renderer: 'browser'\n",
      "    Available renderers:\n",
      "        ['plotly_mimetype', 'jupyterlab', 'nteract', 'vscode',\n",
      "         'notebook', 'notebook_connected', 'kaggle', 'azure', 'colab',\n",
      "         'cocalc', 'databricks', 'json', 'png', 'jpeg', 'jpg', 'svg',\n",
      "         'pdf', 'browser', 'firefox', 'chrome', 'chromium', 'iframe',\n",
      "         'iframe_connected', 'sphinx_gallery', 'sphinx_gallery_png']\n",
      "\n"
     ]
    }
   ],
   "source": [
    "import os, ast, json, uuid, re\n",
    "import numpy as np\n",
    "import pandas as pd\n",
    "import geopandas\n",
    "\n",
    "import matplotlib.pyplot as plt\n",
    "import seaborn as sns\n",
    "import plotly.graph_objects as go\n",
    "import plotly.express as px\n",
    "import plotly.io as pio\n",
    "pio.renderers.default = \"browser\"\n",
    "print(pio.renderers)"
   ]
  },
  {
   "cell_type": "code",
   "execution_count": 23,
   "id": "b9350922-51bc-4532-935b-7a2cc4286b1e",
   "metadata": {},
   "outputs": [],
   "source": [
    "pd.set_option('display.max_columns', None)\n",
    "sns.set_theme()"
   ]
  },
  {
   "cell_type": "code",
   "execution_count": 2,
   "id": "a12530d6-8fd7-4b37-99a2-05af7801e0b6",
   "metadata": {},
   "outputs": [],
   "source": [
    "# path for work place\n",
    "csv_path = \"C:/Users/user/Downloads/dist-rep-wran-ampcode-v4.csv\""
   ]
  },
  {
   "cell_type": "code",
   "execution_count": 4,
   "id": "c5e8268d-ef82-4f66-ae72-188c37127e52",
   "metadata": {},
   "outputs": [],
   "source": [
    "df = pd.read_csv(csv_path)"
   ]
  },
  {
   "cell_type": "code",
   "execution_count": 6,
   "id": "f03ba67e-ad04-4b7a-be06-2f9cfb45f81a",
   "metadata": {},
   "outputs": [],
   "source": [
    "df.drop([\"Unnamed: 0.1\", \"Unnamed: 0\"], axis=1, inplace=True)"
   ]
  },
  {
   "cell_type": "code",
   "execution_count": 76,
   "id": "da31fdf8-e4c0-4eb8-9c61-a2524beb5ebf",
   "metadata": {
    "collapsed": true,
    "jupyter": {
     "outputs_hidden": true
    }
   },
   "outputs": [
    {
     "data": {
      "text/html": [
       "<div>\n",
       "<style scoped>\n",
       "    .dataframe tbody tr th:only-of-type {\n",
       "        vertical-align: middle;\n",
       "    }\n",
       "\n",
       "    .dataframe tbody tr th {\n",
       "        vertical-align: top;\n",
       "    }\n",
       "\n",
       "    .dataframe thead th {\n",
       "        text-align: right;\n",
       "    }\n",
       "</style>\n",
       "<table border=\"1\" class=\"dataframe\">\n",
       "  <thead>\n",
       "    <tr style=\"text-align: right;\">\n",
       "      <th></th>\n",
       "      <th>ReportDisburseNarcoticBeYear</th>\n",
       "      <th>ReportDisburseNarcoticMonth</th>\n",
       "      <th>ProductTypeName</th>\n",
       "      <th>MonthlyReportNarcoticName</th>\n",
       "      <th>MonthlyReportNarcoticBalanceForwardValue</th>\n",
       "      <th>MonthlyReportNarcoticReceiveValue</th>\n",
       "      <th>MonthlyReportNarcoticPaidValue</th>\n",
       "      <th>MonthlyReportNarcoticRemainValue</th>\n",
       "      <th>ReferCustomerName</th>\n",
       "      <th>CustomerAddressProvinceName</th>\n",
       "      <th>CustomerTypeName</th>\n",
       "      <th>ReportDisburseNarcoticRecordType</th>\n",
       "      <th>CreateDateTime</th>\n",
       "      <th>ReportDisburseNarcoticRequestorName</th>\n",
       "      <th>SendReportDate</th>\n",
       "      <th>uuid_x</th>\n",
       "      <th>uuid_y</th>\n",
       "      <th>fullAddress</th>\n",
       "      <th>formatted_address</th>\n",
       "      <th>location_type</th>\n",
       "      <th>place_id</th>\n",
       "      <th>lat</th>\n",
       "      <th>lng</th>\n",
       "      <th>types</th>\n",
       "      <th>zip_code</th>\n",
       "      <th>district_name</th>\n",
       "      <th>amp_code</th>\n",
       "      <th>report_ce_year</th>\n",
       "    </tr>\n",
       "  </thead>\n",
       "  <tbody>\n",
       "    <tr>\n",
       "      <th>0</th>\n",
       "      <td>2567.0</td>\n",
       "      <td>1</td>\n",
       "      <td>(วจ. 2) วัตถุออกฤทธิ์ในประเภท 2</td>\n",
       "      <td>Alprazolam tablets 0.25 mg (Polipharm)</td>\n",
       "      <td>1829.0</td>\n",
       "      <td>0.0</td>\n",
       "      <td>500.0</td>\n",
       "      <td>1329.0</td>\n",
       "      <td>โรงพยาบาล ศรีประจันต์</td>\n",
       "      <td>สุพรรณบุรี</td>\n",
       "      <td>สถานพยาบาลของรัฐ</td>\n",
       "      <td>RECORD</td>\n",
       "      <td>16/03/2024 14:43 น.</td>\n",
       "      <td>นางสาว สมัชญา บุญขวัญดี</td>\n",
       "      <td>2024-03-16</td>\n",
       "      <td>ddb6e8dd-53a5-44c4-b727-df5d5884e7f8</td>\n",
       "      <td>ddb6e8dd-53a5-44c4-b727-df5d5884e7f8</td>\n",
       "      <td>218 ถนนสุพรรณบุรี-ชัยนาถ แขวงวังน้ำซับ เขตศรีป...</td>\n",
       "      <td>218 สุพรรณบุรี - ชัยนาท Tambon Si Prachan, Amp...</td>\n",
       "      <td>ROOFTOP</td>\n",
       "      <td>ChIJ7dkWP78k4jAR5xZD6aeOngA</td>\n",
       "      <td>14.641639</td>\n",
       "      <td>100.149439</td>\n",
       "      <td>premise,street_address</td>\n",
       "      <td>72140</td>\n",
       "      <td>ศรีประจันต์</td>\n",
       "      <td>7205</td>\n",
       "      <td>2024-01-31</td>\n",
       "    </tr>\n",
       "    <tr>\n",
       "      <th>1</th>\n",
       "      <td>2567.0</td>\n",
       "      <td>1</td>\n",
       "      <td>(วจ. 2) วัตถุออกฤทธิ์ในประเภท 2</td>\n",
       "      <td>Alprazolam tablets 0.5 mg (Polipharm)</td>\n",
       "      <td>500.0</td>\n",
       "      <td>0.0</td>\n",
       "      <td>0.0</td>\n",
       "      <td>500.0</td>\n",
       "      <td>คลินิกเวชกรรมด็อกเตอร์ป่าตองวรเวช</td>\n",
       "      <td>ภูเก็ต</td>\n",
       "      <td>คลินิก</td>\n",
       "      <td>RECORD</td>\n",
       "      <td>14/03/2024 9:08 น.</td>\n",
       "      <td>นางสาว จริยา บัวศรี</td>\n",
       "      <td>2024-03-14</td>\n",
       "      <td>efd5c13a-af08-46be-8591-843fec8306a9</td>\n",
       "      <td>82862aaa-36cd-40fc-9c51-222b2401a4b5</td>\n",
       "      <td>47/14-15 ถนนราษฎร์อุทิศ 200 ปี ตำบลป่าตอง อำเภ...</td>\n",
       "      <td>Rat Uthit Song Roi Pi Rd, Tambon Patong, Ampho...</td>\n",
       "      <td>GEOMETRIC_CENTER</td>\n",
       "      <td>ChIJc_7cxrw6UDARWxKMiwN1tDQ</td>\n",
       "      <td>7.894495</td>\n",
       "      <td>98.298619</td>\n",
       "      <td>route</td>\n",
       "      <td>83150</td>\n",
       "      <td>กะทู้</td>\n",
       "      <td>8302</td>\n",
       "      <td>2024-01-31</td>\n",
       "    </tr>\n",
       "    <tr>\n",
       "      <th>2</th>\n",
       "      <td>2567.0</td>\n",
       "      <td>1</td>\n",
       "      <td>(วจ. 2) วัตถุออกฤทธิ์ในประเภท 2</td>\n",
       "      <td>Alprazolam tablets 0.5 mg (Polipharm)</td>\n",
       "      <td>1889.0</td>\n",
       "      <td>0.0</td>\n",
       "      <td>612.0</td>\n",
       "      <td>1277.0</td>\n",
       "      <td>โรงพยาบาลซานคามิลโลโรงพยาบาลทั่วไปขนาดใหญ่</td>\n",
       "      <td>ราชบุรี</td>\n",
       "      <td>โรงพยาบาลเอกชน</td>\n",
       "      <td>RECORD</td>\n",
       "      <td>28/02/2024 13:12 น.</td>\n",
       "      <td>นางสาว จริยา บัวศรี</td>\n",
       "      <td>2024-02-28</td>\n",
       "      <td>aa40eacf-4e16-489f-bf4b-bba34bd86944</td>\n",
       "      <td>15666bbc-9341-40ae-b42b-c489288a7503</td>\n",
       "      <td>31 ถนนอุดมพิทยา ตำบลสวนกล้วย อำเภอบ้านโป่ง ราช...</td>\n",
       "      <td>31 Soi Udum Pitthaya Khang Rong Rian Hok Heng,...</td>\n",
       "      <td>RANGE_INTERPOLATED</td>\n",
       "      <td>EnUzMSBTb2kgVWR1bSBQaXR0aGF5YSBLaGFuZyBSb25nIF...</td>\n",
       "      <td>13.813480</td>\n",
       "      <td>99.875546</td>\n",
       "      <td>street_address</td>\n",
       "      <td>70110</td>\n",
       "      <td>บ้านโป่ง</td>\n",
       "      <td>7005</td>\n",
       "      <td>2024-01-31</td>\n",
       "    </tr>\n",
       "    <tr>\n",
       "      <th>3</th>\n",
       "      <td>2567.0</td>\n",
       "      <td>1</td>\n",
       "      <td>(วจ. 2) วัตถุออกฤทธิ์ในประเภท 2</td>\n",
       "      <td>Alprazolam tablets 0.25 mg (Polipharm)</td>\n",
       "      <td>310.0</td>\n",
       "      <td>2000.0</td>\n",
       "      <td>465.0</td>\n",
       "      <td>1845.0</td>\n",
       "      <td>โรงพยาบาล บางปะกอก 3 โรงพยาบาลทั่วไปขนาดใหญ่</td>\n",
       "      <td>สมุทรปราการ</td>\n",
       "      <td>โรงพยาบาลเอกชน</td>\n",
       "      <td>RECORD</td>\n",
       "      <td>16/02/2024 9:24 น.</td>\n",
       "      <td>นางสาว จริยา บัวศรี</td>\n",
       "      <td>2024-02-16</td>\n",
       "      <td>e5062c3e-861b-44df-9fd6-459e62272db1</td>\n",
       "      <td>e5062c3e-861b-44df-9fd6-459e62272db1</td>\n",
       "      <td>27/14 หมู่ 10 ถนนสุขสวัสดิ์ แขวงบางครุ เขตพระป...</td>\n",
       "      <td>Thanon Suk Sawat, Thailand</td>\n",
       "      <td>GEOMETRIC_CENTER</td>\n",
       "      <td>ChIJ73Yei16h4jARTTUpslTDs5A</td>\n",
       "      <td>13.622237</td>\n",
       "      <td>100.539377</td>\n",
       "      <td>route</td>\n",
       "      <td>10130</td>\n",
       "      <td>พระประแดง</td>\n",
       "      <td>1104</td>\n",
       "      <td>2024-01-31</td>\n",
       "    </tr>\n",
       "    <tr>\n",
       "      <th>4</th>\n",
       "      <td>2567.0</td>\n",
       "      <td>1</td>\n",
       "      <td>(วจ. 2) วัตถุออกฤทธิ์ในประเภท 2</td>\n",
       "      <td>Alprazolam tablets 0.5 mg (Polipharm)</td>\n",
       "      <td>754.0</td>\n",
       "      <td>3000.0</td>\n",
       "      <td>957.0</td>\n",
       "      <td>797.0</td>\n",
       "      <td>โรงพยาบาล บางปะกอก 3 โรงพยาบาลทั่วไปขนาดใหญ่</td>\n",
       "      <td>สมุทรปราการ</td>\n",
       "      <td>โรงพยาบาลเอกชน</td>\n",
       "      <td>RECORD</td>\n",
       "      <td>16/02/2024 9:24 น.</td>\n",
       "      <td>นางสาว จริยา บัวศรี</td>\n",
       "      <td>2024-02-16</td>\n",
       "      <td>f84ad883-2bea-4b36-ae4d-0c0059ee6697</td>\n",
       "      <td>e5062c3e-861b-44df-9fd6-459e62272db1</td>\n",
       "      <td>27/14 หมู่ 10 ถนนสุขสวัสดิ์ แขวงบางครุ เขตพระป...</td>\n",
       "      <td>Thanon Suk Sawat, Thailand</td>\n",
       "      <td>GEOMETRIC_CENTER</td>\n",
       "      <td>ChIJ73Yei16h4jARTTUpslTDs5A</td>\n",
       "      <td>13.622237</td>\n",
       "      <td>100.539377</td>\n",
       "      <td>route</td>\n",
       "      <td>10130</td>\n",
       "      <td>พระประแดง</td>\n",
       "      <td>1104</td>\n",
       "      <td>2024-01-31</td>\n",
       "    </tr>\n",
       "    <tr>\n",
       "      <th>...</th>\n",
       "      <td>...</td>\n",
       "      <td>...</td>\n",
       "      <td>...</td>\n",
       "      <td>...</td>\n",
       "      <td>...</td>\n",
       "      <td>...</td>\n",
       "      <td>...</td>\n",
       "      <td>...</td>\n",
       "      <td>...</td>\n",
       "      <td>...</td>\n",
       "      <td>...</td>\n",
       "      <td>...</td>\n",
       "      <td>...</td>\n",
       "      <td>...</td>\n",
       "      <td>...</td>\n",
       "      <td>...</td>\n",
       "      <td>...</td>\n",
       "      <td>...</td>\n",
       "      <td>...</td>\n",
       "      <td>...</td>\n",
       "      <td>...</td>\n",
       "      <td>...</td>\n",
       "      <td>...</td>\n",
       "      <td>...</td>\n",
       "      <td>...</td>\n",
       "      <td>...</td>\n",
       "      <td>...</td>\n",
       "      <td>...</td>\n",
       "    </tr>\n",
       "    <tr>\n",
       "      <th>28174</th>\n",
       "      <td>2567.0</td>\n",
       "      <td>12</td>\n",
       "      <td>(วจ. 2) วัตถุออกฤทธิ์ในประเภท 2</td>\n",
       "      <td>Alprazolam tablet 1.0 mg (Polipharm) (100 tab/...</td>\n",
       "      <td>949.0</td>\n",
       "      <td>0.0</td>\n",
       "      <td>342.0</td>\n",
       "      <td>607.0</td>\n",
       "      <td>หมอกิ๊ฟลันสหคลินิก</td>\n",
       "      <td>นราธิวาส</td>\n",
       "      <td>คลินิก</td>\n",
       "      <td>ONLINE</td>\n",
       "      <td>10/01/2025 15:26 น.</td>\n",
       "      <td>นางสาว อารีนา  หะยีวาเงาะ</td>\n",
       "      <td>2025-01-10</td>\n",
       "      <td>2ae8194a-7022-4837-88b3-9baaab86a58e</td>\n",
       "      <td>9551310e-ba2a-48c8-8f68-14f680585379</td>\n",
       "      <td>354/23 ถนนระแงะมรรคา ตำบลบางนาค อำเภอเมืองนราธ...</td>\n",
       "      <td>354 Thanon Rangae Makkha, Tambon Bang Nak, Amp...</td>\n",
       "      <td>ROOFTOP</td>\n",
       "      <td>ChIJ8aQTNLzxszERwF2-kBj0C_A</td>\n",
       "      <td>6.412776</td>\n",
       "      <td>101.823887</td>\n",
       "      <td>street_address</td>\n",
       "      <td>96000</td>\n",
       "      <td>เมืองนราธิวาส</td>\n",
       "      <td>9601</td>\n",
       "      <td>2024-12-31</td>\n",
       "    </tr>\n",
       "    <tr>\n",
       "      <th>28175</th>\n",
       "      <td>2567.0</td>\n",
       "      <td>12</td>\n",
       "      <td>(วจ. 2) วัตถุออกฤทธิ์ในประเภท 2</td>\n",
       "      <td>Alprazolam tablet 1.0 mg (Polipharm) (100 tab/...</td>\n",
       "      <td>949.0</td>\n",
       "      <td>0.0</td>\n",
       "      <td>342.0</td>\n",
       "      <td>607.0</td>\n",
       "      <td>หมอกิ๊ฟลันสหคลินิก</td>\n",
       "      <td>นราธิวาส</td>\n",
       "      <td>คลินิก</td>\n",
       "      <td>ONLINE</td>\n",
       "      <td>10/01/2025 15:26 น.</td>\n",
       "      <td>นางสาว อารีนา  หะยีวาเงาะ</td>\n",
       "      <td>2025-01-10</td>\n",
       "      <td>2ae8194a-7022-4837-88b3-9baaab86a58e</td>\n",
       "      <td>d5ca07fe-e5b9-46b9-aeae-e2b3a69552d7</td>\n",
       "      <td>354/23 ถนนระแงะมรรคา ตำบลบางนาค อำเภอเมืองนราธ...</td>\n",
       "      <td>354 Thanon Rangae Makkha, Tambon Bang Nak, Amp...</td>\n",
       "      <td>ROOFTOP</td>\n",
       "      <td>ChIJ8aQTNLzxszERwF2-kBj0C_A</td>\n",
       "      <td>6.412776</td>\n",
       "      <td>101.823887</td>\n",
       "      <td>street_address</td>\n",
       "      <td>96000</td>\n",
       "      <td>เมืองนราธิวาส</td>\n",
       "      <td>9601</td>\n",
       "      <td>2024-12-31</td>\n",
       "    </tr>\n",
       "    <tr>\n",
       "      <th>28176</th>\n",
       "      <td>2567.0</td>\n",
       "      <td>12</td>\n",
       "      <td>(วจ. 2) วัตถุออกฤทธิ์ในประเภท 2</td>\n",
       "      <td>Alprazolam tablets 0.25 mg (Polipharm)</td>\n",
       "      <td>6391.0</td>\n",
       "      <td>0.0</td>\n",
       "      <td>2386.0</td>\n",
       "      <td>4005.0</td>\n",
       "      <td>โรงพยาบาล พญาไท 2 โรงพยาบาลทั่วไปขนาดใหญ่</td>\n",
       "      <td>กรุงเทพมหานคร</td>\n",
       "      <td>โรงพยาบาลเอกชน</td>\n",
       "      <td>RECORD</td>\n",
       "      <td>28/01/2025 9:31 น.</td>\n",
       "      <td>นาง จริยา  บัวศรี</td>\n",
       "      <td>2025-01-28</td>\n",
       "      <td>07a29e44-fce6-4513-8262-3f88c851d546</td>\n",
       "      <td>a052a759-7cfa-4daf-b965-d05043a5acc5</td>\n",
       "      <td>943-943/1 ถนนพหลโยธิน แขวงพญาไท เขตพญาไท กรุงเ...</td>\n",
       "      <td>943 Phahon Yothin Road, Phaya Thai, Khet Phaya...</td>\n",
       "      <td>ROOFTOP</td>\n",
       "      <td>ChIJDeNU9K-e4jARO9-jMvcxZlA</td>\n",
       "      <td>13.769745</td>\n",
       "      <td>100.540678</td>\n",
       "      <td>premise,street_address</td>\n",
       "      <td>10400</td>\n",
       "      <td>พญาไท</td>\n",
       "      <td>1014</td>\n",
       "      <td>2024-12-31</td>\n",
       "    </tr>\n",
       "    <tr>\n",
       "      <th>28177</th>\n",
       "      <td>2567.0</td>\n",
       "      <td>12</td>\n",
       "      <td>(วจ. 2) วัตถุออกฤทธิ์ในประเภท 2</td>\n",
       "      <td>Alprazolam tablet 1.0 mg (Polipharm) (100 tab/...</td>\n",
       "      <td>9345.0</td>\n",
       "      <td>0.0</td>\n",
       "      <td>3748.0</td>\n",
       "      <td>5597.0</td>\n",
       "      <td>โรงพยาบาล พญาไท 2 โรงพยาบาลทั่วไปขนาดใหญ่</td>\n",
       "      <td>กรุงเทพมหานคร</td>\n",
       "      <td>โรงพยาบาลเอกชน</td>\n",
       "      <td>RECORD</td>\n",
       "      <td>28/01/2025 9:31 น.</td>\n",
       "      <td>นาง จริยา  บัวศรี</td>\n",
       "      <td>2025-01-28</td>\n",
       "      <td>1fbf75eb-0789-4d50-b7fc-ca87bdf6b76d</td>\n",
       "      <td>a052a759-7cfa-4daf-b965-d05043a5acc5</td>\n",
       "      <td>943-943/1 ถนนพหลโยธิน แขวงพญาไท เขตพญาไท กรุงเ...</td>\n",
       "      <td>943 Phahon Yothin Road, Phaya Thai, Khet Phaya...</td>\n",
       "      <td>ROOFTOP</td>\n",
       "      <td>ChIJDeNU9K-e4jARO9-jMvcxZlA</td>\n",
       "      <td>13.769745</td>\n",
       "      <td>100.540678</td>\n",
       "      <td>premise,street_address</td>\n",
       "      <td>10400</td>\n",
       "      <td>พญาไท</td>\n",
       "      <td>1014</td>\n",
       "      <td>2024-12-31</td>\n",
       "    </tr>\n",
       "    <tr>\n",
       "      <th>28178</th>\n",
       "      <td>2567.0</td>\n",
       "      <td>12</td>\n",
       "      <td>(วจ. 2) วัตถุออกฤทธิ์ในประเภท 2</td>\n",
       "      <td>Alprazolam tablets 0.5 mg (Polipharm)</td>\n",
       "      <td>11188.0</td>\n",
       "      <td>0.0</td>\n",
       "      <td>4407.0</td>\n",
       "      <td>6781.0</td>\n",
       "      <td>โรงพยาบาล พญาไท 2 โรงพยาบาลทั่วไปขนาดใหญ่</td>\n",
       "      <td>กรุงเทพมหานคร</td>\n",
       "      <td>โรงพยาบาลเอกชน</td>\n",
       "      <td>RECORD</td>\n",
       "      <td>28/01/2025 9:31 น.</td>\n",
       "      <td>นาง จริยา  บัวศรี</td>\n",
       "      <td>2025-01-28</td>\n",
       "      <td>0ecb1383-4c8e-457d-90a1-4242ea5f5fdf</td>\n",
       "      <td>a052a759-7cfa-4daf-b965-d05043a5acc5</td>\n",
       "      <td>943-943/1 ถนนพหลโยธิน แขวงพญาไท เขตพญาไท กรุงเ...</td>\n",
       "      <td>943 Phahon Yothin Road, Phaya Thai, Khet Phaya...</td>\n",
       "      <td>ROOFTOP</td>\n",
       "      <td>ChIJDeNU9K-e4jARO9-jMvcxZlA</td>\n",
       "      <td>13.769745</td>\n",
       "      <td>100.540678</td>\n",
       "      <td>premise,street_address</td>\n",
       "      <td>10400</td>\n",
       "      <td>พญาไท</td>\n",
       "      <td>1014</td>\n",
       "      <td>2024-12-31</td>\n",
       "    </tr>\n",
       "  </tbody>\n",
       "</table>\n",
       "<p>28179 rows × 28 columns</p>\n",
       "</div>"
      ],
      "text/plain": [
       "       ReportDisburseNarcoticBeYear ReportDisburseNarcoticMonth  \\\n",
       "0                            2567.0                           1   \n",
       "1                            2567.0                           1   \n",
       "2                            2567.0                           1   \n",
       "3                            2567.0                           1   \n",
       "4                            2567.0                           1   \n",
       "...                             ...                         ...   \n",
       "28174                        2567.0                          12   \n",
       "28175                        2567.0                          12   \n",
       "28176                        2567.0                          12   \n",
       "28177                        2567.0                          12   \n",
       "28178                        2567.0                          12   \n",
       "\n",
       "                       ProductTypeName  \\\n",
       "0      (วจ. 2) วัตถุออกฤทธิ์ในประเภท 2   \n",
       "1      (วจ. 2) วัตถุออกฤทธิ์ในประเภท 2   \n",
       "2      (วจ. 2) วัตถุออกฤทธิ์ในประเภท 2   \n",
       "3      (วจ. 2) วัตถุออกฤทธิ์ในประเภท 2   \n",
       "4      (วจ. 2) วัตถุออกฤทธิ์ในประเภท 2   \n",
       "...                                ...   \n",
       "28174  (วจ. 2) วัตถุออกฤทธิ์ในประเภท 2   \n",
       "28175  (วจ. 2) วัตถุออกฤทธิ์ในประเภท 2   \n",
       "28176  (วจ. 2) วัตถุออกฤทธิ์ในประเภท 2   \n",
       "28177  (วจ. 2) วัตถุออกฤทธิ์ในประเภท 2   \n",
       "28178  (วจ. 2) วัตถุออกฤทธิ์ในประเภท 2   \n",
       "\n",
       "                               MonthlyReportNarcoticName  \\\n",
       "0                 Alprazolam tablets 0.25 mg (Polipharm)   \n",
       "1                  Alprazolam tablets 0.5 mg (Polipharm)   \n",
       "2                  Alprazolam tablets 0.5 mg (Polipharm)   \n",
       "3                 Alprazolam tablets 0.25 mg (Polipharm)   \n",
       "4                  Alprazolam tablets 0.5 mg (Polipharm)   \n",
       "...                                                  ...   \n",
       "28174  Alprazolam tablet 1.0 mg (Polipharm) (100 tab/...   \n",
       "28175  Alprazolam tablet 1.0 mg (Polipharm) (100 tab/...   \n",
       "28176             Alprazolam tablets 0.25 mg (Polipharm)   \n",
       "28177  Alprazolam tablet 1.0 mg (Polipharm) (100 tab/...   \n",
       "28178              Alprazolam tablets 0.5 mg (Polipharm)   \n",
       "\n",
       "       MonthlyReportNarcoticBalanceForwardValue  \\\n",
       "0                                        1829.0   \n",
       "1                                         500.0   \n",
       "2                                        1889.0   \n",
       "3                                         310.0   \n",
       "4                                         754.0   \n",
       "...                                         ...   \n",
       "28174                                     949.0   \n",
       "28175                                     949.0   \n",
       "28176                                    6391.0   \n",
       "28177                                    9345.0   \n",
       "28178                                   11188.0   \n",
       "\n",
       "       MonthlyReportNarcoticReceiveValue  MonthlyReportNarcoticPaidValue  \\\n",
       "0                                    0.0                           500.0   \n",
       "1                                    0.0                             0.0   \n",
       "2                                    0.0                           612.0   \n",
       "3                                 2000.0                           465.0   \n",
       "4                                 3000.0                           957.0   \n",
       "...                                  ...                             ...   \n",
       "28174                                0.0                           342.0   \n",
       "28175                                0.0                           342.0   \n",
       "28176                                0.0                          2386.0   \n",
       "28177                                0.0                          3748.0   \n",
       "28178                                0.0                          4407.0   \n",
       "\n",
       "       MonthlyReportNarcoticRemainValue  \\\n",
       "0                                1329.0   \n",
       "1                                 500.0   \n",
       "2                                1277.0   \n",
       "3                                1845.0   \n",
       "4                                 797.0   \n",
       "...                                 ...   \n",
       "28174                             607.0   \n",
       "28175                             607.0   \n",
       "28176                            4005.0   \n",
       "28177                            5597.0   \n",
       "28178                            6781.0   \n",
       "\n",
       "                                  ReferCustomerName  \\\n",
       "0                             โรงพยาบาล ศรีประจันต์   \n",
       "1                 คลินิกเวชกรรมด็อกเตอร์ป่าตองวรเวช   \n",
       "2        โรงพยาบาลซานคามิลโลโรงพยาบาลทั่วไปขนาดใหญ่   \n",
       "3      โรงพยาบาล บางปะกอก 3 โรงพยาบาลทั่วไปขนาดใหญ่   \n",
       "4      โรงพยาบาล บางปะกอก 3 โรงพยาบาลทั่วไปขนาดใหญ่   \n",
       "...                                             ...   \n",
       "28174                            หมอกิ๊ฟลันสหคลินิก   \n",
       "28175                            หมอกิ๊ฟลันสหคลินิก   \n",
       "28176     โรงพยาบาล พญาไท 2 โรงพยาบาลทั่วไปขนาดใหญ่   \n",
       "28177     โรงพยาบาล พญาไท 2 โรงพยาบาลทั่วไปขนาดใหญ่   \n",
       "28178     โรงพยาบาล พญาไท 2 โรงพยาบาลทั่วไปขนาดใหญ่   \n",
       "\n",
       "      CustomerAddressProvinceName  CustomerTypeName  \\\n",
       "0                      สุพรรณบุรี  สถานพยาบาลของรัฐ   \n",
       "1                          ภูเก็ต            คลินิก   \n",
       "2                         ราชบุรี    โรงพยาบาลเอกชน   \n",
       "3                     สมุทรปราการ    โรงพยาบาลเอกชน   \n",
       "4                     สมุทรปราการ    โรงพยาบาลเอกชน   \n",
       "...                           ...               ...   \n",
       "28174                    นราธิวาส            คลินิก   \n",
       "28175                    นราธิวาส            คลินิก   \n",
       "28176               กรุงเทพมหานคร    โรงพยาบาลเอกชน   \n",
       "28177               กรุงเทพมหานคร    โรงพยาบาลเอกชน   \n",
       "28178               กรุงเทพมหานคร    โรงพยาบาลเอกชน   \n",
       "\n",
       "      ReportDisburseNarcoticRecordType       CreateDateTime  \\\n",
       "0                               RECORD  16/03/2024 14:43 น.   \n",
       "1                               RECORD   14/03/2024 9:08 น.   \n",
       "2                               RECORD  28/02/2024 13:12 น.   \n",
       "3                               RECORD   16/02/2024 9:24 น.   \n",
       "4                               RECORD   16/02/2024 9:24 น.   \n",
       "...                                ...                  ...   \n",
       "28174                           ONLINE  10/01/2025 15:26 น.   \n",
       "28175                           ONLINE  10/01/2025 15:26 น.   \n",
       "28176                           RECORD   28/01/2025 9:31 น.   \n",
       "28177                           RECORD   28/01/2025 9:31 น.   \n",
       "28178                           RECORD   28/01/2025 9:31 น.   \n",
       "\n",
       "      ReportDisburseNarcoticRequestorName SendReportDate  \\\n",
       "0                 นางสาว สมัชญา บุญขวัญดี     2024-03-16   \n",
       "1                     นางสาว จริยา บัวศรี     2024-03-14   \n",
       "2                     นางสาว จริยา บัวศรี     2024-02-28   \n",
       "3                     นางสาว จริยา บัวศรี     2024-02-16   \n",
       "4                     นางสาว จริยา บัวศรี     2024-02-16   \n",
       "...                                   ...            ...   \n",
       "28174           นางสาว อารีนา  หะยีวาเงาะ     2025-01-10   \n",
       "28175           นางสาว อารีนา  หะยีวาเงาะ     2025-01-10   \n",
       "28176                   นาง จริยา  บัวศรี     2025-01-28   \n",
       "28177                   นาง จริยา  บัวศรี     2025-01-28   \n",
       "28178                   นาง จริยา  บัวศรี     2025-01-28   \n",
       "\n",
       "                                     uuid_x  \\\n",
       "0      ddb6e8dd-53a5-44c4-b727-df5d5884e7f8   \n",
       "1      efd5c13a-af08-46be-8591-843fec8306a9   \n",
       "2      aa40eacf-4e16-489f-bf4b-bba34bd86944   \n",
       "3      e5062c3e-861b-44df-9fd6-459e62272db1   \n",
       "4      f84ad883-2bea-4b36-ae4d-0c0059ee6697   \n",
       "...                                     ...   \n",
       "28174  2ae8194a-7022-4837-88b3-9baaab86a58e   \n",
       "28175  2ae8194a-7022-4837-88b3-9baaab86a58e   \n",
       "28176  07a29e44-fce6-4513-8262-3f88c851d546   \n",
       "28177  1fbf75eb-0789-4d50-b7fc-ca87bdf6b76d   \n",
       "28178  0ecb1383-4c8e-457d-90a1-4242ea5f5fdf   \n",
       "\n",
       "                                     uuid_y  \\\n",
       "0      ddb6e8dd-53a5-44c4-b727-df5d5884e7f8   \n",
       "1      82862aaa-36cd-40fc-9c51-222b2401a4b5   \n",
       "2      15666bbc-9341-40ae-b42b-c489288a7503   \n",
       "3      e5062c3e-861b-44df-9fd6-459e62272db1   \n",
       "4      e5062c3e-861b-44df-9fd6-459e62272db1   \n",
       "...                                     ...   \n",
       "28174  9551310e-ba2a-48c8-8f68-14f680585379   \n",
       "28175  d5ca07fe-e5b9-46b9-aeae-e2b3a69552d7   \n",
       "28176  a052a759-7cfa-4daf-b965-d05043a5acc5   \n",
       "28177  a052a759-7cfa-4daf-b965-d05043a5acc5   \n",
       "28178  a052a759-7cfa-4daf-b965-d05043a5acc5   \n",
       "\n",
       "                                             fullAddress  \\\n",
       "0      218 ถนนสุพรรณบุรี-ชัยนาถ แขวงวังน้ำซับ เขตศรีป...   \n",
       "1      47/14-15 ถนนราษฎร์อุทิศ 200 ปี ตำบลป่าตอง อำเภ...   \n",
       "2      31 ถนนอุดมพิทยา ตำบลสวนกล้วย อำเภอบ้านโป่ง ราช...   \n",
       "3      27/14 หมู่ 10 ถนนสุขสวัสดิ์ แขวงบางครุ เขตพระป...   \n",
       "4      27/14 หมู่ 10 ถนนสุขสวัสดิ์ แขวงบางครุ เขตพระป...   \n",
       "...                                                  ...   \n",
       "28174  354/23 ถนนระแงะมรรคา ตำบลบางนาค อำเภอเมืองนราธ...   \n",
       "28175  354/23 ถนนระแงะมรรคา ตำบลบางนาค อำเภอเมืองนราธ...   \n",
       "28176  943-943/1 ถนนพหลโยธิน แขวงพญาไท เขตพญาไท กรุงเ...   \n",
       "28177  943-943/1 ถนนพหลโยธิน แขวงพญาไท เขตพญาไท กรุงเ...   \n",
       "28178  943-943/1 ถนนพหลโยธิน แขวงพญาไท เขตพญาไท กรุงเ...   \n",
       "\n",
       "                                       formatted_address       location_type  \\\n",
       "0      218 สุพรรณบุรี - ชัยนาท Tambon Si Prachan, Amp...             ROOFTOP   \n",
       "1      Rat Uthit Song Roi Pi Rd, Tambon Patong, Ampho...    GEOMETRIC_CENTER   \n",
       "2      31 Soi Udum Pitthaya Khang Rong Rian Hok Heng,...  RANGE_INTERPOLATED   \n",
       "3                             Thanon Suk Sawat, Thailand    GEOMETRIC_CENTER   \n",
       "4                             Thanon Suk Sawat, Thailand    GEOMETRIC_CENTER   \n",
       "...                                                  ...                 ...   \n",
       "28174  354 Thanon Rangae Makkha, Tambon Bang Nak, Amp...             ROOFTOP   \n",
       "28175  354 Thanon Rangae Makkha, Tambon Bang Nak, Amp...             ROOFTOP   \n",
       "28176  943 Phahon Yothin Road, Phaya Thai, Khet Phaya...             ROOFTOP   \n",
       "28177  943 Phahon Yothin Road, Phaya Thai, Khet Phaya...             ROOFTOP   \n",
       "28178  943 Phahon Yothin Road, Phaya Thai, Khet Phaya...             ROOFTOP   \n",
       "\n",
       "                                                place_id        lat  \\\n",
       "0                            ChIJ7dkWP78k4jAR5xZD6aeOngA  14.641639   \n",
       "1                            ChIJc_7cxrw6UDARWxKMiwN1tDQ   7.894495   \n",
       "2      EnUzMSBTb2kgVWR1bSBQaXR0aGF5YSBLaGFuZyBSb25nIF...  13.813480   \n",
       "3                            ChIJ73Yei16h4jARTTUpslTDs5A  13.622237   \n",
       "4                            ChIJ73Yei16h4jARTTUpslTDs5A  13.622237   \n",
       "...                                                  ...        ...   \n",
       "28174                        ChIJ8aQTNLzxszERwF2-kBj0C_A   6.412776   \n",
       "28175                        ChIJ8aQTNLzxszERwF2-kBj0C_A   6.412776   \n",
       "28176                        ChIJDeNU9K-e4jARO9-jMvcxZlA  13.769745   \n",
       "28177                        ChIJDeNU9K-e4jARO9-jMvcxZlA  13.769745   \n",
       "28178                        ChIJDeNU9K-e4jARO9-jMvcxZlA  13.769745   \n",
       "\n",
       "              lng                   types  zip_code  district_name  amp_code  \\\n",
       "0      100.149439  premise,street_address     72140    ศรีประจันต์      7205   \n",
       "1       98.298619                   route     83150          กะทู้      8302   \n",
       "2       99.875546          street_address     70110       บ้านโป่ง      7005   \n",
       "3      100.539377                   route     10130      พระประแดง      1104   \n",
       "4      100.539377                   route     10130      พระประแดง      1104   \n",
       "...           ...                     ...       ...            ...       ...   \n",
       "28174  101.823887          street_address     96000  เมืองนราธิวาส      9601   \n",
       "28175  101.823887          street_address     96000  เมืองนราธิวาส      9601   \n",
       "28176  100.540678  premise,street_address     10400          พญาไท      1014   \n",
       "28177  100.540678  premise,street_address     10400          พญาไท      1014   \n",
       "28178  100.540678  premise,street_address     10400          พญาไท      1014   \n",
       "\n",
       "      report_ce_year  \n",
       "0         2024-01-31  \n",
       "1         2024-01-31  \n",
       "2         2024-01-31  \n",
       "3         2024-01-31  \n",
       "4         2024-01-31  \n",
       "...              ...  \n",
       "28174     2024-12-31  \n",
       "28175     2024-12-31  \n",
       "28176     2024-12-31  \n",
       "28177     2024-12-31  \n",
       "28178     2024-12-31  \n",
       "\n",
       "[28179 rows x 28 columns]"
      ]
     },
     "execution_count": 76,
     "metadata": {},
     "output_type": "execute_result"
    }
   ],
   "source": [
    "df"
   ]
  },
  {
   "cell_type": "code",
   "execution_count": 63,
   "id": "f2e9c24f-cbab-4258-8cd2-4824fe29c269",
   "metadata": {},
   "outputs": [],
   "source": [
    "df['report_ce_year'] = df['ReportDisburseNarcoticBeYear']-543"
   ]
  },
  {
   "cell_type": "code",
   "execution_count": 58,
   "id": "a821b06a-e56b-42fc-ab9a-2619e000c442",
   "metadata": {},
   "outputs": [
    {
     "name": "stdout",
     "output_type": "stream",
     "text": [
      "<class 'pandas.core.frame.DataFrame'>\n",
      "RangeIndex: 28179 entries, 0 to 28178\n",
      "Data columns (total 28 columns):\n",
      " #   Column                                    Non-Null Count  Dtype         \n",
      "---  ------                                    --------------  -----         \n",
      " 0   ReportDisburseNarcoticBeYear              28179 non-null  float64       \n",
      " 1   ReportDisburseNarcoticMonth               28179 non-null  float64       \n",
      " 2   ProductTypeName                           28179 non-null  object        \n",
      " 3   MonthlyReportNarcoticName                 28179 non-null  object        \n",
      " 4   MonthlyReportNarcoticBalanceForwardValue  28179 non-null  float64       \n",
      " 5   MonthlyReportNarcoticReceiveValue         28179 non-null  float64       \n",
      " 6   MonthlyReportNarcoticPaidValue            28179 non-null  float64       \n",
      " 7   MonthlyReportNarcoticRemainValue          28179 non-null  float64       \n",
      " 8   ReferCustomerName                         28179 non-null  object        \n",
      " 9   CustomerAddressProvinceName               28179 non-null  object        \n",
      " 10  CustomerTypeName                          28179 non-null  object        \n",
      " 11  ReportDisburseNarcoticRecordType          28179 non-null  object        \n",
      " 12  CreateDateTime                            28179 non-null  object        \n",
      " 13  ReportDisburseNarcoticRequestorName       28179 non-null  object        \n",
      " 14  SendReportDate                            28179 non-null  datetime64[ns]\n",
      " 15  uuid_x                                    28179 non-null  object        \n",
      " 16  uuid_y                                    28179 non-null  object        \n",
      " 17  fullAddress                               28179 non-null  object        \n",
      " 18  formatted_address                         28179 non-null  object        \n",
      " 19  location_type                             28179 non-null  object        \n",
      " 20  place_id                                  28179 non-null  object        \n",
      " 21  lat                                       28179 non-null  float64       \n",
      " 22  lng                                       28179 non-null  float64       \n",
      " 23  types                                     28179 non-null  object        \n",
      " 24  zip_code                                  28179 non-null  int64         \n",
      " 25  district_name                             28179 non-null  object        \n",
      " 26  amp_code                                  28179 non-null  int64         \n",
      " 27  report_ce_year                            28179 non-null  float64       \n",
      "dtypes: datetime64[ns](1), float64(9), int64(2), object(16)\n",
      "memory usage: 6.0+ MB\n"
     ]
    }
   ],
   "source": [
    "df.info()"
   ]
  },
  {
   "cell_type": "code",
   "execution_count": 64,
   "id": "a58886d2-b79e-45a4-897a-cb57d47f4bc4",
   "metadata": {},
   "outputs": [],
   "source": [
    "df['report_ce_year'] = df['report_ce_year'].round(0).astype(int).astype(str)"
   ]
  },
  {
   "cell_type": "code",
   "execution_count": 66,
   "id": "ad12c5bd-7eb0-4e68-a43f-376f96e2582c",
   "metadata": {},
   "outputs": [],
   "source": [
    "df['ReportDisburseNarcoticMonth'] = df['ReportDisburseNarcoticMonth'].round(0).astype(int).astype(str)"
   ]
  },
  {
   "cell_type": "code",
   "execution_count": 68,
   "id": "9a0cff86-7bf1-4862-9859-5ff24acef5ea",
   "metadata": {},
   "outputs": [],
   "source": [
    "df['report_ce_year'] = df['report_ce_year'] + '-' + df['ReportDisburseNarcoticMonth']"
   ]
  },
  {
   "cell_type": "code",
   "execution_count": 70,
   "id": "cde45bbf-f0df-45b8-bdbd-d7c0c9bf8cb1",
   "metadata": {},
   "outputs": [],
   "source": [
    "df['report_ce_year'] = pd.to_datetime(df['report_ce_year'], format='%Y-%m')"
   ]
  },
  {
   "cell_type": "code",
   "execution_count": 72,
   "id": "2548e2c8-7c1c-455b-b8b3-1dde36f491a2",
   "metadata": {},
   "outputs": [
    {
     "data": {
      "text/plain": [
       "0       2024-01-01\n",
       "1       2024-01-01\n",
       "2       2024-01-01\n",
       "3       2024-01-01\n",
       "4       2024-01-01\n",
       "           ...    \n",
       "28174   2024-12-01\n",
       "28175   2024-12-01\n",
       "28176   2024-12-01\n",
       "28177   2024-12-01\n",
       "28178   2024-12-01\n",
       "Name: report_ce_year, Length: 28179, dtype: datetime64[ns]"
      ]
     },
     "execution_count": 72,
     "metadata": {},
     "output_type": "execute_result"
    }
   ],
   "source": [
    "df['report_ce_year']"
   ]
  },
  {
   "cell_type": "code",
   "execution_count": 75,
   "id": "d1b6612a-e098-4f45-a375-93bfc2e69477",
   "metadata": {},
   "outputs": [
    {
     "data": {
      "text/plain": [
       "0       2024-01-31\n",
       "1       2024-01-31\n",
       "2       2024-01-31\n",
       "3       2024-01-31\n",
       "4       2024-01-31\n",
       "           ...    \n",
       "28174   2024-12-31\n",
       "28175   2024-12-31\n",
       "28176   2024-12-31\n",
       "28177   2024-12-31\n",
       "28178   2024-12-31\n",
       "Name: report_ce_year, Length: 28179, dtype: datetime64[ns]"
      ]
     },
     "execution_count": 75,
     "metadata": {},
     "output_type": "execute_result"
    }
   ],
   "source": [
    "df['report_ce_year'] = df['report_ce_year'] + pd.offsets.MonthEnd(0)\n",
    "df['report_ce_year']"
   ]
  },
  {
   "cell_type": "code",
   "execution_count": 54,
   "id": "23d898fc-cb89-459e-8b44-15fd6bfc1a35",
   "metadata": {},
   "outputs": [],
   "source": [
    "df['SendReportDate'] = pd.to_datetime(df['SendReportDate'])"
   ]
  },
  {
   "cell_type": "code",
   "execution_count": 55,
   "id": "21b9cf5c-791e-4547-969f-6f762ab01e86",
   "metadata": {},
   "outputs": [
    {
     "data": {
      "text/plain": [
       "Timestamp('2024-01-29 00:00:00')"
      ]
     },
     "execution_count": 55,
     "metadata": {},
     "output_type": "execute_result"
    }
   ],
   "source": [
    "df['SendReportDate'].min()"
   ]
  },
  {
   "cell_type": "code",
   "execution_count": 56,
   "id": "06435ed4-00b9-4d73-9f44-336af69b54f5",
   "metadata": {},
   "outputs": [
    {
     "data": {
      "text/plain": [
       "Timestamp('2025-06-05 00:00:00')"
      ]
     },
     "execution_count": 56,
     "metadata": {},
     "output_type": "execute_result"
    }
   ],
   "source": [
    "df['SendReportDate'].max()"
   ]
  },
  {
   "cell_type": "code",
   "execution_count": 43,
   "id": "a59aaa5b-66a4-461a-bb14-67aecd753e73",
   "metadata": {},
   "outputs": [],
   "source": [
    "sum_paid_df = df.groupby(by=['MonthlyReportNarcoticName'])['MonthlyReportNarcoticPaidValue'].sum().reset_index().sort_values(by=['MonthlyReportNarcoticPaidValue'],ascending=False)"
   ]
  },
  {
   "cell_type": "code",
   "execution_count": 44,
   "id": "c632fa86-1f8e-473b-bb85-5ff6ad523a11",
   "metadata": {},
   "outputs": [
    {
     "data": {
      "text/html": [
       "<div>\n",
       "<style scoped>\n",
       "    .dataframe tbody tr th:only-of-type {\n",
       "        vertical-align: middle;\n",
       "    }\n",
       "\n",
       "    .dataframe tbody tr th {\n",
       "        vertical-align: top;\n",
       "    }\n",
       "\n",
       "    .dataframe thead th {\n",
       "        text-align: right;\n",
       "    }\n",
       "</style>\n",
       "<table border=\"1\" class=\"dataframe\">\n",
       "  <thead>\n",
       "    <tr style=\"text-align: right;\">\n",
       "      <th></th>\n",
       "      <th>MonthlyReportNarcoticName</th>\n",
       "      <th>MonthlyReportNarcoticPaidValue</th>\n",
       "    </tr>\n",
       "  </thead>\n",
       "  <tbody>\n",
       "    <tr>\n",
       "      <th>3</th>\n",
       "      <td>Alprazolam tablets 0.5 mg (Polipharm)</td>\n",
       "      <td>15814979.0</td>\n",
       "    </tr>\n",
       "    <tr>\n",
       "      <th>0</th>\n",
       "      <td>Alprazolam tablet 1.0 mg (Polipharm) (100 tab/...</td>\n",
       "      <td>8448290.0</td>\n",
       "    </tr>\n",
       "    <tr>\n",
       "      <th>1</th>\n",
       "      <td>Alprazolam tablets 0.25 mg (Polipharm)</td>\n",
       "      <td>7918225.5</td>\n",
       "    </tr>\n",
       "    <tr>\n",
       "      <th>4</th>\n",
       "      <td>Alprazolam tablets 1 mg (Pharmasant)</td>\n",
       "      <td>1241.0</td>\n",
       "    </tr>\n",
       "    <tr>\n",
       "      <th>2</th>\n",
       "      <td>Alprazolam tablets 0.5 mg (Pharmasant)</td>\n",
       "      <td>359.0</td>\n",
       "    </tr>\n",
       "  </tbody>\n",
       "</table>\n",
       "</div>"
      ],
      "text/plain": [
       "                           MonthlyReportNarcoticName  \\\n",
       "3              Alprazolam tablets 0.5 mg (Polipharm)   \n",
       "0  Alprazolam tablet 1.0 mg (Polipharm) (100 tab/...   \n",
       "1             Alprazolam tablets 0.25 mg (Polipharm)   \n",
       "4               Alprazolam tablets 1 mg (Pharmasant)   \n",
       "2             Alprazolam tablets 0.5 mg (Pharmasant)   \n",
       "\n",
       "   MonthlyReportNarcoticPaidValue  \n",
       "3                      15814979.0  \n",
       "0                       8448290.0  \n",
       "1                       7918225.5  \n",
       "4                          1241.0  \n",
       "2                           359.0  "
      ]
     },
     "execution_count": 44,
     "metadata": {},
     "output_type": "execute_result"
    }
   ],
   "source": [
    "sum_paid_df"
   ]
  },
  {
   "cell_type": "code",
   "execution_count": 45,
   "id": "2dd988b5-f9e2-44c6-bbf6-91675902d8d1",
   "metadata": {},
   "outputs": [],
   "source": [
    "ct_df = df['MonthlyReportNarcoticName'].value_counts().reset_index()"
   ]
  },
  {
   "cell_type": "code",
   "execution_count": 46,
   "id": "d1b3b976-ca86-4f11-880e-d52ab0116bcc",
   "metadata": {},
   "outputs": [
    {
     "data": {
      "text/plain": [
       "MonthlyReportNarcoticName    Alprazolam tablets 0.5 mg (Polipharm)Alprazola...\n",
       "count                                                                    28179\n",
       "dtype: object"
      ]
     },
     "execution_count": 46,
     "metadata": {},
     "output_type": "execute_result"
    }
   ],
   "source": [
    "ct_df.sum()"
   ]
  },
  {
   "cell_type": "code",
   "execution_count": 47,
   "id": "10a2e25d-8ae5-41f7-8dee-2b874db6d9d6",
   "metadata": {},
   "outputs": [],
   "source": [
    "merge1 = sum_paid_df.merge(\n",
    "    ct_df,\n",
    "    how = 'left',\n",
    "    left_on = ['MonthlyReportNarcoticName'],\n",
    "    right_on = ['MonthlyReportNarcoticName'],\n",
    "    validate = '1:1'\n",
    ")"
   ]
  },
  {
   "cell_type": "code",
   "execution_count": 48,
   "id": "53acc251-cfd8-4a43-9056-c602f9a2b485",
   "metadata": {},
   "outputs": [
    {
     "data": {
      "text/html": [
       "<div>\n",
       "<style scoped>\n",
       "    .dataframe tbody tr th:only-of-type {\n",
       "        vertical-align: middle;\n",
       "    }\n",
       "\n",
       "    .dataframe tbody tr th {\n",
       "        vertical-align: top;\n",
       "    }\n",
       "\n",
       "    .dataframe thead th {\n",
       "        text-align: right;\n",
       "    }\n",
       "</style>\n",
       "<table border=\"1\" class=\"dataframe\">\n",
       "  <thead>\n",
       "    <tr style=\"text-align: right;\">\n",
       "      <th></th>\n",
       "      <th>MonthlyReportNarcoticName</th>\n",
       "      <th>MonthlyReportNarcoticPaidValue</th>\n",
       "      <th>count</th>\n",
       "    </tr>\n",
       "  </thead>\n",
       "  <tbody>\n",
       "    <tr>\n",
       "      <th>0</th>\n",
       "      <td>Alprazolam tablets 0.5 mg (Polipharm)</td>\n",
       "      <td>15814979.0</td>\n",
       "      <td>12179</td>\n",
       "    </tr>\n",
       "    <tr>\n",
       "      <th>1</th>\n",
       "      <td>Alprazolam tablet 1.0 mg (Polipharm) (100 tab/...</td>\n",
       "      <td>8448290.0</td>\n",
       "      <td>6996</td>\n",
       "    </tr>\n",
       "    <tr>\n",
       "      <th>2</th>\n",
       "      <td>Alprazolam tablets 0.25 mg (Polipharm)</td>\n",
       "      <td>7918225.5</td>\n",
       "      <td>8278</td>\n",
       "    </tr>\n",
       "    <tr>\n",
       "      <th>3</th>\n",
       "      <td>Alprazolam tablets 1 mg (Pharmasant)</td>\n",
       "      <td>1241.0</td>\n",
       "      <td>570</td>\n",
       "    </tr>\n",
       "    <tr>\n",
       "      <th>4</th>\n",
       "      <td>Alprazolam tablets 0.5 mg (Pharmasant)</td>\n",
       "      <td>359.0</td>\n",
       "      <td>156</td>\n",
       "    </tr>\n",
       "  </tbody>\n",
       "</table>\n",
       "</div>"
      ],
      "text/plain": [
       "                           MonthlyReportNarcoticName  \\\n",
       "0              Alprazolam tablets 0.5 mg (Polipharm)   \n",
       "1  Alprazolam tablet 1.0 mg (Polipharm) (100 tab/...   \n",
       "2             Alprazolam tablets 0.25 mg (Polipharm)   \n",
       "3               Alprazolam tablets 1 mg (Pharmasant)   \n",
       "4             Alprazolam tablets 0.5 mg (Pharmasant)   \n",
       "\n",
       "   MonthlyReportNarcoticPaidValue  count  \n",
       "0                      15814979.0  12179  \n",
       "1                       8448290.0   6996  \n",
       "2                       7918225.5   8278  \n",
       "3                          1241.0    570  \n",
       "4                           359.0    156  "
      ]
     },
     "execution_count": 48,
     "metadata": {},
     "output_type": "execute_result"
    }
   ],
   "source": [
    "merge1"
   ]
  },
  {
   "cell_type": "code",
   "execution_count": 49,
   "id": "8003ff4f-978c-4378-958c-a6d2debb0bb5",
   "metadata": {},
   "outputs": [],
   "source": [
    "merge1['customer_name_ctd'] = np.nan"
   ]
  },
  {
   "cell_type": "code",
   "execution_count": null,
   "id": "b21c8cb0-4178-43d2-b7ee-3c9c21c2f6bd",
   "metadata": {},
   "outputs": [],
   "source": []
  },
  {
   "cell_type": "code",
   "execution_count": 50,
   "id": "289ff484-7515-46d4-bafe-5d0d7c480950",
   "metadata": {},
   "outputs": [],
   "source": [
    "for i,v in merge1.iterrows():\n",
    "    nn = v['MonthlyReportNarcoticName']\n",
    "    nunique = df.loc[df['MonthlyReportNarcoticName'] == nn]['ReferCustomerName'].nunique()\n",
    "    merge1.loc[i, 'customer_name_ctd'] = nunique"
   ]
  },
  {
   "cell_type": "code",
   "execution_count": 51,
   "id": "a7365a28-1027-4c29-b5e4-589fe18eda03",
   "metadata": {},
   "outputs": [
    {
     "data": {
      "text/html": [
       "<div>\n",
       "<style scoped>\n",
       "    .dataframe tbody tr th:only-of-type {\n",
       "        vertical-align: middle;\n",
       "    }\n",
       "\n",
       "    .dataframe tbody tr th {\n",
       "        vertical-align: top;\n",
       "    }\n",
       "\n",
       "    .dataframe thead th {\n",
       "        text-align: right;\n",
       "    }\n",
       "</style>\n",
       "<table border=\"1\" class=\"dataframe\">\n",
       "  <thead>\n",
       "    <tr style=\"text-align: right;\">\n",
       "      <th></th>\n",
       "      <th>MonthlyReportNarcoticName</th>\n",
       "      <th>MonthlyReportNarcoticPaidValue</th>\n",
       "      <th>count</th>\n",
       "      <th>customer_name_ctd</th>\n",
       "    </tr>\n",
       "  </thead>\n",
       "  <tbody>\n",
       "    <tr>\n",
       "      <th>0</th>\n",
       "      <td>Alprazolam tablets 0.5 mg (Polipharm)</td>\n",
       "      <td>15814979.0</td>\n",
       "      <td>12179</td>\n",
       "      <td>1056.0</td>\n",
       "    </tr>\n",
       "    <tr>\n",
       "      <th>1</th>\n",
       "      <td>Alprazolam tablet 1.0 mg (Polipharm) (100 tab/...</td>\n",
       "      <td>8448290.0</td>\n",
       "      <td>6996</td>\n",
       "      <td>606.0</td>\n",
       "    </tr>\n",
       "    <tr>\n",
       "      <th>2</th>\n",
       "      <td>Alprazolam tablets 0.25 mg (Polipharm)</td>\n",
       "      <td>7918225.5</td>\n",
       "      <td>8278</td>\n",
       "      <td>724.0</td>\n",
       "    </tr>\n",
       "    <tr>\n",
       "      <th>3</th>\n",
       "      <td>Alprazolam tablets 1 mg (Pharmasant)</td>\n",
       "      <td>1241.0</td>\n",
       "      <td>570</td>\n",
       "      <td>48.0</td>\n",
       "    </tr>\n",
       "    <tr>\n",
       "      <th>4</th>\n",
       "      <td>Alprazolam tablets 0.5 mg (Pharmasant)</td>\n",
       "      <td>359.0</td>\n",
       "      <td>156</td>\n",
       "      <td>13.0</td>\n",
       "    </tr>\n",
       "  </tbody>\n",
       "</table>\n",
       "</div>"
      ],
      "text/plain": [
       "                           MonthlyReportNarcoticName  \\\n",
       "0              Alprazolam tablets 0.5 mg (Polipharm)   \n",
       "1  Alprazolam tablet 1.0 mg (Polipharm) (100 tab/...   \n",
       "2             Alprazolam tablets 0.25 mg (Polipharm)   \n",
       "3               Alprazolam tablets 1 mg (Pharmasant)   \n",
       "4             Alprazolam tablets 0.5 mg (Pharmasant)   \n",
       "\n",
       "   MonthlyReportNarcoticPaidValue  count  customer_name_ctd  \n",
       "0                      15814979.0  12179             1056.0  \n",
       "1                       8448290.0   6996              606.0  \n",
       "2                       7918225.5   8278              724.0  \n",
       "3                          1241.0    570               48.0  \n",
       "4                           359.0    156               13.0  "
      ]
     },
     "execution_count": 51,
     "metadata": {},
     "output_type": "execute_result"
    }
   ],
   "source": [
    "merge1"
   ]
  },
  {
   "cell_type": "code",
   "execution_count": 52,
   "id": "8a005989-7c19-4ea5-8554-2be4e80f9458",
   "metadata": {},
   "outputs": [],
   "source": [
    "merge1.to_csv(\"C:/Users/user/Downloads/dist-rep-wran-ampcode-v4.csv\")"
   ]
  },
  {
   "cell_type": "code",
   "execution_count": 27,
   "id": "8a39e114-db21-4f21-9d1b-6ecf1ab0ab8d",
   "metadata": {},
   "outputs": [],
   "source": [
    "recordtype_df = df['ReportDisburseNarcoticRecordType'].value_counts().reset_index()"
   ]
  },
  {
   "cell_type": "code",
   "execution_count": 28,
   "id": "307e8b31-40d6-4b50-a526-2e1b15dfde11",
   "metadata": {},
   "outputs": [
    {
     "data": {
      "text/html": [
       "<div>\n",
       "<style scoped>\n",
       "    .dataframe tbody tr th:only-of-type {\n",
       "        vertical-align: middle;\n",
       "    }\n",
       "\n",
       "    .dataframe tbody tr th {\n",
       "        vertical-align: top;\n",
       "    }\n",
       "\n",
       "    .dataframe thead th {\n",
       "        text-align: right;\n",
       "    }\n",
       "</style>\n",
       "<table border=\"1\" class=\"dataframe\">\n",
       "  <thead>\n",
       "    <tr style=\"text-align: right;\">\n",
       "      <th></th>\n",
       "      <th>ReportDisburseNarcoticRecordType</th>\n",
       "      <th>count</th>\n",
       "    </tr>\n",
       "  </thead>\n",
       "  <tbody>\n",
       "    <tr>\n",
       "      <th>0</th>\n",
       "      <td>RECORD</td>\n",
       "      <td>18336</td>\n",
       "    </tr>\n",
       "    <tr>\n",
       "      <th>1</th>\n",
       "      <td>ONLINE</td>\n",
       "      <td>9843</td>\n",
       "    </tr>\n",
       "  </tbody>\n",
       "</table>\n",
       "</div>"
      ],
      "text/plain": [
       "  ReportDisburseNarcoticRecordType  count\n",
       "0                           RECORD  18336\n",
       "1                           ONLINE   9843"
      ]
     },
     "execution_count": 28,
     "metadata": {},
     "output_type": "execute_result"
    }
   ],
   "source": [
    "recordtype_df"
   ]
  },
  {
   "cell_type": "markdown",
   "id": "4d9e8354-f3a4-41e5-890d-f0dcbe693b62",
   "metadata": {},
   "source": [
    "<h1>Plot pie chart Alprazolam distribution reports by record types</h1>"
   ]
  },
  {
   "cell_type": "code",
   "execution_count": 36,
   "id": "2e2e76a0-b857-4c4b-8d6e-6db9c04829cc",
   "metadata": {},
   "outputs": [],
   "source": [
    "fig = px.pie(\n",
    "    recordtype_df,\n",
    "    values= 'count',\n",
    "    names='ReportDisburseNarcoticRecordType',\n",
    "    title = 'Alprazolam distribution reports by record types'\n",
    ")\n",
    "fig.update_traces(textposition='inside', textinfo='percent+label', textfont_size=30)\n",
    "fig.show()"
   ]
  },
  {
   "cell_type": "markdown",
   "id": "dcde4097-d14a-4375-892a-a2ed3c077ab3",
   "metadata": {},
   "source": [
    "<h1>Plot time-series chart with send report date vs. month report date(ce)</h1>"
   ]
  },
  {
   "cell_type": "code",
   "execution_count": 78,
   "id": "57967511-fcba-4551-8253-57b1a5079c5e",
   "metadata": {},
   "outputs": [],
   "source": [
    "sum_paid_ts = df.groupby(by = ['report_ce_year'])['MonthlyReportNarcoticPaidValue'].sum()"
   ]
  },
  {
   "cell_type": "code",
   "execution_count": 80,
   "id": "fd922ed1-2b59-4321-9697-38b56b48b477",
   "metadata": {},
   "outputs": [],
   "source": [
    "sum_paid_ts = sum_paid_ts.reset_index()"
   ]
  },
  {
   "cell_type": "code",
   "execution_count": 94,
   "id": "5ed82063-1fc3-483f-bd39-2998beff019b",
   "metadata": {},
   "outputs": [
    {
     "data": {
      "text/html": [
       "<div>\n",
       "<style scoped>\n",
       "    .dataframe tbody tr th:only-of-type {\n",
       "        vertical-align: middle;\n",
       "    }\n",
       "\n",
       "    .dataframe tbody tr th {\n",
       "        vertical-align: top;\n",
       "    }\n",
       "\n",
       "    .dataframe thead th {\n",
       "        text-align: right;\n",
       "    }\n",
       "</style>\n",
       "<table border=\"1\" class=\"dataframe\">\n",
       "  <thead>\n",
       "    <tr style=\"text-align: right;\">\n",
       "      <th></th>\n",
       "      <th>report_ce_year</th>\n",
       "      <th>MonthlyReportNarcoticPaidValue</th>\n",
       "    </tr>\n",
       "  </thead>\n",
       "  <tbody>\n",
       "    <tr>\n",
       "      <th>0</th>\n",
       "      <td>2024-01-31</td>\n",
       "      <td>2829715.0</td>\n",
       "    </tr>\n",
       "    <tr>\n",
       "      <th>1</th>\n",
       "      <td>2024-02-29</td>\n",
       "      <td>2769744.5</td>\n",
       "    </tr>\n",
       "    <tr>\n",
       "      <th>2</th>\n",
       "      <td>2024-03-31</td>\n",
       "      <td>2857537.0</td>\n",
       "    </tr>\n",
       "    <tr>\n",
       "      <th>3</th>\n",
       "      <td>2024-04-30</td>\n",
       "      <td>2734795.0</td>\n",
       "    </tr>\n",
       "    <tr>\n",
       "      <th>4</th>\n",
       "      <td>2024-05-31</td>\n",
       "      <td>2763570.0</td>\n",
       "    </tr>\n",
       "    <tr>\n",
       "      <th>5</th>\n",
       "      <td>2024-06-30</td>\n",
       "      <td>2641433.0</td>\n",
       "    </tr>\n",
       "    <tr>\n",
       "      <th>6</th>\n",
       "      <td>2024-07-31</td>\n",
       "      <td>2691836.5</td>\n",
       "    </tr>\n",
       "    <tr>\n",
       "      <th>7</th>\n",
       "      <td>2024-08-31</td>\n",
       "      <td>2642512.0</td>\n",
       "    </tr>\n",
       "    <tr>\n",
       "      <th>8</th>\n",
       "      <td>2024-09-30</td>\n",
       "      <td>2412434.5</td>\n",
       "    </tr>\n",
       "    <tr>\n",
       "      <th>9</th>\n",
       "      <td>2024-10-31</td>\n",
       "      <td>2661542.5</td>\n",
       "    </tr>\n",
       "    <tr>\n",
       "      <th>10</th>\n",
       "      <td>2024-11-30</td>\n",
       "      <td>2610613.5</td>\n",
       "    </tr>\n",
       "    <tr>\n",
       "      <th>11</th>\n",
       "      <td>2024-12-31</td>\n",
       "      <td>2567361.0</td>\n",
       "    </tr>\n",
       "  </tbody>\n",
       "</table>\n",
       "</div>"
      ],
      "text/plain": [
       "   report_ce_year  MonthlyReportNarcoticPaidValue\n",
       "0      2024-01-31                       2829715.0\n",
       "1      2024-02-29                       2769744.5\n",
       "2      2024-03-31                       2857537.0\n",
       "3      2024-04-30                       2734795.0\n",
       "4      2024-05-31                       2763570.0\n",
       "5      2024-06-30                       2641433.0\n",
       "6      2024-07-31                       2691836.5\n",
       "7      2024-08-31                       2642512.0\n",
       "8      2024-09-30                       2412434.5\n",
       "9      2024-10-31                       2661542.5\n",
       "10     2024-11-30                       2610613.5\n",
       "11     2024-12-31                       2567361.0"
      ]
     },
     "execution_count": 94,
     "metadata": {},
     "output_type": "execute_result"
    }
   ],
   "source": [
    "sum_paid_ts"
   ]
  },
  {
   "cell_type": "code",
   "execution_count": 95,
   "id": "e0bf8b0c-5ebc-4346-baef-e5e471fad21e",
   "metadata": {},
   "outputs": [
    {
     "ename": "TypeError",
     "evalue": "'set' object is not callable",
     "output_type": "error",
     "traceback": [
      "\u001b[1;31m---------------------------------------------------------------------------\u001b[0m",
      "\u001b[1;31mTypeError\u001b[0m                                 Traceback (most recent call last)",
      "Cell \u001b[1;32mIn[95], line 1\u001b[0m\n\u001b[1;32m----> 1\u001b[0m \u001b[43msum_paid_ts\u001b[49m\u001b[38;5;241;43m.\u001b[39;49m\u001b[43mrename\u001b[49m\u001b[43m(\u001b[49m\u001b[43mcolumns\u001b[49m\u001b[38;5;241;43m=\u001b[39;49m\u001b[43m{\u001b[49m\u001b[38;5;124;43m\"\u001b[39;49m\u001b[38;5;124;43mMonthlyReportNarcoticPaidValue\u001b[39;49m\u001b[38;5;124;43m\"\u001b[39;49m\u001b[43m,\u001b[49m\u001b[43m \u001b[49m\u001b[38;5;124;43m\"\u001b[39;49m\u001b[38;5;124;43mvalue\u001b[39;49m\u001b[38;5;124;43m\"\u001b[39;49m\u001b[43m}\u001b[49m\u001b[43m)\u001b[49m\n",
      "File \u001b[1;32m~\\root_dir\\src\\envfda1\\Lib\\site-packages\\pandas\\core\\frame.py:5754\u001b[0m, in \u001b[0;36mDataFrame.rename\u001b[1;34m(self, mapper, index, columns, axis, copy, inplace, level, errors)\u001b[0m\n\u001b[0;32m   5623\u001b[0m \u001b[38;5;28;01mdef\u001b[39;00m \u001b[38;5;21mrename\u001b[39m(\n\u001b[0;32m   5624\u001b[0m     \u001b[38;5;28mself\u001b[39m,\n\u001b[0;32m   5625\u001b[0m     mapper: Renamer \u001b[38;5;241m|\u001b[39m \u001b[38;5;28;01mNone\u001b[39;00m \u001b[38;5;241m=\u001b[39m \u001b[38;5;28;01mNone\u001b[39;00m,\n\u001b[1;32m   (...)\u001b[0m\n\u001b[0;32m   5633\u001b[0m     errors: IgnoreRaise \u001b[38;5;241m=\u001b[39m \u001b[38;5;124m\"\u001b[39m\u001b[38;5;124mignore\u001b[39m\u001b[38;5;124m\"\u001b[39m,\n\u001b[0;32m   5634\u001b[0m ) \u001b[38;5;241m-\u001b[39m\u001b[38;5;241m>\u001b[39m DataFrame \u001b[38;5;241m|\u001b[39m \u001b[38;5;28;01mNone\u001b[39;00m:\n\u001b[0;32m   5635\u001b[0m \u001b[38;5;250m    \u001b[39m\u001b[38;5;124;03m\"\"\"\u001b[39;00m\n\u001b[0;32m   5636\u001b[0m \u001b[38;5;124;03m    Rename columns or index labels.\u001b[39;00m\n\u001b[0;32m   5637\u001b[0m \n\u001b[1;32m   (...)\u001b[0m\n\u001b[0;32m   5752\u001b[0m \u001b[38;5;124;03m    4  3  6\u001b[39;00m\n\u001b[0;32m   5753\u001b[0m \u001b[38;5;124;03m    \"\"\"\u001b[39;00m\n\u001b[1;32m-> 5754\u001b[0m     \u001b[38;5;28;01mreturn\u001b[39;00m \u001b[38;5;28;43msuper\u001b[39;49m\u001b[43m(\u001b[49m\u001b[43m)\u001b[49m\u001b[38;5;241;43m.\u001b[39;49m\u001b[43m_rename\u001b[49m\u001b[43m(\u001b[49m\n\u001b[0;32m   5755\u001b[0m \u001b[43m        \u001b[49m\u001b[43mmapper\u001b[49m\u001b[38;5;241;43m=\u001b[39;49m\u001b[43mmapper\u001b[49m\u001b[43m,\u001b[49m\n\u001b[0;32m   5756\u001b[0m \u001b[43m        \u001b[49m\u001b[43mindex\u001b[49m\u001b[38;5;241;43m=\u001b[39;49m\u001b[43mindex\u001b[49m\u001b[43m,\u001b[49m\n\u001b[0;32m   5757\u001b[0m \u001b[43m        \u001b[49m\u001b[43mcolumns\u001b[49m\u001b[38;5;241;43m=\u001b[39;49m\u001b[43mcolumns\u001b[49m\u001b[43m,\u001b[49m\n\u001b[0;32m   5758\u001b[0m \u001b[43m        \u001b[49m\u001b[43maxis\u001b[49m\u001b[38;5;241;43m=\u001b[39;49m\u001b[43maxis\u001b[49m\u001b[43m,\u001b[49m\n\u001b[0;32m   5759\u001b[0m \u001b[43m        \u001b[49m\u001b[43mcopy\u001b[49m\u001b[38;5;241;43m=\u001b[39;49m\u001b[43mcopy\u001b[49m\u001b[43m,\u001b[49m\n\u001b[0;32m   5760\u001b[0m \u001b[43m        \u001b[49m\u001b[43minplace\u001b[49m\u001b[38;5;241;43m=\u001b[39;49m\u001b[43minplace\u001b[49m\u001b[43m,\u001b[49m\n\u001b[0;32m   5761\u001b[0m \u001b[43m        \u001b[49m\u001b[43mlevel\u001b[49m\u001b[38;5;241;43m=\u001b[39;49m\u001b[43mlevel\u001b[49m\u001b[43m,\u001b[49m\n\u001b[0;32m   5762\u001b[0m \u001b[43m        \u001b[49m\u001b[43merrors\u001b[49m\u001b[38;5;241;43m=\u001b[39;49m\u001b[43merrors\u001b[49m\u001b[43m,\u001b[49m\n\u001b[0;32m   5763\u001b[0m \u001b[43m    \u001b[49m\u001b[43m)\u001b[49m\n",
      "File \u001b[1;32m~\\root_dir\\src\\envfda1\\Lib\\site-packages\\pandas\\core\\generic.py:1131\u001b[0m, in \u001b[0;36mNDFrame._rename\u001b[1;34m(self, mapper, index, columns, axis, copy, inplace, level, errors)\u001b[0m\n\u001b[0;32m   1124\u001b[0m         missing_labels \u001b[38;5;241m=\u001b[39m [\n\u001b[0;32m   1125\u001b[0m             label\n\u001b[0;32m   1126\u001b[0m             \u001b[38;5;28;01mfor\u001b[39;00m index, label \u001b[38;5;129;01min\u001b[39;00m \u001b[38;5;28menumerate\u001b[39m(replacements)\n\u001b[0;32m   1127\u001b[0m             \u001b[38;5;28;01mif\u001b[39;00m indexer[index] \u001b[38;5;241m==\u001b[39m \u001b[38;5;241m-\u001b[39m\u001b[38;5;241m1\u001b[39m\n\u001b[0;32m   1128\u001b[0m         ]\n\u001b[0;32m   1129\u001b[0m         \u001b[38;5;28;01mraise\u001b[39;00m \u001b[38;5;167;01mKeyError\u001b[39;00m(\u001b[38;5;124mf\u001b[39m\u001b[38;5;124m\"\u001b[39m\u001b[38;5;132;01m{\u001b[39;00mmissing_labels\u001b[38;5;132;01m}\u001b[39;00m\u001b[38;5;124m not found in axis\u001b[39m\u001b[38;5;124m\"\u001b[39m)\n\u001b[1;32m-> 1131\u001b[0m new_index \u001b[38;5;241m=\u001b[39m \u001b[43max\u001b[49m\u001b[38;5;241;43m.\u001b[39;49m\u001b[43m_transform_index\u001b[49m\u001b[43m(\u001b[49m\u001b[43mf\u001b[49m\u001b[43m,\u001b[49m\u001b[43m \u001b[49m\u001b[43mlevel\u001b[49m\u001b[38;5;241;43m=\u001b[39;49m\u001b[43mlevel\u001b[49m\u001b[43m)\u001b[49m\n\u001b[0;32m   1132\u001b[0m result\u001b[38;5;241m.\u001b[39m_set_axis_nocheck(new_index, axis\u001b[38;5;241m=\u001b[39maxis_no, inplace\u001b[38;5;241m=\u001b[39m\u001b[38;5;28;01mTrue\u001b[39;00m, copy\u001b[38;5;241m=\u001b[39m\u001b[38;5;28;01mFalse\u001b[39;00m)\n\u001b[0;32m   1133\u001b[0m result\u001b[38;5;241m.\u001b[39m_clear_item_cache()\n",
      "File \u001b[1;32m~\\root_dir\\src\\envfda1\\Lib\\site-packages\\pandas\\core\\indexes\\base.py:6536\u001b[0m, in \u001b[0;36mIndex._transform_index\u001b[1;34m(self, func, level)\u001b[0m\n\u001b[0;32m   6534\u001b[0m     \u001b[38;5;28;01mreturn\u001b[39;00m \u001b[38;5;28mtype\u001b[39m(\u001b[38;5;28mself\u001b[39m)\u001b[38;5;241m.\u001b[39mfrom_arrays(values)\n\u001b[0;32m   6535\u001b[0m \u001b[38;5;28;01melse\u001b[39;00m:\n\u001b[1;32m-> 6536\u001b[0m     items \u001b[38;5;241m=\u001b[39m \u001b[43m[\u001b[49m\u001b[43mfunc\u001b[49m\u001b[43m(\u001b[49m\u001b[43mx\u001b[49m\u001b[43m)\u001b[49m\u001b[43m \u001b[49m\u001b[38;5;28;43;01mfor\u001b[39;49;00m\u001b[43m \u001b[49m\u001b[43mx\u001b[49m\u001b[43m \u001b[49m\u001b[38;5;129;43;01min\u001b[39;49;00m\u001b[43m \u001b[49m\u001b[38;5;28;43mself\u001b[39;49m\u001b[43m]\u001b[49m\n\u001b[0;32m   6537\u001b[0m     \u001b[38;5;28;01mreturn\u001b[39;00m Index(items, name\u001b[38;5;241m=\u001b[39m\u001b[38;5;28mself\u001b[39m\u001b[38;5;241m.\u001b[39mname, tupleize_cols\u001b[38;5;241m=\u001b[39m\u001b[38;5;28;01mFalse\u001b[39;00m)\n",
      "File \u001b[1;32m~\\root_dir\\src\\envfda1\\Lib\\site-packages\\pandas\\core\\indexes\\base.py:6536\u001b[0m, in \u001b[0;36m<listcomp>\u001b[1;34m(.0)\u001b[0m\n\u001b[0;32m   6534\u001b[0m     \u001b[38;5;28;01mreturn\u001b[39;00m \u001b[38;5;28mtype\u001b[39m(\u001b[38;5;28mself\u001b[39m)\u001b[38;5;241m.\u001b[39mfrom_arrays(values)\n\u001b[0;32m   6535\u001b[0m \u001b[38;5;28;01melse\u001b[39;00m:\n\u001b[1;32m-> 6536\u001b[0m     items \u001b[38;5;241m=\u001b[39m [\u001b[43mfunc\u001b[49m\u001b[43m(\u001b[49m\u001b[43mx\u001b[49m\u001b[43m)\u001b[49m \u001b[38;5;28;01mfor\u001b[39;00m x \u001b[38;5;129;01min\u001b[39;00m \u001b[38;5;28mself\u001b[39m]\n\u001b[0;32m   6537\u001b[0m     \u001b[38;5;28;01mreturn\u001b[39;00m Index(items, name\u001b[38;5;241m=\u001b[39m\u001b[38;5;28mself\u001b[39m\u001b[38;5;241m.\u001b[39mname, tupleize_cols\u001b[38;5;241m=\u001b[39m\u001b[38;5;28;01mFalse\u001b[39;00m)\n",
      "\u001b[1;31mTypeError\u001b[0m: 'set' object is not callable"
     ]
    }
   ],
   "source": [
    "sum_paid_ts.rename(columns={\"MonthlyReportNarcoticPaidValue\", \"value\"})"
   ]
  },
  {
   "cell_type": "code",
   "execution_count": 90,
   "id": "79efc998-3f3d-4ec7-9b89-270a9108ae54",
   "metadata": {},
   "outputs": [],
   "source": [
    "ct_ts = df['report_ce_year'].value_counts().reset_index()"
   ]
  },
  {
   "cell_type": "code",
   "execution_count": 91,
   "id": "8c1a628b-d20c-4b53-bb27-2f4602e3f51f",
   "metadata": {},
   "outputs": [
    {
     "data": {
      "text/html": [
       "<div>\n",
       "<style scoped>\n",
       "    .dataframe tbody tr th:only-of-type {\n",
       "        vertical-align: middle;\n",
       "    }\n",
       "\n",
       "    .dataframe tbody tr th {\n",
       "        vertical-align: top;\n",
       "    }\n",
       "\n",
       "    .dataframe thead th {\n",
       "        text-align: right;\n",
       "    }\n",
       "</style>\n",
       "<table border=\"1\" class=\"dataframe\">\n",
       "  <thead>\n",
       "    <tr style=\"text-align: right;\">\n",
       "      <th></th>\n",
       "      <th>report_ce_year</th>\n",
       "      <th>count</th>\n",
       "    </tr>\n",
       "  </thead>\n",
       "  <tbody>\n",
       "    <tr>\n",
       "      <th>0</th>\n",
       "      <td>2024-05-31</td>\n",
       "      <td>2376</td>\n",
       "    </tr>\n",
       "    <tr>\n",
       "      <th>1</th>\n",
       "      <td>2024-03-31</td>\n",
       "      <td>2374</td>\n",
       "    </tr>\n",
       "    <tr>\n",
       "      <th>2</th>\n",
       "      <td>2024-02-29</td>\n",
       "      <td>2372</td>\n",
       "    </tr>\n",
       "    <tr>\n",
       "      <th>3</th>\n",
       "      <td>2024-06-30</td>\n",
       "      <td>2370</td>\n",
       "    </tr>\n",
       "    <tr>\n",
       "      <th>4</th>\n",
       "      <td>2024-01-31</td>\n",
       "      <td>2365</td>\n",
       "    </tr>\n",
       "    <tr>\n",
       "      <th>5</th>\n",
       "      <td>2024-04-30</td>\n",
       "      <td>2365</td>\n",
       "    </tr>\n",
       "    <tr>\n",
       "      <th>6</th>\n",
       "      <td>2024-08-31</td>\n",
       "      <td>2365</td>\n",
       "    </tr>\n",
       "    <tr>\n",
       "      <th>7</th>\n",
       "      <td>2024-07-31</td>\n",
       "      <td>2358</td>\n",
       "    </tr>\n",
       "    <tr>\n",
       "      <th>8</th>\n",
       "      <td>2024-09-30</td>\n",
       "      <td>2344</td>\n",
       "    </tr>\n",
       "    <tr>\n",
       "      <th>9</th>\n",
       "      <td>2024-10-31</td>\n",
       "      <td>2335</td>\n",
       "    </tr>\n",
       "    <tr>\n",
       "      <th>10</th>\n",
       "      <td>2024-11-30</td>\n",
       "      <td>2290</td>\n",
       "    </tr>\n",
       "    <tr>\n",
       "      <th>11</th>\n",
       "      <td>2024-12-31</td>\n",
       "      <td>2265</td>\n",
       "    </tr>\n",
       "  </tbody>\n",
       "</table>\n",
       "</div>"
      ],
      "text/plain": [
       "   report_ce_year  count\n",
       "0      2024-05-31   2376\n",
       "1      2024-03-31   2374\n",
       "2      2024-02-29   2372\n",
       "3      2024-06-30   2370\n",
       "4      2024-01-31   2365\n",
       "5      2024-04-30   2365\n",
       "6      2024-08-31   2365\n",
       "7      2024-07-31   2358\n",
       "8      2024-09-30   2344\n",
       "9      2024-10-31   2335\n",
       "10     2024-11-30   2290\n",
       "11     2024-12-31   2265"
      ]
     },
     "execution_count": 91,
     "metadata": {},
     "output_type": "execute_result"
    }
   ],
   "source": [
    "ct_ts"
   ]
  },
  {
   "cell_type": "code",
   "execution_count": null,
   "id": "1578427e-29e4-4f7d-8af9-cd4d937e9f95",
   "metadata": {},
   "outputs": [],
   "source": []
  },
  {
   "cell_type": "code",
   "execution_count": 85,
   "id": "726f7073-c28b-42f3-a730-0731e23c207f",
   "metadata": {},
   "outputs": [],
   "source": [
    "pio.renderers.default = \"jupyterlab\""
   ]
  },
  {
   "cell_type": "code",
   "execution_count": 86,
   "id": "cfccb156-71dc-44d3-91e2-a25ba137fd94",
   "metadata": {},
   "outputs": [
    {
     "data": {
      "application/vnd.plotly.v1+json": {
       "config": {
        "plotlyServerURL": "https://plot.ly"
       },
       "data": [
        {
         "hovertemplate": "report_ce_year=%{x}<br>MonthlyReportNarcoticPaidValue=%{y}<extra></extra>",
         "legendgroup": "",
         "line": {
          "color": "#636efa",
          "dash": "solid"
         },
         "marker": {
          "symbol": "circle"
         },
         "mode": "lines",
         "name": "",
         "orientation": "v",
         "showlegend": false,
         "type": "scatter",
         "x": [
          "2024-01-31T00:00:00.000000000",
          "2024-02-29T00:00:00.000000000",
          "2024-03-31T00:00:00.000000000",
          "2024-04-30T00:00:00.000000000",
          "2024-05-31T00:00:00.000000000",
          "2024-06-30T00:00:00.000000000",
          "2024-07-31T00:00:00.000000000",
          "2024-08-31T00:00:00.000000000",
          "2024-09-30T00:00:00.000000000",
          "2024-10-31T00:00:00.000000000",
          "2024-11-30T00:00:00.000000000",
          "2024-12-31T00:00:00.000000000"
         ],
         "xaxis": "x",
         "y": {
          "bdata": "AAAAgMmWRUEAAABAqCFFQQAAAIAgzUVBAAAAgGXdREEAAAAAmRVFQQAAAIAMJ0RBAAAAQH6JREEAAAAAKClEQQAAAEDJZ0JBAAAAQFNOREEAAADA2upDQQAAAIBglkNB",
          "dtype": "f8"
         },
         "yaxis": "y"
        }
       ],
       "layout": {
        "legend": {
         "tracegroupgap": 0
        },
        "margin": {
         "t": 60
        },
        "template": {
         "data": {
          "bar": [
           {
            "error_x": {
             "color": "#2a3f5f"
            },
            "error_y": {
             "color": "#2a3f5f"
            },
            "marker": {
             "line": {
              "color": "#E5ECF6",
              "width": 0.5
             },
             "pattern": {
              "fillmode": "overlay",
              "size": 10,
              "solidity": 0.2
             }
            },
            "type": "bar"
           }
          ],
          "barpolar": [
           {
            "marker": {
             "line": {
              "color": "#E5ECF6",
              "width": 0.5
             },
             "pattern": {
              "fillmode": "overlay",
              "size": 10,
              "solidity": 0.2
             }
            },
            "type": "barpolar"
           }
          ],
          "carpet": [
           {
            "aaxis": {
             "endlinecolor": "#2a3f5f",
             "gridcolor": "white",
             "linecolor": "white",
             "minorgridcolor": "white",
             "startlinecolor": "#2a3f5f"
            },
            "baxis": {
             "endlinecolor": "#2a3f5f",
             "gridcolor": "white",
             "linecolor": "white",
             "minorgridcolor": "white",
             "startlinecolor": "#2a3f5f"
            },
            "type": "carpet"
           }
          ],
          "choropleth": [
           {
            "colorbar": {
             "outlinewidth": 0,
             "ticks": ""
            },
            "type": "choropleth"
           }
          ],
          "contour": [
           {
            "colorbar": {
             "outlinewidth": 0,
             "ticks": ""
            },
            "colorscale": [
             [
              0,
              "#0d0887"
             ],
             [
              0.1111111111111111,
              "#46039f"
             ],
             [
              0.2222222222222222,
              "#7201a8"
             ],
             [
              0.3333333333333333,
              "#9c179e"
             ],
             [
              0.4444444444444444,
              "#bd3786"
             ],
             [
              0.5555555555555556,
              "#d8576b"
             ],
             [
              0.6666666666666666,
              "#ed7953"
             ],
             [
              0.7777777777777778,
              "#fb9f3a"
             ],
             [
              0.8888888888888888,
              "#fdca26"
             ],
             [
              1,
              "#f0f921"
             ]
            ],
            "type": "contour"
           }
          ],
          "contourcarpet": [
           {
            "colorbar": {
             "outlinewidth": 0,
             "ticks": ""
            },
            "type": "contourcarpet"
           }
          ],
          "heatmap": [
           {
            "colorbar": {
             "outlinewidth": 0,
             "ticks": ""
            },
            "colorscale": [
             [
              0,
              "#0d0887"
             ],
             [
              0.1111111111111111,
              "#46039f"
             ],
             [
              0.2222222222222222,
              "#7201a8"
             ],
             [
              0.3333333333333333,
              "#9c179e"
             ],
             [
              0.4444444444444444,
              "#bd3786"
             ],
             [
              0.5555555555555556,
              "#d8576b"
             ],
             [
              0.6666666666666666,
              "#ed7953"
             ],
             [
              0.7777777777777778,
              "#fb9f3a"
             ],
             [
              0.8888888888888888,
              "#fdca26"
             ],
             [
              1,
              "#f0f921"
             ]
            ],
            "type": "heatmap"
           }
          ],
          "histogram": [
           {
            "marker": {
             "pattern": {
              "fillmode": "overlay",
              "size": 10,
              "solidity": 0.2
             }
            },
            "type": "histogram"
           }
          ],
          "histogram2d": [
           {
            "colorbar": {
             "outlinewidth": 0,
             "ticks": ""
            },
            "colorscale": [
             [
              0,
              "#0d0887"
             ],
             [
              0.1111111111111111,
              "#46039f"
             ],
             [
              0.2222222222222222,
              "#7201a8"
             ],
             [
              0.3333333333333333,
              "#9c179e"
             ],
             [
              0.4444444444444444,
              "#bd3786"
             ],
             [
              0.5555555555555556,
              "#d8576b"
             ],
             [
              0.6666666666666666,
              "#ed7953"
             ],
             [
              0.7777777777777778,
              "#fb9f3a"
             ],
             [
              0.8888888888888888,
              "#fdca26"
             ],
             [
              1,
              "#f0f921"
             ]
            ],
            "type": "histogram2d"
           }
          ],
          "histogram2dcontour": [
           {
            "colorbar": {
             "outlinewidth": 0,
             "ticks": ""
            },
            "colorscale": [
             [
              0,
              "#0d0887"
             ],
             [
              0.1111111111111111,
              "#46039f"
             ],
             [
              0.2222222222222222,
              "#7201a8"
             ],
             [
              0.3333333333333333,
              "#9c179e"
             ],
             [
              0.4444444444444444,
              "#bd3786"
             ],
             [
              0.5555555555555556,
              "#d8576b"
             ],
             [
              0.6666666666666666,
              "#ed7953"
             ],
             [
              0.7777777777777778,
              "#fb9f3a"
             ],
             [
              0.8888888888888888,
              "#fdca26"
             ],
             [
              1,
              "#f0f921"
             ]
            ],
            "type": "histogram2dcontour"
           }
          ],
          "mesh3d": [
           {
            "colorbar": {
             "outlinewidth": 0,
             "ticks": ""
            },
            "type": "mesh3d"
           }
          ],
          "parcoords": [
           {
            "line": {
             "colorbar": {
              "outlinewidth": 0,
              "ticks": ""
             }
            },
            "type": "parcoords"
           }
          ],
          "pie": [
           {
            "automargin": true,
            "type": "pie"
           }
          ],
          "scatter": [
           {
            "fillpattern": {
             "fillmode": "overlay",
             "size": 10,
             "solidity": 0.2
            },
            "type": "scatter"
           }
          ],
          "scatter3d": [
           {
            "line": {
             "colorbar": {
              "outlinewidth": 0,
              "ticks": ""
             }
            },
            "marker": {
             "colorbar": {
              "outlinewidth": 0,
              "ticks": ""
             }
            },
            "type": "scatter3d"
           }
          ],
          "scattercarpet": [
           {
            "marker": {
             "colorbar": {
              "outlinewidth": 0,
              "ticks": ""
             }
            },
            "type": "scattercarpet"
           }
          ],
          "scattergeo": [
           {
            "marker": {
             "colorbar": {
              "outlinewidth": 0,
              "ticks": ""
             }
            },
            "type": "scattergeo"
           }
          ],
          "scattergl": [
           {
            "marker": {
             "colorbar": {
              "outlinewidth": 0,
              "ticks": ""
             }
            },
            "type": "scattergl"
           }
          ],
          "scattermap": [
           {
            "marker": {
             "colorbar": {
              "outlinewidth": 0,
              "ticks": ""
             }
            },
            "type": "scattermap"
           }
          ],
          "scattermapbox": [
           {
            "marker": {
             "colorbar": {
              "outlinewidth": 0,
              "ticks": ""
             }
            },
            "type": "scattermapbox"
           }
          ],
          "scatterpolar": [
           {
            "marker": {
             "colorbar": {
              "outlinewidth": 0,
              "ticks": ""
             }
            },
            "type": "scatterpolar"
           }
          ],
          "scatterpolargl": [
           {
            "marker": {
             "colorbar": {
              "outlinewidth": 0,
              "ticks": ""
             }
            },
            "type": "scatterpolargl"
           }
          ],
          "scatterternary": [
           {
            "marker": {
             "colorbar": {
              "outlinewidth": 0,
              "ticks": ""
             }
            },
            "type": "scatterternary"
           }
          ],
          "surface": [
           {
            "colorbar": {
             "outlinewidth": 0,
             "ticks": ""
            },
            "colorscale": [
             [
              0,
              "#0d0887"
             ],
             [
              0.1111111111111111,
              "#46039f"
             ],
             [
              0.2222222222222222,
              "#7201a8"
             ],
             [
              0.3333333333333333,
              "#9c179e"
             ],
             [
              0.4444444444444444,
              "#bd3786"
             ],
             [
              0.5555555555555556,
              "#d8576b"
             ],
             [
              0.6666666666666666,
              "#ed7953"
             ],
             [
              0.7777777777777778,
              "#fb9f3a"
             ],
             [
              0.8888888888888888,
              "#fdca26"
             ],
             [
              1,
              "#f0f921"
             ]
            ],
            "type": "surface"
           }
          ],
          "table": [
           {
            "cells": {
             "fill": {
              "color": "#EBF0F8"
             },
             "line": {
              "color": "white"
             }
            },
            "header": {
             "fill": {
              "color": "#C8D4E3"
             },
             "line": {
              "color": "white"
             }
            },
            "type": "table"
           }
          ]
         },
         "layout": {
          "annotationdefaults": {
           "arrowcolor": "#2a3f5f",
           "arrowhead": 0,
           "arrowwidth": 1
          },
          "autotypenumbers": "strict",
          "coloraxis": {
           "colorbar": {
            "outlinewidth": 0,
            "ticks": ""
           }
          },
          "colorscale": {
           "diverging": [
            [
             0,
             "#8e0152"
            ],
            [
             0.1,
             "#c51b7d"
            ],
            [
             0.2,
             "#de77ae"
            ],
            [
             0.3,
             "#f1b6da"
            ],
            [
             0.4,
             "#fde0ef"
            ],
            [
             0.5,
             "#f7f7f7"
            ],
            [
             0.6,
             "#e6f5d0"
            ],
            [
             0.7,
             "#b8e186"
            ],
            [
             0.8,
             "#7fbc41"
            ],
            [
             0.9,
             "#4d9221"
            ],
            [
             1,
             "#276419"
            ]
           ],
           "sequential": [
            [
             0,
             "#0d0887"
            ],
            [
             0.1111111111111111,
             "#46039f"
            ],
            [
             0.2222222222222222,
             "#7201a8"
            ],
            [
             0.3333333333333333,
             "#9c179e"
            ],
            [
             0.4444444444444444,
             "#bd3786"
            ],
            [
             0.5555555555555556,
             "#d8576b"
            ],
            [
             0.6666666666666666,
             "#ed7953"
            ],
            [
             0.7777777777777778,
             "#fb9f3a"
            ],
            [
             0.8888888888888888,
             "#fdca26"
            ],
            [
             1,
             "#f0f921"
            ]
           ],
           "sequentialminus": [
            [
             0,
             "#0d0887"
            ],
            [
             0.1111111111111111,
             "#46039f"
            ],
            [
             0.2222222222222222,
             "#7201a8"
            ],
            [
             0.3333333333333333,
             "#9c179e"
            ],
            [
             0.4444444444444444,
             "#bd3786"
            ],
            [
             0.5555555555555556,
             "#d8576b"
            ],
            [
             0.6666666666666666,
             "#ed7953"
            ],
            [
             0.7777777777777778,
             "#fb9f3a"
            ],
            [
             0.8888888888888888,
             "#fdca26"
            ],
            [
             1,
             "#f0f921"
            ]
           ]
          },
          "colorway": [
           "#636efa",
           "#EF553B",
           "#00cc96",
           "#ab63fa",
           "#FFA15A",
           "#19d3f3",
           "#FF6692",
           "#B6E880",
           "#FF97FF",
           "#FECB52"
          ],
          "font": {
           "color": "#2a3f5f"
          },
          "geo": {
           "bgcolor": "white",
           "lakecolor": "white",
           "landcolor": "#E5ECF6",
           "showlakes": true,
           "showland": true,
           "subunitcolor": "white"
          },
          "hoverlabel": {
           "align": "left"
          },
          "hovermode": "closest",
          "mapbox": {
           "style": "light"
          },
          "paper_bgcolor": "white",
          "plot_bgcolor": "#E5ECF6",
          "polar": {
           "angularaxis": {
            "gridcolor": "white",
            "linecolor": "white",
            "ticks": ""
           },
           "bgcolor": "#E5ECF6",
           "radialaxis": {
            "gridcolor": "white",
            "linecolor": "white",
            "ticks": ""
           }
          },
          "scene": {
           "xaxis": {
            "backgroundcolor": "#E5ECF6",
            "gridcolor": "white",
            "gridwidth": 2,
            "linecolor": "white",
            "showbackground": true,
            "ticks": "",
            "zerolinecolor": "white"
           },
           "yaxis": {
            "backgroundcolor": "#E5ECF6",
            "gridcolor": "white",
            "gridwidth": 2,
            "linecolor": "white",
            "showbackground": true,
            "ticks": "",
            "zerolinecolor": "white"
           },
           "zaxis": {
            "backgroundcolor": "#E5ECF6",
            "gridcolor": "white",
            "gridwidth": 2,
            "linecolor": "white",
            "showbackground": true,
            "ticks": "",
            "zerolinecolor": "white"
           }
          },
          "shapedefaults": {
           "line": {
            "color": "#2a3f5f"
           }
          },
          "ternary": {
           "aaxis": {
            "gridcolor": "white",
            "linecolor": "white",
            "ticks": ""
           },
           "baxis": {
            "gridcolor": "white",
            "linecolor": "white",
            "ticks": ""
           },
           "bgcolor": "#E5ECF6",
           "caxis": {
            "gridcolor": "white",
            "linecolor": "white",
            "ticks": ""
           }
          },
          "title": {
           "x": 0.05
          },
          "xaxis": {
           "automargin": true,
           "gridcolor": "white",
           "linecolor": "white",
           "ticks": "",
           "title": {
            "standoff": 15
           },
           "zerolinecolor": "white",
           "zerolinewidth": 2
          },
          "yaxis": {
           "automargin": true,
           "gridcolor": "white",
           "linecolor": "white",
           "ticks": "",
           "title": {
            "standoff": 15
           },
           "zerolinecolor": "white",
           "zerolinewidth": 2
          }
         }
        },
        "xaxis": {
         "anchor": "y",
         "domain": [
          0,
          1
         ],
         "title": {
          "text": "report_ce_year"
         }
        },
        "yaxis": {
         "anchor": "x",
         "domain": [
          0,
          1
         ],
         "title": {
          "text": "MonthlyReportNarcoticPaidValue"
         }
        }
       }
      },
      "image/png": "[encoded data removed]"
     },
     "metadata": {},
     "output_type": "display_data"
    }
   ],
   "source": [
    "fig = px.line(\n",
    "    sum_paid_ts,\n",
    "    x = \"report_ce_year\",\n",
    "    y = \"MonthlyReportNarcoticPaidValue\"\n",
    ")\n",
    "fig.show()"
   ]
  },
  {
   "cell_type": "code",
   "execution_count": 87,
   "id": "38b1d915-9a5f-4e1b-8253-895368a0f68e",
   "metadata": {},
   "outputs": [
    {
     "data": {
      "application/vnd.plotly.v1+json": {
       "config": {
        "plotlyServerURL": "https://plot.ly"
       },
       "data": [
        {
         "hovertemplate": "report_ce_year=%{x}<br>MonthlyReportNarcoticPaidValue=%{y}<extra></extra>",
         "legendgroup": "",
         "marker": {
          "color": "#636efa",
          "pattern": {
           "shape": ""
          }
         },
         "name": "",
         "orientation": "v",
         "showlegend": false,
         "textposition": "auto",
         "type": "bar",
         "x": [
          "2024-01-31T00:00:00.000000000",
          "2024-02-29T00:00:00.000000000",
          "2024-03-31T00:00:00.000000000",
          "2024-04-30T00:00:00.000000000",
          "2024-05-31T00:00:00.000000000",
          "2024-06-30T00:00:00.000000000",
          "2024-07-31T00:00:00.000000000",
          "2024-08-31T00:00:00.000000000",
          "2024-09-30T00:00:00.000000000",
          "2024-10-31T00:00:00.000000000",
          "2024-11-30T00:00:00.000000000",
          "2024-12-31T00:00:00.000000000"
         ],
         "xaxis": "x",
         "y": {
          "bdata": "AAAAgMmWRUEAAABAqCFFQQAAAIAgzUVBAAAAgGXdREEAAAAAmRVFQQAAAIAMJ0RBAAAAQH6JREEAAAAAKClEQQAAAEDJZ0JBAAAAQFNOREEAAADA2upDQQAAAIBglkNB",
          "dtype": "f8"
         },
         "yaxis": "y"
        }
       ],
       "layout": {
        "barmode": "relative",
        "legend": {
         "tracegroupgap": 0
        },
        "margin": {
         "t": 60
        },
        "template": {
         "data": {
          "bar": [
           {
            "error_x": {
             "color": "#2a3f5f"
            },
            "error_y": {
             "color": "#2a3f5f"
            },
            "marker": {
             "line": {
              "color": "#E5ECF6",
              "width": 0.5
             },
             "pattern": {
              "fillmode": "overlay",
              "size": 10,
              "solidity": 0.2
             }
            },
            "type": "bar"
           }
          ],
          "barpolar": [
           {
            "marker": {
             "line": {
              "color": "#E5ECF6",
              "width": 0.5
             },
             "pattern": {
              "fillmode": "overlay",
              "size": 10,
              "solidity": 0.2
             }
            },
            "type": "barpolar"
           }
          ],
          "carpet": [
           {
            "aaxis": {
             "endlinecolor": "#2a3f5f",
             "gridcolor": "white",
             "linecolor": "white",
             "minorgridcolor": "white",
             "startlinecolor": "#2a3f5f"
            },
            "baxis": {
             "endlinecolor": "#2a3f5f",
             "gridcolor": "white",
             "linecolor": "white",
             "minorgridcolor": "white",
             "startlinecolor": "#2a3f5f"
            },
            "type": "carpet"
           }
          ],
          "choropleth": [
           {
            "colorbar": {
             "outlinewidth": 0,
             "ticks": ""
            },
            "type": "choropleth"
           }
          ],
          "contour": [
           {
            "colorbar": {
             "outlinewidth": 0,
             "ticks": ""
            },
            "colorscale": [
             [
              0,
              "#0d0887"
             ],
             [
              0.1111111111111111,
              "#46039f"
             ],
             [
              0.2222222222222222,
              "#7201a8"
             ],
             [
              0.3333333333333333,
              "#9c179e"
             ],
             [
              0.4444444444444444,
              "#bd3786"
             ],
             [
              0.5555555555555556,
              "#d8576b"
             ],
             [
              0.6666666666666666,
              "#ed7953"
             ],
             [
              0.7777777777777778,
              "#fb9f3a"
             ],
             [
              0.8888888888888888,
              "#fdca26"
             ],
             [
              1,
              "#f0f921"
             ]
            ],
            "type": "contour"
           }
          ],
          "contourcarpet": [
           {
            "colorbar": {
             "outlinewidth": 0,
             "ticks": ""
            },
            "type": "contourcarpet"
           }
          ],
          "heatmap": [
           {
            "colorbar": {
             "outlinewidth": 0,
             "ticks": ""
            },
            "colorscale": [
             [
              0,
              "#0d0887"
             ],
             [
              0.1111111111111111,
              "#46039f"
             ],
             [
              0.2222222222222222,
              "#7201a8"
             ],
             [
              0.3333333333333333,
              "#9c179e"
             ],
             [
              0.4444444444444444,
              "#bd3786"
             ],
             [
              0.5555555555555556,
              "#d8576b"
             ],
             [
              0.6666666666666666,
              "#ed7953"
             ],
             [
              0.7777777777777778,
              "#fb9f3a"
             ],
             [
              0.8888888888888888,
              "#fdca26"
             ],
             [
              1,
              "#f0f921"
             ]
            ],
            "type": "heatmap"
           }
          ],
          "histogram": [
           {
            "marker": {
             "pattern": {
              "fillmode": "overlay",
              "size": 10,
              "solidity": 0.2
             }
            },
            "type": "histogram"
           }
          ],
          "histogram2d": [
           {
            "colorbar": {
             "outlinewidth": 0,
             "ticks": ""
            },
            "colorscale": [
             [
              0,
              "#0d0887"
             ],
             [
              0.1111111111111111,
              "#46039f"
             ],
             [
              0.2222222222222222,
              "#7201a8"
             ],
             [
              0.3333333333333333,
              "#9c179e"
             ],
             [
              0.4444444444444444,
              "#bd3786"
             ],
             [
              0.5555555555555556,
              "#d8576b"
             ],
             [
              0.6666666666666666,
              "#ed7953"
             ],
             [
              0.7777777777777778,
              "#fb9f3a"
             ],
             [
              0.8888888888888888,
              "#fdca26"
             ],
             [
              1,
              "#f0f921"
             ]
            ],
            "type": "histogram2d"
           }
          ],
          "histogram2dcontour": [
           {
            "colorbar": {
             "outlinewidth": 0,
             "ticks": ""
            },
            "colorscale": [
             [
              0,
              "#0d0887"
             ],
             [
              0.1111111111111111,
              "#46039f"
             ],
             [
              0.2222222222222222,
              "#7201a8"
             ],
             [
              0.3333333333333333,
              "#9c179e"
             ],
             [
              0.4444444444444444,
              "#bd3786"
             ],
             [
              0.5555555555555556,
              "#d8576b"
             ],
             [
              0.6666666666666666,
              "#ed7953"
             ],
             [
              0.7777777777777778,
              "#fb9f3a"
             ],
             [
              0.8888888888888888,
              "#fdca26"
             ],
             [
              1,
              "#f0f921"
             ]
            ],
            "type": "histogram2dcontour"
           }
          ],
          "mesh3d": [
           {
            "colorbar": {
             "outlinewidth": 0,
             "ticks": ""
            },
            "type": "mesh3d"
           }
          ],
          "parcoords": [
           {
            "line": {
             "colorbar": {
              "outlinewidth": 0,
              "ticks": ""
             }
            },
            "type": "parcoords"
           }
          ],
          "pie": [
           {
            "automargin": true,
            "type": "pie"
           }
          ],
          "scatter": [
           {
            "fillpattern": {
             "fillmode": "overlay",
             "size": 10,
             "solidity": 0.2
            },
            "type": "scatter"
           }
          ],
          "scatter3d": [
           {
            "line": {
             "colorbar": {
              "outlinewidth": 0,
              "ticks": ""
             }
            },
            "marker": {
             "colorbar": {
              "outlinewidth": 0,
              "ticks": ""
             }
            },
            "type": "scatter3d"
           }
          ],
          "scattercarpet": [
           {
            "marker": {
             "colorbar": {
              "outlinewidth": 0,
              "ticks": ""
             }
            },
            "type": "scattercarpet"
           }
          ],
          "scattergeo": [
           {
            "marker": {
             "colorbar": {
              "outlinewidth": 0,
              "ticks": ""
             }
            },
            "type": "scattergeo"
           }
          ],
          "scattergl": [
           {
            "marker": {
             "colorbar": {
              "outlinewidth": 0,
              "ticks": ""
             }
            },
            "type": "scattergl"
           }
          ],
          "scattermap": [
           {
            "marker": {
             "colorbar": {
              "outlinewidth": 0,
              "ticks": ""
             }
            },
            "type": "scattermap"
           }
          ],
          "scattermapbox": [
           {
            "marker": {
             "colorbar": {
              "outlinewidth": 0,
              "ticks": ""
             }
            },
            "type": "scattermapbox"
           }
          ],
          "scatterpolar": [
           {
            "marker": {
             "colorbar": {
              "outlinewidth": 0,
              "ticks": ""
             }
            },
            "type": "scatterpolar"
           }
          ],
          "scatterpolargl": [
           {
            "marker": {
             "colorbar": {
              "outlinewidth": 0,
              "ticks": ""
             }
            },
            "type": "scatterpolargl"
           }
          ],
          "scatterternary": [
           {
            "marker": {
             "colorbar": {
              "outlinewidth": 0,
              "ticks": ""
             }
            },
            "type": "scatterternary"
           }
          ],
          "surface": [
           {
            "colorbar": {
             "outlinewidth": 0,
             "ticks": ""
            },
            "colorscale": [
             [
              0,
              "#0d0887"
             ],
             [
              0.1111111111111111,
              "#46039f"
             ],
             [
              0.2222222222222222,
              "#7201a8"
             ],
             [
              0.3333333333333333,
              "#9c179e"
             ],
             [
              0.4444444444444444,
              "#bd3786"
             ],
             [
              0.5555555555555556,
              "#d8576b"
             ],
             [
              0.6666666666666666,
              "#ed7953"
             ],
             [
              0.7777777777777778,
              "#fb9f3a"
             ],
             [
              0.8888888888888888,
              "#fdca26"
             ],
             [
              1,
              "#f0f921"
             ]
            ],
            "type": "surface"
           }
          ],
          "table": [
           {
            "cells": {
             "fill": {
              "color": "#EBF0F8"
             },
             "line": {
              "color": "white"
             }
            },
            "header": {
             "fill": {
              "color": "#C8D4E3"
             },
             "line": {
              "color": "white"
             }
            },
            "type": "table"
           }
          ]
         },
         "layout": {
          "annotationdefaults": {
           "arrowcolor": "#2a3f5f",
           "arrowhead": 0,
           "arrowwidth": 1
          },
          "autotypenumbers": "strict",
          "coloraxis": {
           "colorbar": {
            "outlinewidth": 0,
            "ticks": ""
           }
          },
          "colorscale": {
           "diverging": [
            [
             0,
             "#8e0152"
            ],
            [
             0.1,
             "#c51b7d"
            ],
            [
             0.2,
             "#de77ae"
            ],
            [
             0.3,
             "#f1b6da"
            ],
            [
             0.4,
             "#fde0ef"
            ],
            [
             0.5,
             "#f7f7f7"
            ],
            [
             0.6,
             "#e6f5d0"
            ],
            [
             0.7,
             "#b8e186"
            ],
            [
             0.8,
             "#7fbc41"
            ],
            [
             0.9,
             "#4d9221"
            ],
            [
             1,
             "#276419"
            ]
           ],
           "sequential": [
            [
             0,
             "#0d0887"
            ],
            [
             0.1111111111111111,
             "#46039f"
            ],
            [
             0.2222222222222222,
             "#7201a8"
            ],
            [
             0.3333333333333333,
             "#9c179e"
            ],
            [
             0.4444444444444444,
             "#bd3786"
            ],
            [
             0.5555555555555556,
             "#d8576b"
            ],
            [
             0.6666666666666666,
             "#ed7953"
            ],
            [
             0.7777777777777778,
             "#fb9f3a"
            ],
            [
             0.8888888888888888,
             "#fdca26"
            ],
            [
             1,
             "#f0f921"
            ]
           ],
           "sequentialminus": [
            [
             0,
             "#0d0887"
            ],
            [
             0.1111111111111111,
             "#46039f"
            ],
            [
             0.2222222222222222,
             "#7201a8"
            ],
            [
             0.3333333333333333,
             "#9c179e"
            ],
            [
             0.4444444444444444,
             "#bd3786"
            ],
            [
             0.5555555555555556,
             "#d8576b"
            ],
            [
             0.6666666666666666,
             "#ed7953"
            ],
            [
             0.7777777777777778,
             "#fb9f3a"
            ],
            [
             0.8888888888888888,
             "#fdca26"
            ],
            [
             1,
             "#f0f921"
            ]
           ]
          },
          "colorway": [
           "#636efa",
           "#EF553B",
           "#00cc96",
           "#ab63fa",
           "#FFA15A",
           "#19d3f3",
           "#FF6692",
           "#B6E880",
           "#FF97FF",
           "#FECB52"
          ],
          "font": {
           "color": "#2a3f5f"
          },
          "geo": {
           "bgcolor": "white",
           "lakecolor": "white",
           "landcolor": "#E5ECF6",
           "showlakes": true,
           "showland": true,
           "subunitcolor": "white"
          },
          "hoverlabel": {
           "align": "left"
          },
          "hovermode": "closest",
          "mapbox": {
           "style": "light"
          },
          "paper_bgcolor": "white",
          "plot_bgcolor": "#E5ECF6",
          "polar": {
           "angularaxis": {
            "gridcolor": "white",
            "linecolor": "white",
            "ticks": ""
           },
           "bgcolor": "#E5ECF6",
           "radialaxis": {
            "gridcolor": "white",
            "linecolor": "white",
            "ticks": ""
           }
          },
          "scene": {
           "xaxis": {
            "backgroundcolor": "#E5ECF6",
            "gridcolor": "white",
            "gridwidth": 2,
            "linecolor": "white",
            "showbackground": true,
            "ticks": "",
            "zerolinecolor": "white"
           },
           "yaxis": {
            "backgroundcolor": "#E5ECF6",
            "gridcolor": "white",
            "gridwidth": 2,
            "linecolor": "white",
            "showbackground": true,
            "ticks": "",
            "zerolinecolor": "white"
           },
           "zaxis": {
            "backgroundcolor": "#E5ECF6",
            "gridcolor": "white",
            "gridwidth": 2,
            "linecolor": "white",
            "showbackground": true,
            "ticks": "",
            "zerolinecolor": "white"
           }
          },
          "shapedefaults": {
           "line": {
            "color": "#2a3f5f"
           }
          },
          "ternary": {
           "aaxis": {
            "gridcolor": "white",
            "linecolor": "white",
            "ticks": ""
           },
           "baxis": {
            "gridcolor": "white",
            "linecolor": "white",
            "ticks": ""
           },
           "bgcolor": "#E5ECF6",
           "caxis": {
            "gridcolor": "white",
            "linecolor": "white",
            "ticks": ""
           }
          },
          "title": {
           "x": 0.05
          },
          "xaxis": {
           "automargin": true,
           "gridcolor": "white",
           "linecolor": "white",
           "ticks": "",
           "title": {
            "standoff": 15
           },
           "zerolinecolor": "white",
           "zerolinewidth": 2
          },
          "yaxis": {
           "automargin": true,
           "gridcolor": "white",
           "linecolor": "white",
           "ticks": "",
           "title": {
            "standoff": 15
           },
           "zerolinecolor": "white",
           "zerolinewidth": 2
          }
         }
        },
        "xaxis": {
         "anchor": "y",
         "domain": [
          0,
          1
         ],
         "title": {
          "text": "report_ce_year"
         }
        },
        "yaxis": {
         "anchor": "x",
         "domain": [
          0,
          1
         ],
         "title": {
          "text": "MonthlyReportNarcoticPaidValue"
         }
        }
       }
      },
      "image/png": "[encoded data removed]"
     },
     "metadata": {},
     "output_type": "display_data"
    }
   ],
   "source": [
    "fig = px.bar(\n",
    "    sum_paid_ts,\n",
    "    x = \"report_ce_year\",\n",
    "    y = \"MonthlyReportNarcoticPaidValue\"\n",
    ")\n",
    "fig.show()"
   ]
  }
 ],
 "metadata": {
  "kernelspec": {
   "display_name": "Python 3 (ipykernel)",
   "language": "python",
   "name": "python3"
  },
  "language_info": {
   "codemirror_mode": {
    "name": "ipython",
    "version": 3
   },
   "file_extension": ".py",
   "mimetype": "text/x-python",
   "name": "python",
   "nbconvert_exporter": "python",
   "pygments_lexer": "ipython3",
   "version": "3.11.4"
  }
 },
 "nbformat": 4,
 "nbformat_minor": 5
}
