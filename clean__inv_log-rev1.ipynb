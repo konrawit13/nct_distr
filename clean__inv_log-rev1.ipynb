{
 "cells": [
  {
   "cell_type": "code",
   "execution_count": 1,
   "id": "fd9b9f5b-a5e4-48b7-9e76-3363932c0d0e",
   "metadata": {},
   "outputs": [],
   "source": [
    "import os, ast, json\n",
    "import numpy as np\n",
    "import pandas as pd\n",
    "import matplotlib.pyplot as plt\n",
    "import seaborn as sns"
   ]
  },
  {
   "cell_type": "code",
   "execution_count": 5,
   "id": "7c0694b3-bcf7-4f9d-9b10-8a1c736eacce",
   "metadata": {},
   "outputs": [],
   "source": [
    "csv_path = 'C:/Users/user/Downloads/ปริมาณสินค้าคงคลัง_ยาขาดคราว - log2 (1).csv'"
   ]
  },
  {
   "cell_type": "code",
   "execution_count": 3,
   "id": "60f8812b-9285-4ec0-bed3-56b3d1d7b509",
   "metadata": {},
   "outputs": [],
   "source": [
    "pd.set_option('display.max_columns', None)\n",
    "sns.set_theme()"
   ]
  },
  {
   "cell_type": "code",
   "execution_count": 6,
   "id": "dc1a3f1b-61be-45bf-9236-ed0ae7280a3e",
   "metadata": {},
   "outputs": [
    {
     "name": "stderr",
     "output_type": "stream",
     "text": [
      "C:\\Users\\user\\AppData\\Local\\Temp\\ipykernel_1648\\2731162379.py:1: DtypeWarning: Columns (11) have mixed types. Specify dtype option on import or set low_memory=False.\n",
      "  df = pd.read_csv(csv_path)\n"
     ]
    }
   ],
   "source": [
    "df = pd.read_csv(csv_path)"
   ]
  },
  {
   "cell_type": "code",
   "execution_count": 7,
   "id": "69546a40-052f-48d8-8803-e80d6fa2e1b9",
   "metadata": {},
   "outputs": [
    {
     "name": "stdout",
     "output_type": "stream",
     "text": [
      "<class 'pandas.core.frame.DataFrame'>\n",
      "RangeIndex: 196409 entries, 0 to 196408\n",
      "Data columns (total 16 columns):\n",
      " #   Column               Non-Null Count   Dtype  \n",
      "---  ------               --------------   -----  \n",
      " 0   ProductCode          196409 non-null  object \n",
      " 1   GenericName          196409 non-null  object \n",
      " 2   TradeName            196409 non-null  object \n",
      " 3   ProductTypeName      195869 non-null  object \n",
      " 4   ProductPricePerUnit  196409 non-null  float64\n",
      " 5   ProductPrice         196409 non-null  int64  \n",
      " 6   ProductStatus        196409 non-null  int64  \n",
      " 7   ProductRemark        0 non-null       float64\n",
      " 8   ProductUnitCode      196409 non-null  object \n",
      " 9   ProductUnitName      196409 non-null  object \n",
      " 10  ProductAll           24342 non-null   float64\n",
      " 11  ProductRemain        196409 non-null  object \n",
      " 12  ProductAllocated     196409 non-null  object \n",
      " 13  LastUpdate           196409 non-null  object \n",
      " 14  enum_stock           193068 non-null  object \n",
      " 15  isRemoved            163869 non-null  object \n",
      "dtypes: float64(3), int64(2), object(11)\n",
      "memory usage: 24.0+ MB\n"
     ]
    }
   ],
   "source": [
    "df.info()"
   ]
  },
  {
   "cell_type": "code",
   "execution_count": 8,
   "id": "7ede66ea-f269-46c5-96e5-e3659d1137e6",
   "metadata": {},
   "outputs": [
    {
     "data": {
      "text/plain": [
       "isRemoved\n",
       "False            132423\n",
       "ปกติ              15238\n",
       "FALSE              7891\n",
       "ยาขาดคราว          7356\n",
       "ยาใกล้ขาดคราว       961\n",
       "Name: count, dtype: int64"
      ]
     },
     "execution_count": 8,
     "metadata": {},
     "output_type": "execute_result"
    }
   ],
   "source": [
    "df['isRemoved'].value_counts()"
   ]
  },
  {
   "cell_type": "code",
   "execution_count": 9,
   "id": "c1e51197-3004-45a4-9919-9f2a1906f175",
   "metadata": {},
   "outputs": [
    {
     "data": {
      "text/plain": [
       "enum_stock\n",
       "ปกติ             96484\n",
       "ยาขาดคราว        70153\n",
       "FALSE            21478\n",
       "ยาใกล้ขาดคราว     4953\n",
       "Name: count, dtype: int64"
      ]
     },
     "execution_count": 9,
     "metadata": {},
     "output_type": "execute_result"
    }
   ],
   "source": [
    "df['enum_stock'].value_counts()"
   ]
  },
  {
   "cell_type": "code",
   "execution_count": 5,
   "id": "51040e34-b9ad-4c42-afa5-9373c5909131",
   "metadata": {},
   "outputs": [],
   "source": [
    "df_clean = df.loc[df['isRemoved'] != True]"
   ]
  },
  {
   "cell_type": "code",
   "execution_count": 11,
   "id": "7e2432d3-7fa4-4b13-86d9-00916ef5efd8",
   "metadata": {
    "jupyter": {
     "source_hidden": true
    }
   },
   "outputs": [],
   "source": [
    "df_clean.to_csv('C:/Users/user/Downloads/log2.csv', index=False)"
   ]
  },
  {
   "cell_type": "code",
   "execution_count": 15,
   "id": "2cdf3add-f3f3-469d-b39e-c4f7f37c64c0",
   "metadata": {
    "collapsed": true,
    "jupyter": {
     "outputs_hidden": true,
     "source_hidden": true
    },
    "scrolled": true
   },
   "outputs": [
    {
     "data": {
      "text/html": [
       "<div>\n",
       "<style scoped>\n",
       "    .dataframe tbody tr th:only-of-type {\n",
       "        vertical-align: middle;\n",
       "    }\n",
       "\n",
       "    .dataframe tbody tr th {\n",
       "        vertical-align: top;\n",
       "    }\n",
       "\n",
       "    .dataframe thead th {\n",
       "        text-align: right;\n",
       "    }\n",
       "</style>\n",
       "<table border=\"1\" class=\"dataframe\">\n",
       "  <thead>\n",
       "    <tr style=\"text-align: right;\">\n",
       "      <th></th>\n",
       "      <th>ProductCode</th>\n",
       "      <th>GenericName</th>\n",
       "      <th>TradeName</th>\n",
       "      <th>ProductTypeName</th>\n",
       "      <th>ProductPricePerUnit</th>\n",
       "      <th>ProductPrice</th>\n",
       "      <th>ProductStatus</th>\n",
       "      <th>ProductRemark</th>\n",
       "      <th>ProductUnitCode</th>\n",
       "      <th>ProductUnitName</th>\n",
       "      <th>ProductRemain</th>\n",
       "      <th>ProductAllocated</th>\n",
       "      <th>LastUpdate</th>\n",
       "      <th>enum_stock</th>\n",
       "      <th>isRemoved</th>\n",
       "      <th>daylog</th>\n",
       "    </tr>\n",
       "  </thead>\n",
       "  <tbody>\n",
       "    <tr>\n",
       "      <th>0</th>\n",
       "      <td>097EBCD3-0F75-4AC0-98AA-A33B8AED586B</td>\n",
       "      <td>Pethidine HCl injection 50 mg/ml/amp</td>\n",
       "      <td>Pethidine HCl inj. 50 mg/ml/amp (10 amp/box)</td>\n",
       "      <td>NaN</td>\n",
       "      <td>80.00</td>\n",
       "      <td>0</td>\n",
       "      <td>0</td>\n",
       "      <td>NaN</td>\n",
       "      <td>06E9F1D3-35B4-463C-B396-9D0E088B2AD0</td>\n",
       "      <td>Box</td>\n",
       "      <td>25095</td>\n",
       "      <td>518</td>\n",
       "      <td>10/7/2024 11:22:48</td>\n",
       "      <td>NaN</td>\n",
       "      <td>NaN</td>\n",
       "      <td>10/7/2024</td>\n",
       "    </tr>\n",
       "    <tr>\n",
       "      <th>1</th>\n",
       "      <td>0BC3546E-4F92-4F15-AEE4-07B4F24F26E8</td>\n",
       "      <td>Methadone HCl oral concentrate solution 10 mg/ml</td>\n",
       "      <td>Methadone HCl oral concentrate solution 10 mg/...</td>\n",
       "      <td>NaN</td>\n",
       "      <td>250.00</td>\n",
       "      <td>0</td>\n",
       "      <td>0</td>\n",
       "      <td>NaN</td>\n",
       "      <td>4CE8E50B-80B3-4003-B2B6-9D08C97DD814</td>\n",
       "      <td>Bottle</td>\n",
       "      <td>3210</td>\n",
       "      <td>55</td>\n",
       "      <td>10/7/2024 11:22:48</td>\n",
       "      <td>NaN</td>\n",
       "      <td>NaN</td>\n",
       "      <td>10/7/2024</td>\n",
       "    </tr>\n",
       "    <tr>\n",
       "      <th>2</th>\n",
       "      <td>0C639E72-027B-4807-B6B9-0992AAB12137</td>\n",
       "      <td>opium tincture</td>\n",
       "      <td>Opium Tincture 1% ( 41%-46% Ethanol)  (ขนาดบรร...</td>\n",
       "      <td>NaN</td>\n",
       "      <td>269640.00</td>\n",
       "      <td>0</td>\n",
       "      <td>0</td>\n",
       "      <td>NaN</td>\n",
       "      <td>983CCAE4-8189-4829-A871-AE25E38EEC6C</td>\n",
       "      <td>ถัง</td>\n",
       "      <td>0</td>\n",
       "      <td>0</td>\n",
       "      <td>10/7/2024 11:22:48</td>\n",
       "      <td>NaN</td>\n",
       "      <td>NaN</td>\n",
       "      <td>10/7/2024</td>\n",
       "    </tr>\n",
       "    <tr>\n",
       "      <th>3</th>\n",
       "      <td>10F0BE1C-781B-4833-BF6D-EECE4D7D3ACA</td>\n",
       "      <td>Midazolam injection 15 mg/3 ml/amp</td>\n",
       "      <td>Midazolam inj 15 mg/3 ml/amp (Hameln, Germany)...</td>\n",
       "      <td>NaN</td>\n",
       "      <td>180.00</td>\n",
       "      <td>0</td>\n",
       "      <td>0</td>\n",
       "      <td>NaN</td>\n",
       "      <td>06E9F1D3-35B4-463C-B396-9D0E088B2AD0</td>\n",
       "      <td>Box</td>\n",
       "      <td>0</td>\n",
       "      <td>0</td>\n",
       "      <td>10/7/2024 11:22:48</td>\n",
       "      <td>NaN</td>\n",
       "      <td>NaN</td>\n",
       "      <td>10/7/2024</td>\n",
       "    </tr>\n",
       "    <tr>\n",
       "      <th>4</th>\n",
       "      <td>140B3711-DB0E-43D7-A2E7-A002AEB87C07</td>\n",
       "      <td>Morphine sulfate IR tablets 10 mg</td>\n",
       "      <td>Morphine sulfate IR tablets 10 mg (100 tab/box)</td>\n",
       "      <td>NaN</td>\n",
       "      <td>190.00</td>\n",
       "      <td>0</td>\n",
       "      <td>0</td>\n",
       "      <td>NaN</td>\n",
       "      <td>06E9F1D3-35B4-463C-B396-9D0E088B2AD0</td>\n",
       "      <td>Box</td>\n",
       "      <td>9958</td>\n",
       "      <td>287</td>\n",
       "      <td>10/7/2024 11:22:48</td>\n",
       "      <td>NaN</td>\n",
       "      <td>NaN</td>\n",
       "      <td>10/7/2024</td>\n",
       "    </tr>\n",
       "    <tr>\n",
       "      <th>...</th>\n",
       "      <td>...</td>\n",
       "      <td>...</td>\n",
       "      <td>...</td>\n",
       "      <td>...</td>\n",
       "      <td>...</td>\n",
       "      <td>...</td>\n",
       "      <td>...</td>\n",
       "      <td>...</td>\n",
       "      <td>...</td>\n",
       "      <td>...</td>\n",
       "      <td>...</td>\n",
       "      <td>...</td>\n",
       "      <td>...</td>\n",
       "      <td>...</td>\n",
       "      <td>...</td>\n",
       "      <td>...</td>\n",
       "    </tr>\n",
       "    <tr>\n",
       "      <th>250999</th>\n",
       "      <td>CE6679C8-44D2-4DC4-9573-74F5895B6182</td>\n",
       "      <td>Methylphenidate HCl modified release hard caps...</td>\n",
       "      <td>Ritalin LA 20 mg  (30 cap/box)</td>\n",
       "      <td>(วจ. 2) วัตถุออกฤทธิ์ในประเภท 2</td>\n",
       "      <td>1200.00</td>\n",
       "      <td>0</td>\n",
       "      <td>0</td>\n",
       "      <td>NaN</td>\n",
       "      <td>06E9F1D3-35B4-463C-B396-9D0E088B2AD0</td>\n",
       "      <td>Box</td>\n",
       "      <td>6188</td>\n",
       "      <td>2,054</td>\n",
       "      <td>6/17/2025 8:15:02</td>\n",
       "      <td>ปกติ</td>\n",
       "      <td>False</td>\n",
       "      <td>6/17/2025</td>\n",
       "    </tr>\n",
       "    <tr>\n",
       "      <th>251000</th>\n",
       "      <td>704a211b-896a-40c7-b8e7-4655edf80f9b</td>\n",
       "      <td>Esketamine HCl nasal spray 28 mg</td>\n",
       "      <td>Spravato 28 mg (1 device/box)</td>\n",
       "      <td>(วจ. 2) วัตถุออกฤทธิ์ในประเภท 2</td>\n",
       "      <td>6500.00</td>\n",
       "      <td>0</td>\n",
       "      <td>0</td>\n",
       "      <td>NaN</td>\n",
       "      <td>06E9F1D3-35B4-463C-B396-9D0E088B2AD0</td>\n",
       "      <td>Box</td>\n",
       "      <td>952</td>\n",
       "      <td>5</td>\n",
       "      <td>6/17/2025 8:15:02</td>\n",
       "      <td>ปกติ</td>\n",
       "      <td>False</td>\n",
       "      <td>6/17/2025</td>\n",
       "    </tr>\n",
       "    <tr>\n",
       "      <th>251001</th>\n",
       "      <td>24b00027-b50b-47ec-ab23-565d094901e2</td>\n",
       "      <td>Pseudoephedrine HCl powder</td>\n",
       "      <td>Pseudoephedrine HCl powder (Malladi, India)</td>\n",
       "      <td>(วจ. 2) วัตถุออกฤทธิ์ในประเภท 2</td>\n",
       "      <td>2608.77</td>\n",
       "      <td>0</td>\n",
       "      <td>0</td>\n",
       "      <td>NaN</td>\n",
       "      <td>0DB401C5-F370-4B77-B305-0F45635B636C</td>\n",
       "      <td>kilogram</td>\n",
       "      <td>25</td>\n",
       "      <td>0</td>\n",
       "      <td>6/17/2025 8:15:02</td>\n",
       "      <td>ยาใกล้ขาดคราว</td>\n",
       "      <td>False</td>\n",
       "      <td>6/17/2025</td>\n",
       "    </tr>\n",
       "    <tr>\n",
       "      <th>251003</th>\n",
       "      <td>fae155f3-1909-469c-ae8f-01a35bdd3b0a</td>\n",
       "      <td>Methylergometrine maleate</td>\n",
       "      <td>Methylergometrine maleate (TAPI, Czech) (LBS)</td>\n",
       "      <td>(ยส. 4) ยาเสพติดให้โทษในประเภท 4</td>\n",
       "      <td>7324.71</td>\n",
       "      <td>0</td>\n",
       "      <td>0</td>\n",
       "      <td>NaN</td>\n",
       "      <td>5CD38166-D873-40C9-AEB4-9B0BCF1862C3</td>\n",
       "      <td>gram</td>\n",
       "      <td>0</td>\n",
       "      <td>0</td>\n",
       "      <td>6/17/2025 8:15:02</td>\n",
       "      <td>ยาขาดคราว</td>\n",
       "      <td>NaN</td>\n",
       "      <td>6/17/2025</td>\n",
       "    </tr>\n",
       "    <tr>\n",
       "      <th>251004</th>\n",
       "      <td>d78e1ee7-4dcb-49f5-94fe-7a173b6cb6ec</td>\n",
       "      <td>Remifentanil B.Braun</td>\n",
       "      <td>Remifentanil B.Braun 2 mg/vial (5 vial/box)</td>\n",
       "      <td>(ยส. 2) ยาเสพติดให้โทษในประเภท 2</td>\n",
       "      <td>1325.00</td>\n",
       "      <td>0</td>\n",
       "      <td>0</td>\n",
       "      <td>NaN</td>\n",
       "      <td>06E9F1D3-35B4-463C-B396-9D0E088B2AD0</td>\n",
       "      <td>Box</td>\n",
       "      <td>0</td>\n",
       "      <td>0</td>\n",
       "      <td>6/17/2025 8:15:02</td>\n",
       "      <td>ยาขาดคราว</td>\n",
       "      <td>NaN</td>\n",
       "      <td>6/17/2025</td>\n",
       "    </tr>\n",
       "  </tbody>\n",
       "</table>\n",
       "<p>167021 rows × 16 columns</p>\n",
       "</div>"
      ],
      "text/plain": [
       "                                 ProductCode  \\\n",
       "0       097EBCD3-0F75-4AC0-98AA-A33B8AED586B   \n",
       "1       0BC3546E-4F92-4F15-AEE4-07B4F24F26E8   \n",
       "2       0C639E72-027B-4807-B6B9-0992AAB12137   \n",
       "3       10F0BE1C-781B-4833-BF6D-EECE4D7D3ACA   \n",
       "4       140B3711-DB0E-43D7-A2E7-A002AEB87C07   \n",
       "...                                      ...   \n",
       "250999  CE6679C8-44D2-4DC4-9573-74F5895B6182   \n",
       "251000  704a211b-896a-40c7-b8e7-4655edf80f9b   \n",
       "251001  24b00027-b50b-47ec-ab23-565d094901e2   \n",
       "251003  fae155f3-1909-469c-ae8f-01a35bdd3b0a   \n",
       "251004  d78e1ee7-4dcb-49f5-94fe-7a173b6cb6ec   \n",
       "\n",
       "                                              GenericName  \\\n",
       "0                    Pethidine HCl injection 50 mg/ml/amp   \n",
       "1        Methadone HCl oral concentrate solution 10 mg/ml   \n",
       "2                                          opium tincture   \n",
       "3                      Midazolam injection 15 mg/3 ml/amp   \n",
       "4                       Morphine sulfate IR tablets 10 mg   \n",
       "...                                                   ...   \n",
       "250999  Methylphenidate HCl modified release hard caps...   \n",
       "251000                  Esketamine HCl nasal spray 28 mg    \n",
       "251001                         Pseudoephedrine HCl powder   \n",
       "251003                          Methylergometrine maleate   \n",
       "251004                               Remifentanil B.Braun   \n",
       "\n",
       "                                                TradeName  \\\n",
       "0            Pethidine HCl inj. 50 mg/ml/amp (10 amp/box)   \n",
       "1       Methadone HCl oral concentrate solution 10 mg/...   \n",
       "2       Opium Tincture 1% ( 41%-46% Ethanol)  (ขนาดบรร...   \n",
       "3       Midazolam inj 15 mg/3 ml/amp (Hameln, Germany)...   \n",
       "4         Morphine sulfate IR tablets 10 mg (100 tab/box)   \n",
       "...                                                   ...   \n",
       "250999                     Ritalin LA 20 mg  (30 cap/box)   \n",
       "251000                      Spravato 28 mg (1 device/box)   \n",
       "251001        Pseudoephedrine HCl powder (Malladi, India)   \n",
       "251003      Methylergometrine maleate (TAPI, Czech) (LBS)   \n",
       "251004        Remifentanil B.Braun 2 mg/vial (5 vial/box)   \n",
       "\n",
       "                         ProductTypeName  ProductPricePerUnit  ProductPrice  \\\n",
       "0                                    NaN                80.00             0   \n",
       "1                                    NaN               250.00             0   \n",
       "2                                    NaN            269640.00             0   \n",
       "3                                    NaN               180.00             0   \n",
       "4                                    NaN               190.00             0   \n",
       "...                                  ...                  ...           ...   \n",
       "250999   (วจ. 2) วัตถุออกฤทธิ์ในประเภท 2              1200.00             0   \n",
       "251000   (วจ. 2) วัตถุออกฤทธิ์ในประเภท 2              6500.00             0   \n",
       "251001   (วจ. 2) วัตถุออกฤทธิ์ในประเภท 2              2608.77             0   \n",
       "251003  (ยส. 4) ยาเสพติดให้โทษในประเภท 4              7324.71             0   \n",
       "251004  (ยส. 2) ยาเสพติดให้โทษในประเภท 2              1325.00             0   \n",
       "\n",
       "        ProductStatus  ProductRemark                       ProductUnitCode  \\\n",
       "0                   0            NaN  06E9F1D3-35B4-463C-B396-9D0E088B2AD0   \n",
       "1                   0            NaN  4CE8E50B-80B3-4003-B2B6-9D08C97DD814   \n",
       "2                   0            NaN  983CCAE4-8189-4829-A871-AE25E38EEC6C   \n",
       "3                   0            NaN  06E9F1D3-35B4-463C-B396-9D0E088B2AD0   \n",
       "4                   0            NaN  06E9F1D3-35B4-463C-B396-9D0E088B2AD0   \n",
       "...               ...            ...                                   ...   \n",
       "250999              0            NaN  06E9F1D3-35B4-463C-B396-9D0E088B2AD0   \n",
       "251000              0            NaN  06E9F1D3-35B4-463C-B396-9D0E088B2AD0   \n",
       "251001              0            NaN  0DB401C5-F370-4B77-B305-0F45635B636C   \n",
       "251003              0            NaN  5CD38166-D873-40C9-AEB4-9B0BCF1862C3   \n",
       "251004              0            NaN  06E9F1D3-35B4-463C-B396-9D0E088B2AD0   \n",
       "\n",
       "       ProductUnitName  ProductRemain ProductAllocated          LastUpdate  \\\n",
       "0                  Box          25095              518  10/7/2024 11:22:48   \n",
       "1               Bottle           3210               55  10/7/2024 11:22:48   \n",
       "2                  ถัง              0                0  10/7/2024 11:22:48   \n",
       "3                  Box              0                0  10/7/2024 11:22:48   \n",
       "4                  Box           9958              287  10/7/2024 11:22:48   \n",
       "...                ...            ...              ...                 ...   \n",
       "250999             Box           6188            2,054   6/17/2025 8:15:02   \n",
       "251000             Box            952                5   6/17/2025 8:15:02   \n",
       "251001        kilogram             25                0   6/17/2025 8:15:02   \n",
       "251003            gram              0                0   6/17/2025 8:15:02   \n",
       "251004             Box              0                0   6/17/2025 8:15:02   \n",
       "\n",
       "           enum_stock isRemoved     daylog  \n",
       "0                 NaN       NaN  10/7/2024  \n",
       "1                 NaN       NaN  10/7/2024  \n",
       "2                 NaN       NaN  10/7/2024  \n",
       "3                 NaN       NaN  10/7/2024  \n",
       "4                 NaN       NaN  10/7/2024  \n",
       "...               ...       ...        ...  \n",
       "250999           ปกติ     False  6/17/2025  \n",
       "251000           ปกติ     False  6/17/2025  \n",
       "251001  ยาใกล้ขาดคราว     False  6/17/2025  \n",
       "251003      ยาขาดคราว       NaN  6/17/2025  \n",
       "251004      ยาขาดคราว       NaN  6/17/2025  \n",
       "\n",
       "[167021 rows x 16 columns]"
      ]
     },
     "execution_count": 15,
     "metadata": {},
     "output_type": "execute_result"
    }
   ],
   "source": [
    "df_clean"
   ]
  },
  {
   "cell_type": "code",
   "execution_count": 16,
   "id": "93f8cc10-4952-440f-9566-057d442a5c9b",
   "metadata": {
    "collapsed": true,
    "jupyter": {
     "outputs_hidden": true,
     "source_hidden": true
    }
   },
   "outputs": [
    {
     "data": {
      "text/plain": [
       "<seaborn.axisgrid.FacetGrid at 0x207bfb99ad0>"
      ]
     },
     "execution_count": 16,
     "metadata": {},
     "output_type": "execute_result"
    },
    {
     "data": {
      "image/png": "[encoded data removed]",
      "text/plain": [
       "<Figure size 500x500 with 1 Axes>"
      ]
     },
     "metadata": {},
     "output_type": "display_data"
    }
   ],
   "source": [
    "sns.relplot(\n",
    "    data=df_clean,\n",
    "    x='LastUpdate', y='ProductRemain'\n",
    ")"
   ]
  },
  {
   "cell_type": "code",
   "execution_count": 17,
   "id": "36f63fac-a35d-465d-8820-755720cec933",
   "metadata": {
    "collapsed": true,
    "jupyter": {
     "outputs_hidden": true,
     "source_hidden": true
    }
   },
   "outputs": [
    {
     "data": {
      "text/plain": [
       "<Axes: xlabel='LastUpdate', ylabel='ProductRemain'>"
      ]
     },
     "execution_count": 17,
     "metadata": {},
     "output_type": "execute_result"
    },
    {
     "data": {
      "image/png": "[encoded data removed]",
      "text/plain": [
       "<Figure size 640x480 with 1 Axes>"
      ]
     },
     "metadata": {},
     "output_type": "display_data"
    }
   ],
   "source": [
    "sns.lineplot(\n",
    "    data=df_clean,\n",
    "    x='LastUpdate', y='ProductRemain'\n",
    ")"
   ]
  },
  {
   "cell_type": "code",
   "execution_count": 19,
   "id": "f4bc08c1-8680-4d7d-b9b7-3c838f0540c4",
   "metadata": {
    "collapsed": true,
    "jupyter": {
     "outputs_hidden": true,
     "source_hidden": true
    }
   },
   "outputs": [
    {
     "data": {
      "text/html": [
       "<div>\n",
       "<style scoped>\n",
       "    .dataframe tbody tr th:only-of-type {\n",
       "        vertical-align: middle;\n",
       "    }\n",
       "\n",
       "    .dataframe tbody tr th {\n",
       "        vertical-align: top;\n",
       "    }\n",
       "\n",
       "    .dataframe thead th {\n",
       "        text-align: right;\n",
       "    }\n",
       "</style>\n",
       "<table border=\"1\" class=\"dataframe\">\n",
       "  <thead>\n",
       "    <tr style=\"text-align: right;\">\n",
       "      <th></th>\n",
       "      <th>ProductCode</th>\n",
       "      <th>GenericName</th>\n",
       "      <th>TradeName</th>\n",
       "      <th>ProductTypeName</th>\n",
       "      <th>ProductPricePerUnit</th>\n",
       "      <th>ProductPrice</th>\n",
       "      <th>ProductStatus</th>\n",
       "      <th>ProductRemark</th>\n",
       "      <th>ProductUnitCode</th>\n",
       "      <th>ProductUnitName</th>\n",
       "      <th>ProductRemain</th>\n",
       "      <th>ProductAllocated</th>\n",
       "      <th>LastUpdate</th>\n",
       "      <th>enum_stock</th>\n",
       "      <th>isRemoved</th>\n",
       "      <th>daylog</th>\n",
       "    </tr>\n",
       "  </thead>\n",
       "  <tbody>\n",
       "    <tr>\n",
       "      <th>3</th>\n",
       "      <td>10F0BE1C-781B-4833-BF6D-EECE4D7D3ACA</td>\n",
       "      <td>Midazolam injection 15 mg/3 ml/amp</td>\n",
       "      <td>Midazolam inj 15 mg/3 ml/amp (Hameln, Germany)...</td>\n",
       "      <td>NaN</td>\n",
       "      <td>180.0</td>\n",
       "      <td>0</td>\n",
       "      <td>0</td>\n",
       "      <td>NaN</td>\n",
       "      <td>06E9F1D3-35B4-463C-B396-9D0E088B2AD0</td>\n",
       "      <td>Box</td>\n",
       "      <td>0</td>\n",
       "      <td>0</td>\n",
       "      <td>10/7/2024 11:22:48</td>\n",
       "      <td>NaN</td>\n",
       "      <td>NaN</td>\n",
       "      <td>10/7/2024</td>\n",
       "    </tr>\n",
       "    <tr>\n",
       "      <th>32</th>\n",
       "      <td>6F5A22E0-68F2-4734-A4B2-02F24155D291</td>\n",
       "      <td>Midazolam injection 15 mg/3 ml/amp</td>\n",
       "      <td>Midazolam-Hameln inj 15 mg/3 ml (Siam Bioscien...</td>\n",
       "      <td>NaN</td>\n",
       "      <td>180.0</td>\n",
       "      <td>0</td>\n",
       "      <td>0</td>\n",
       "      <td>NaN</td>\n",
       "      <td>06E9F1D3-35B4-463C-B396-9D0E088B2AD0</td>\n",
       "      <td>Box</td>\n",
       "      <td>77845</td>\n",
       "      <td>602</td>\n",
       "      <td>10/7/2024 11:22:48</td>\n",
       "      <td>NaN</td>\n",
       "      <td>NaN</td>\n",
       "      <td>10/7/2024</td>\n",
       "    </tr>\n",
       "    <tr>\n",
       "      <th>93</th>\n",
       "      <td>10F0BE1C-781B-4833-BF6D-EECE4D7D3ACA</td>\n",
       "      <td>Midazolam injection 15 mg/3 ml/amp</td>\n",
       "      <td>Midazolam inj 15 mg/3 ml/amp (Hameln, Germany)...</td>\n",
       "      <td>NaN</td>\n",
       "      <td>180.0</td>\n",
       "      <td>0</td>\n",
       "      <td>0</td>\n",
       "      <td>NaN</td>\n",
       "      <td>06E9F1D3-35B4-463C-B396-9D0E088B2AD0</td>\n",
       "      <td>Box</td>\n",
       "      <td>0</td>\n",
       "      <td>0</td>\n",
       "      <td>10/7/2024 12:14:49</td>\n",
       "      <td>NaN</td>\n",
       "      <td>NaN</td>\n",
       "      <td>10/7/2024</td>\n",
       "    </tr>\n",
       "    <tr>\n",
       "      <th>122</th>\n",
       "      <td>6F5A22E0-68F2-4734-A4B2-02F24155D291</td>\n",
       "      <td>Midazolam injection 15 mg/3 ml/amp</td>\n",
       "      <td>Midazolam-Hameln inj 15 mg/3 ml (Siam Bioscien...</td>\n",
       "      <td>NaN</td>\n",
       "      <td>180.0</td>\n",
       "      <td>0</td>\n",
       "      <td>0</td>\n",
       "      <td>NaN</td>\n",
       "      <td>06E9F1D3-35B4-463C-B396-9D0E088B2AD0</td>\n",
       "      <td>Box</td>\n",
       "      <td>77845</td>\n",
       "      <td>592</td>\n",
       "      <td>10/7/2024 12:14:49</td>\n",
       "      <td>NaN</td>\n",
       "      <td>NaN</td>\n",
       "      <td>10/7/2024</td>\n",
       "    </tr>\n",
       "    <tr>\n",
       "      <th>183</th>\n",
       "      <td>10F0BE1C-781B-4833-BF6D-EECE4D7D3ACA</td>\n",
       "      <td>Midazolam injection 15 mg/3 ml/amp</td>\n",
       "      <td>Midazolam inj 15 mg/3 ml/amp (Hameln, Germany)...</td>\n",
       "      <td>NaN</td>\n",
       "      <td>180.0</td>\n",
       "      <td>0</td>\n",
       "      <td>0</td>\n",
       "      <td>NaN</td>\n",
       "      <td>06E9F1D3-35B4-463C-B396-9D0E088B2AD0</td>\n",
       "      <td>Box</td>\n",
       "      <td>0</td>\n",
       "      <td>0</td>\n",
       "      <td>10/7/2024 14:14:50</td>\n",
       "      <td>NaN</td>\n",
       "      <td>NaN</td>\n",
       "      <td>10/7/2024</td>\n",
       "    </tr>\n",
       "    <tr>\n",
       "      <th>...</th>\n",
       "      <td>...</td>\n",
       "      <td>...</td>\n",
       "      <td>...</td>\n",
       "      <td>...</td>\n",
       "      <td>...</td>\n",
       "      <td>...</td>\n",
       "      <td>...</td>\n",
       "      <td>...</td>\n",
       "      <td>...</td>\n",
       "      <td>...</td>\n",
       "      <td>...</td>\n",
       "      <td>...</td>\n",
       "      <td>...</td>\n",
       "      <td>...</td>\n",
       "      <td>...</td>\n",
       "      <td>...</td>\n",
       "    </tr>\n",
       "    <tr>\n",
       "      <th>250562</th>\n",
       "      <td>6F5A22E0-68F2-4734-A4B2-02F24155D291</td>\n",
       "      <td>Midazolam injection 15 mg/3 ml/amp</td>\n",
       "      <td>Midazolam-Hameln inj 15 mg/3 ml (Siam Bioscien...</td>\n",
       "      <td>(วจ. 2) วัตถุออกฤทธิ์ในประเภท 2</td>\n",
       "      <td>180.0</td>\n",
       "      <td>0</td>\n",
       "      <td>0</td>\n",
       "      <td>NaN</td>\n",
       "      <td>06E9F1D3-35B4-463C-B396-9D0E088B2AD0</td>\n",
       "      <td>Box</td>\n",
       "      <td>114252</td>\n",
       "      <td>1,767</td>\n",
       "      <td>6/17/2025 0:15:04</td>\n",
       "      <td>ปกติ</td>\n",
       "      <td>False</td>\n",
       "      <td>6/17/2025</td>\n",
       "    </tr>\n",
       "    <tr>\n",
       "      <th>250657</th>\n",
       "      <td>6F5A22E0-68F2-4734-A4B2-02F24155D291</td>\n",
       "      <td>Midazolam injection 15 mg/3 ml/amp</td>\n",
       "      <td>Midazolam-Hameln inj 15 mg/3 ml (Siam Bioscien...</td>\n",
       "      <td>(วจ. 2) วัตถุออกฤทธิ์ในประเภท 2</td>\n",
       "      <td>180.0</td>\n",
       "      <td>0</td>\n",
       "      <td>0</td>\n",
       "      <td>NaN</td>\n",
       "      <td>06E9F1D3-35B4-463C-B396-9D0E088B2AD0</td>\n",
       "      <td>Box</td>\n",
       "      <td>114252</td>\n",
       "      <td>1,767</td>\n",
       "      <td>6/17/2025 2:15:04</td>\n",
       "      <td>ปกติ</td>\n",
       "      <td>False</td>\n",
       "      <td>6/17/2025</td>\n",
       "    </tr>\n",
       "    <tr>\n",
       "      <th>250752</th>\n",
       "      <td>6F5A22E0-68F2-4734-A4B2-02F24155D291</td>\n",
       "      <td>Midazolam injection 15 mg/3 ml/amp</td>\n",
       "      <td>Midazolam-Hameln inj 15 mg/3 ml (Siam Bioscien...</td>\n",
       "      <td>(วจ. 2) วัตถุออกฤทธิ์ในประเภท 2</td>\n",
       "      <td>180.0</td>\n",
       "      <td>0</td>\n",
       "      <td>0</td>\n",
       "      <td>NaN</td>\n",
       "      <td>06E9F1D3-35B4-463C-B396-9D0E088B2AD0</td>\n",
       "      <td>Box</td>\n",
       "      <td>114252</td>\n",
       "      <td>1,767</td>\n",
       "      <td>6/17/2025 4:15:02</td>\n",
       "      <td>ปกติ</td>\n",
       "      <td>False</td>\n",
       "      <td>6/17/2025</td>\n",
       "    </tr>\n",
       "    <tr>\n",
       "      <th>250847</th>\n",
       "      <td>6F5A22E0-68F2-4734-A4B2-02F24155D291</td>\n",
       "      <td>Midazolam injection 15 mg/3 ml/amp</td>\n",
       "      <td>Midazolam-Hameln inj 15 mg/3 ml (Siam Bioscien...</td>\n",
       "      <td>(วจ. 2) วัตถุออกฤทธิ์ในประเภท 2</td>\n",
       "      <td>180.0</td>\n",
       "      <td>0</td>\n",
       "      <td>0</td>\n",
       "      <td>NaN</td>\n",
       "      <td>06E9F1D3-35B4-463C-B396-9D0E088B2AD0</td>\n",
       "      <td>Box</td>\n",
       "      <td>114252</td>\n",
       "      <td>1,767</td>\n",
       "      <td>6/17/2025 6:15:04</td>\n",
       "      <td>ปกติ</td>\n",
       "      <td>False</td>\n",
       "      <td>6/17/2025</td>\n",
       "    </tr>\n",
       "    <tr>\n",
       "      <th>250942</th>\n",
       "      <td>6F5A22E0-68F2-4734-A4B2-02F24155D291</td>\n",
       "      <td>Midazolam injection 15 mg/3 ml/amp</td>\n",
       "      <td>Midazolam-Hameln inj 15 mg/3 ml (Siam Bioscien...</td>\n",
       "      <td>(วจ. 2) วัตถุออกฤทธิ์ในประเภท 2</td>\n",
       "      <td>180.0</td>\n",
       "      <td>0</td>\n",
       "      <td>0</td>\n",
       "      <td>NaN</td>\n",
       "      <td>06E9F1D3-35B4-463C-B396-9D0E088B2AD0</td>\n",
       "      <td>Box</td>\n",
       "      <td>114252</td>\n",
       "      <td>1,767</td>\n",
       "      <td>6/17/2025 8:15:02</td>\n",
       "      <td>ปกติ</td>\n",
       "      <td>False</td>\n",
       "      <td>6/17/2025</td>\n",
       "    </tr>\n",
       "  </tbody>\n",
       "</table>\n",
       "<p>2991 rows × 16 columns</p>\n",
       "</div>"
      ],
      "text/plain": [
       "                                 ProductCode  \\\n",
       "3       10F0BE1C-781B-4833-BF6D-EECE4D7D3ACA   \n",
       "32      6F5A22E0-68F2-4734-A4B2-02F24155D291   \n",
       "93      10F0BE1C-781B-4833-BF6D-EECE4D7D3ACA   \n",
       "122     6F5A22E0-68F2-4734-A4B2-02F24155D291   \n",
       "183     10F0BE1C-781B-4833-BF6D-EECE4D7D3ACA   \n",
       "...                                      ...   \n",
       "250562  6F5A22E0-68F2-4734-A4B2-02F24155D291   \n",
       "250657  6F5A22E0-68F2-4734-A4B2-02F24155D291   \n",
       "250752  6F5A22E0-68F2-4734-A4B2-02F24155D291   \n",
       "250847  6F5A22E0-68F2-4734-A4B2-02F24155D291   \n",
       "250942  6F5A22E0-68F2-4734-A4B2-02F24155D291   \n",
       "\n",
       "                               GenericName  \\\n",
       "3       Midazolam injection 15 mg/3 ml/amp   \n",
       "32      Midazolam injection 15 mg/3 ml/amp   \n",
       "93      Midazolam injection 15 mg/3 ml/amp   \n",
       "122     Midazolam injection 15 mg/3 ml/amp   \n",
       "183     Midazolam injection 15 mg/3 ml/amp   \n",
       "...                                    ...   \n",
       "250562  Midazolam injection 15 mg/3 ml/amp   \n",
       "250657  Midazolam injection 15 mg/3 ml/amp   \n",
       "250752  Midazolam injection 15 mg/3 ml/amp   \n",
       "250847  Midazolam injection 15 mg/3 ml/amp   \n",
       "250942  Midazolam injection 15 mg/3 ml/amp   \n",
       "\n",
       "                                                TradeName  \\\n",
       "3       Midazolam inj 15 mg/3 ml/amp (Hameln, Germany)...   \n",
       "32      Midazolam-Hameln inj 15 mg/3 ml (Siam Bioscien...   \n",
       "93      Midazolam inj 15 mg/3 ml/amp (Hameln, Germany)...   \n",
       "122     Midazolam-Hameln inj 15 mg/3 ml (Siam Bioscien...   \n",
       "183     Midazolam inj 15 mg/3 ml/amp (Hameln, Germany)...   \n",
       "...                                                   ...   \n",
       "250562  Midazolam-Hameln inj 15 mg/3 ml (Siam Bioscien...   \n",
       "250657  Midazolam-Hameln inj 15 mg/3 ml (Siam Bioscien...   \n",
       "250752  Midazolam-Hameln inj 15 mg/3 ml (Siam Bioscien...   \n",
       "250847  Midazolam-Hameln inj 15 mg/3 ml (Siam Bioscien...   \n",
       "250942  Midazolam-Hameln inj 15 mg/3 ml (Siam Bioscien...   \n",
       "\n",
       "                        ProductTypeName  ProductPricePerUnit  ProductPrice  \\\n",
       "3                                   NaN                180.0             0   \n",
       "32                                  NaN                180.0             0   \n",
       "93                                  NaN                180.0             0   \n",
       "122                                 NaN                180.0             0   \n",
       "183                                 NaN                180.0             0   \n",
       "...                                 ...                  ...           ...   \n",
       "250562  (วจ. 2) วัตถุออกฤทธิ์ในประเภท 2                180.0             0   \n",
       "250657  (วจ. 2) วัตถุออกฤทธิ์ในประเภท 2                180.0             0   \n",
       "250752  (วจ. 2) วัตถุออกฤทธิ์ในประเภท 2                180.0             0   \n",
       "250847  (วจ. 2) วัตถุออกฤทธิ์ในประเภท 2                180.0             0   \n",
       "250942  (วจ. 2) วัตถุออกฤทธิ์ในประเภท 2                180.0             0   \n",
       "\n",
       "        ProductStatus  ProductRemark                       ProductUnitCode  \\\n",
       "3                   0            NaN  06E9F1D3-35B4-463C-B396-9D0E088B2AD0   \n",
       "32                  0            NaN  06E9F1D3-35B4-463C-B396-9D0E088B2AD0   \n",
       "93                  0            NaN  06E9F1D3-35B4-463C-B396-9D0E088B2AD0   \n",
       "122                 0            NaN  06E9F1D3-35B4-463C-B396-9D0E088B2AD0   \n",
       "183                 0            NaN  06E9F1D3-35B4-463C-B396-9D0E088B2AD0   \n",
       "...               ...            ...                                   ...   \n",
       "250562              0            NaN  06E9F1D3-35B4-463C-B396-9D0E088B2AD0   \n",
       "250657              0            NaN  06E9F1D3-35B4-463C-B396-9D0E088B2AD0   \n",
       "250752              0            NaN  06E9F1D3-35B4-463C-B396-9D0E088B2AD0   \n",
       "250847              0            NaN  06E9F1D3-35B4-463C-B396-9D0E088B2AD0   \n",
       "250942              0            NaN  06E9F1D3-35B4-463C-B396-9D0E088B2AD0   \n",
       "\n",
       "       ProductUnitName  ProductRemain ProductAllocated          LastUpdate  \\\n",
       "3                  Box              0                0  10/7/2024 11:22:48   \n",
       "32                 Box          77845              602  10/7/2024 11:22:48   \n",
       "93                 Box              0                0  10/7/2024 12:14:49   \n",
       "122                Box          77845              592  10/7/2024 12:14:49   \n",
       "183                Box              0                0  10/7/2024 14:14:50   \n",
       "...                ...            ...              ...                 ...   \n",
       "250562             Box         114252            1,767   6/17/2025 0:15:04   \n",
       "250657             Box         114252            1,767   6/17/2025 2:15:04   \n",
       "250752             Box         114252            1,767   6/17/2025 4:15:02   \n",
       "250847             Box         114252            1,767   6/17/2025 6:15:04   \n",
       "250942             Box         114252            1,767   6/17/2025 8:15:02   \n",
       "\n",
       "       enum_stock isRemoved     daylog  \n",
       "3             NaN       NaN  10/7/2024  \n",
       "32            NaN       NaN  10/7/2024  \n",
       "93            NaN       NaN  10/7/2024  \n",
       "122           NaN       NaN  10/7/2024  \n",
       "183           NaN       NaN  10/7/2024  \n",
       "...           ...       ...        ...  \n",
       "250562       ปกติ     False  6/17/2025  \n",
       "250657       ปกติ     False  6/17/2025  \n",
       "250752       ปกติ     False  6/17/2025  \n",
       "250847       ปกติ     False  6/17/2025  \n",
       "250942       ปกติ     False  6/17/2025  \n",
       "\n",
       "[2991 rows x 16 columns]"
      ]
     },
     "execution_count": 19,
     "metadata": {},
     "output_type": "execute_result"
    }
   ],
   "source": [
    "df_clean.loc[df_clean['GenericName'] == 'Midazolam injection 15 mg/3 ml/amp']"
   ]
  },
  {
   "cell_type": "code",
   "execution_count": 6,
   "id": "b4cc10d2-bae3-411a-8864-caf353ce50f8",
   "metadata": {},
   "outputs": [],
   "source": [
    "df_mid_big = df_clean.loc[df_clean['GenericName'] == 'Midazolam injection 15 mg/3 ml/amp']"
   ]
  },
  {
   "cell_type": "code",
   "execution_count": 7,
   "id": "bd4ec1a1-168c-4157-8ebd-28c7dd15c9ed",
   "metadata": {},
   "outputs": [],
   "source": [
    "df_mid_big.loc[:,'LastUpdate'] = pd.to_datetime(df_mid_big['LastUpdate'])"
   ]
  },
  {
   "cell_type": "code",
   "execution_count": 8,
   "id": "c737f679-643f-4883-866e-502478acd0bb",
   "metadata": {
    "collapsed": true,
    "jupyter": {
     "outputs_hidden": true,
     "source_hidden": true
    }
   },
   "outputs": [
    {
     "ename": "KeyboardInterrupt",
     "evalue": "",
     "output_type": "error",
     "traceback": [
      "\u001b[1;31m---------------------------------------------------------------------------\u001b[0m",
      "\u001b[1;31mKeyboardInterrupt\u001b[0m                         Traceback (most recent call last)",
      "Cell \u001b[1;32mIn[8], line 1\u001b[0m\n\u001b[1;32m----> 1\u001b[0m \u001b[43msns\u001b[49m\u001b[38;5;241;43m.\u001b[39;49m\u001b[43mlineplot\u001b[49m\u001b[43m(\u001b[49m\n\u001b[0;32m      2\u001b[0m \u001b[43m    \u001b[49m\u001b[43mdata\u001b[49m\u001b[38;5;241;43m=\u001b[39;49m\u001b[43mdf_mid_big\u001b[49m\u001b[43m,\u001b[49m\n\u001b[0;32m      3\u001b[0m \u001b[43m    \u001b[49m\u001b[43mx\u001b[49m\u001b[38;5;241;43m=\u001b[39;49m\u001b[38;5;124;43m'\u001b[39;49m\u001b[38;5;124;43mLastUpdate\u001b[39;49m\u001b[38;5;124;43m'\u001b[39;49m\u001b[43m,\u001b[49m\u001b[43m \u001b[49m\u001b[43my\u001b[49m\u001b[38;5;241;43m=\u001b[39;49m\u001b[38;5;124;43m'\u001b[39;49m\u001b[38;5;124;43mProductRemain\u001b[39;49m\u001b[38;5;124;43m'\u001b[39;49m\n\u001b[0;32m      4\u001b[0m \u001b[43m)\u001b[49m\n",
      "File \u001b[1;32m~\\root_dir\\src\\envfda1\\Lib\\site-packages\\seaborn\\relational.py:515\u001b[0m, in \u001b[0;36mlineplot\u001b[1;34m(data, x, y, hue, size, style, units, weights, palette, hue_order, hue_norm, sizes, size_order, size_norm, dashes, markers, style_order, estimator, errorbar, n_boot, seed, orient, sort, err_style, err_kws, legend, ci, ax, **kwargs)\u001b[0m\n\u001b[0;32m    512\u001b[0m color \u001b[38;5;241m=\u001b[39m kwargs\u001b[38;5;241m.\u001b[39mpop(\u001b[38;5;124m\"\u001b[39m\u001b[38;5;124mcolor\u001b[39m\u001b[38;5;124m\"\u001b[39m, kwargs\u001b[38;5;241m.\u001b[39mpop(\u001b[38;5;124m\"\u001b[39m\u001b[38;5;124mc\u001b[39m\u001b[38;5;124m\"\u001b[39m, \u001b[38;5;28;01mNone\u001b[39;00m))\n\u001b[0;32m    513\u001b[0m kwargs[\u001b[38;5;124m\"\u001b[39m\u001b[38;5;124mcolor\u001b[39m\u001b[38;5;124m\"\u001b[39m] \u001b[38;5;241m=\u001b[39m _default_color(ax\u001b[38;5;241m.\u001b[39mplot, hue, color, kwargs)\n\u001b[1;32m--> 515\u001b[0m \u001b[43mp\u001b[49m\u001b[38;5;241;43m.\u001b[39;49m\u001b[43mplot\u001b[49m\u001b[43m(\u001b[49m\u001b[43max\u001b[49m\u001b[43m,\u001b[49m\u001b[43m \u001b[49m\u001b[43mkwargs\u001b[49m\u001b[43m)\u001b[49m\n\u001b[0;32m    516\u001b[0m \u001b[38;5;28;01mreturn\u001b[39;00m ax\n",
      "File \u001b[1;32m~\\root_dir\\src\\envfda1\\Lib\\site-packages\\seaborn\\relational.py:295\u001b[0m, in \u001b[0;36m_LinePlotter.plot\u001b[1;34m(self, ax, kws)\u001b[0m\n\u001b[0;32m    291\u001b[0m     grouped \u001b[38;5;241m=\u001b[39m sub_data\u001b[38;5;241m.\u001b[39mgroupby(orient, sort\u001b[38;5;241m=\u001b[39m\u001b[38;5;28mself\u001b[39m\u001b[38;5;241m.\u001b[39msort)\n\u001b[0;32m    292\u001b[0m     \u001b[38;5;66;03m# Could pass as_index=False instead of reset_index,\u001b[39;00m\n\u001b[0;32m    293\u001b[0m     \u001b[38;5;66;03m# but that fails on a corner case with older pandas.\u001b[39;00m\n\u001b[0;32m    294\u001b[0m     sub_data \u001b[38;5;241m=\u001b[39m (\n\u001b[1;32m--> 295\u001b[0m         \u001b[43mgrouped\u001b[49m\n\u001b[0;32m    296\u001b[0m \u001b[43m        \u001b[49m\u001b[38;5;241;43m.\u001b[39;49m\u001b[43mapply\u001b[49m\u001b[43m(\u001b[49m\u001b[43magg\u001b[49m\u001b[43m,\u001b[49m\u001b[43m \u001b[49m\u001b[43mother\u001b[49m\u001b[43m,\u001b[49m\u001b[43m \u001b[49m\u001b[38;5;241;43m*\u001b[39;49m\u001b[38;5;241;43m*\u001b[39;49m\u001b[43mgroupby_apply_include_groups\u001b[49m\u001b[43m(\u001b[49m\u001b[38;5;28;43;01mFalse\u001b[39;49;00m\u001b[43m)\u001b[49m\u001b[43m)\u001b[49m\n\u001b[0;32m    297\u001b[0m         \u001b[38;5;241m.\u001b[39mreset_index()\n\u001b[0;32m    298\u001b[0m     )\n\u001b[0;32m    299\u001b[0m \u001b[38;5;28;01melse\u001b[39;00m:\n\u001b[0;32m    300\u001b[0m     sub_data[\u001b[38;5;124mf\u001b[39m\u001b[38;5;124m\"\u001b[39m\u001b[38;5;132;01m{\u001b[39;00mother\u001b[38;5;132;01m}\u001b[39;00m\u001b[38;5;124mmin\u001b[39m\u001b[38;5;124m\"\u001b[39m] \u001b[38;5;241m=\u001b[39m np\u001b[38;5;241m.\u001b[39mnan\n",
      "File \u001b[1;32m~\\root_dir\\src\\envfda1\\Lib\\site-packages\\pandas\\core\\groupby\\groupby.py:1819\u001b[0m, in \u001b[0;36mGroupBy.apply\u001b[1;34m(self, func, include_groups, *args, **kwargs)\u001b[0m\n\u001b[0;32m   1816\u001b[0m     f \u001b[38;5;241m=\u001b[39m func\n\u001b[0;32m   1818\u001b[0m \u001b[38;5;28;01mif\u001b[39;00m \u001b[38;5;129;01mnot\u001b[39;00m include_groups:\n\u001b[1;32m-> 1819\u001b[0m     \u001b[38;5;28;01mreturn\u001b[39;00m \u001b[38;5;28;43mself\u001b[39;49m\u001b[38;5;241;43m.\u001b[39;49m\u001b[43m_python_apply_general\u001b[49m\u001b[43m(\u001b[49m\u001b[43mf\u001b[49m\u001b[43m,\u001b[49m\u001b[43m \u001b[49m\u001b[38;5;28;43mself\u001b[39;49m\u001b[38;5;241;43m.\u001b[39;49m\u001b[43m_obj_with_exclusions\u001b[49m\u001b[43m)\u001b[49m\n\u001b[0;32m   1821\u001b[0m \u001b[38;5;66;03m# ignore SettingWithCopy here in case the user mutates\u001b[39;00m\n\u001b[0;32m   1822\u001b[0m \u001b[38;5;28;01mwith\u001b[39;00m option_context(\u001b[38;5;124m\"\u001b[39m\u001b[38;5;124mmode.chained_assignment\u001b[39m\u001b[38;5;124m\"\u001b[39m, \u001b[38;5;28;01mNone\u001b[39;00m):\n",
      "File \u001b[1;32m~\\root_dir\\src\\envfda1\\Lib\\site-packages\\pandas\\core\\groupby\\groupby.py:1885\u001b[0m, in \u001b[0;36mGroupBy._python_apply_general\u001b[1;34m(self, f, data, not_indexed_same, is_transform, is_agg)\u001b[0m\n\u001b[0;32m   1850\u001b[0m \u001b[38;5;129m@final\u001b[39m\n\u001b[0;32m   1851\u001b[0m \u001b[38;5;28;01mdef\u001b[39;00m \u001b[38;5;21m_python_apply_general\u001b[39m(\n\u001b[0;32m   1852\u001b[0m     \u001b[38;5;28mself\u001b[39m,\n\u001b[1;32m   (...)\u001b[0m\n\u001b[0;32m   1857\u001b[0m     is_agg: \u001b[38;5;28mbool\u001b[39m \u001b[38;5;241m=\u001b[39m \u001b[38;5;28;01mFalse\u001b[39;00m,\n\u001b[0;32m   1858\u001b[0m ) \u001b[38;5;241m-\u001b[39m\u001b[38;5;241m>\u001b[39m NDFrameT:\n\u001b[0;32m   1859\u001b[0m \u001b[38;5;250m    \u001b[39m\u001b[38;5;124;03m\"\"\"\u001b[39;00m\n\u001b[0;32m   1860\u001b[0m \u001b[38;5;124;03m    Apply function f in python space\u001b[39;00m\n\u001b[0;32m   1861\u001b[0m \n\u001b[1;32m   (...)\u001b[0m\n\u001b[0;32m   1883\u001b[0m \u001b[38;5;124;03m        data after applying f\u001b[39;00m\n\u001b[0;32m   1884\u001b[0m \u001b[38;5;124;03m    \"\"\"\u001b[39;00m\n\u001b[1;32m-> 1885\u001b[0m     values, mutated \u001b[38;5;241m=\u001b[39m \u001b[38;5;28;43mself\u001b[39;49m\u001b[38;5;241;43m.\u001b[39;49m\u001b[43m_grouper\u001b[49m\u001b[38;5;241;43m.\u001b[39;49m\u001b[43mapply_groupwise\u001b[49m\u001b[43m(\u001b[49m\u001b[43mf\u001b[49m\u001b[43m,\u001b[49m\u001b[43m \u001b[49m\u001b[43mdata\u001b[49m\u001b[43m,\u001b[49m\u001b[43m \u001b[49m\u001b[38;5;28;43mself\u001b[39;49m\u001b[38;5;241;43m.\u001b[39;49m\u001b[43maxis\u001b[49m\u001b[43m)\u001b[49m\n\u001b[0;32m   1886\u001b[0m     \u001b[38;5;28;01mif\u001b[39;00m not_indexed_same \u001b[38;5;129;01mis\u001b[39;00m \u001b[38;5;28;01mNone\u001b[39;00m:\n\u001b[0;32m   1887\u001b[0m         not_indexed_same \u001b[38;5;241m=\u001b[39m mutated\n",
      "File \u001b[1;32m~\\root_dir\\src\\envfda1\\Lib\\site-packages\\pandas\\core\\groupby\\ops.py:918\u001b[0m, in \u001b[0;36mBaseGrouper.apply_groupwise\u001b[1;34m(self, f, data, axis)\u001b[0m\n\u001b[0;32m    916\u001b[0m \u001b[38;5;66;03m# group might be modified\u001b[39;00m\n\u001b[0;32m    917\u001b[0m group_axes \u001b[38;5;241m=\u001b[39m group\u001b[38;5;241m.\u001b[39maxes\n\u001b[1;32m--> 918\u001b[0m res \u001b[38;5;241m=\u001b[39m \u001b[43mf\u001b[49m\u001b[43m(\u001b[49m\u001b[43mgroup\u001b[49m\u001b[43m)\u001b[49m\n\u001b[0;32m    919\u001b[0m \u001b[38;5;28;01mif\u001b[39;00m \u001b[38;5;129;01mnot\u001b[39;00m mutated \u001b[38;5;129;01mand\u001b[39;00m \u001b[38;5;129;01mnot\u001b[39;00m _is_indexed_like(res, group_axes, axis):\n\u001b[0;32m    920\u001b[0m     mutated \u001b[38;5;241m=\u001b[39m \u001b[38;5;28;01mTrue\u001b[39;00m\n",
      "File \u001b[1;32m~\\root_dir\\src\\envfda1\\Lib\\site-packages\\pandas\\core\\groupby\\groupby.py:1809\u001b[0m, in \u001b[0;36mGroupBy.apply.<locals>.f\u001b[1;34m(g)\u001b[0m\n\u001b[0;32m   1807\u001b[0m \u001b[38;5;129m@wraps\u001b[39m(func)\n\u001b[0;32m   1808\u001b[0m \u001b[38;5;28;01mdef\u001b[39;00m \u001b[38;5;21mf\u001b[39m(g):\n\u001b[1;32m-> 1809\u001b[0m     \u001b[38;5;28;01mreturn\u001b[39;00m \u001b[43mfunc\u001b[49m\u001b[43m(\u001b[49m\u001b[43mg\u001b[49m\u001b[43m,\u001b[49m\u001b[43m \u001b[49m\u001b[38;5;241;43m*\u001b[39;49m\u001b[43margs\u001b[49m\u001b[43m,\u001b[49m\u001b[43m \u001b[49m\u001b[38;5;241;43m*\u001b[39;49m\u001b[38;5;241;43m*\u001b[39;49m\u001b[43mkwargs\u001b[49m\u001b[43m)\u001b[49m\n",
      "File \u001b[1;32m~\\root_dir\\src\\envfda1\\Lib\\site-packages\\seaborn\\_statistics.py:517\u001b[0m, in \u001b[0;36mEstimateAggregator.__call__\u001b[1;34m(self, data, var)\u001b[0m\n\u001b[0;32m    515\u001b[0m \u001b[38;5;28;01melif\u001b[39;00m \u001b[38;5;28mself\u001b[39m\u001b[38;5;241m.\u001b[39merror_method \u001b[38;5;241m==\u001b[39m \u001b[38;5;124m\"\u001b[39m\u001b[38;5;124mci\u001b[39m\u001b[38;5;124m\"\u001b[39m:\n\u001b[0;32m    516\u001b[0m     units \u001b[38;5;241m=\u001b[39m data\u001b[38;5;241m.\u001b[39mget(\u001b[38;5;124m\"\u001b[39m\u001b[38;5;124munits\u001b[39m\u001b[38;5;124m\"\u001b[39m, \u001b[38;5;28;01mNone\u001b[39;00m)\n\u001b[1;32m--> 517\u001b[0m     boots \u001b[38;5;241m=\u001b[39m \u001b[43mbootstrap\u001b[49m\u001b[43m(\u001b[49m\u001b[43mvals\u001b[49m\u001b[43m,\u001b[49m\u001b[43m \u001b[49m\u001b[43munits\u001b[49m\u001b[38;5;241;43m=\u001b[39;49m\u001b[43munits\u001b[49m\u001b[43m,\u001b[49m\u001b[43m \u001b[49m\u001b[43mfunc\u001b[49m\u001b[38;5;241;43m=\u001b[39;49m\u001b[38;5;28;43mself\u001b[39;49m\u001b[38;5;241;43m.\u001b[39;49m\u001b[43mestimator\u001b[49m\u001b[43m,\u001b[49m\u001b[43m \u001b[49m\u001b[38;5;241;43m*\u001b[39;49m\u001b[38;5;241;43m*\u001b[39;49m\u001b[38;5;28;43mself\u001b[39;49m\u001b[38;5;241;43m.\u001b[39;49m\u001b[43mboot_kws\u001b[49m\u001b[43m)\u001b[49m\n\u001b[0;32m    518\u001b[0m     err_min, err_max \u001b[38;5;241m=\u001b[39m _percentile_interval(boots, \u001b[38;5;28mself\u001b[39m\u001b[38;5;241m.\u001b[39merror_level)\n\u001b[0;32m    520\u001b[0m \u001b[38;5;28;01mreturn\u001b[39;00m pd\u001b[38;5;241m.\u001b[39mSeries({var: estimate, \u001b[38;5;124mf\u001b[39m\u001b[38;5;124m\"\u001b[39m\u001b[38;5;132;01m{\u001b[39;00mvar\u001b[38;5;132;01m}\u001b[39;00m\u001b[38;5;124mmin\u001b[39m\u001b[38;5;124m\"\u001b[39m: err_min, \u001b[38;5;124mf\u001b[39m\u001b[38;5;124m\"\u001b[39m\u001b[38;5;132;01m{\u001b[39;00mvar\u001b[38;5;132;01m}\u001b[39;00m\u001b[38;5;124mmax\u001b[39m\u001b[38;5;124m\"\u001b[39m: err_max})\n",
      "File \u001b[1;32m~\\root_dir\\src\\envfda1\\Lib\\site-packages\\seaborn\\algorithms.py:98\u001b[0m, in \u001b[0;36mbootstrap\u001b[1;34m(*args, **kwargs)\u001b[0m\n\u001b[0;32m     96\u001b[0m boot_dist \u001b[38;5;241m=\u001b[39m []\n\u001b[0;32m     97\u001b[0m \u001b[38;5;28;01mfor\u001b[39;00m i \u001b[38;5;129;01min\u001b[39;00m \u001b[38;5;28mrange\u001b[39m(\u001b[38;5;28mint\u001b[39m(n_boot)):\n\u001b[1;32m---> 98\u001b[0m     resampler \u001b[38;5;241m=\u001b[39m integers(\u001b[38;5;241m0\u001b[39m, n, n, dtype\u001b[38;5;241m=\u001b[39mnp\u001b[38;5;241m.\u001b[39mintp)  \u001b[38;5;66;03m# intp is indexing dtype\u001b[39;00m\n\u001b[0;32m     99\u001b[0m     sample \u001b[38;5;241m=\u001b[39m [a\u001b[38;5;241m.\u001b[39mtake(resampler, axis\u001b[38;5;241m=\u001b[39m\u001b[38;5;241m0\u001b[39m) \u001b[38;5;28;01mfor\u001b[39;00m a \u001b[38;5;129;01min\u001b[39;00m args]\n\u001b[0;32m    100\u001b[0m     boot_dist\u001b[38;5;241m.\u001b[39mappend(f(\u001b[38;5;241m*\u001b[39msample, \u001b[38;5;241m*\u001b[39m\u001b[38;5;241m*\u001b[39mfunc_kwargs))\n",
      "\u001b[1;31mKeyboardInterrupt\u001b[0m: "
     ]
    },
    {
     "data": {
      "image/png": "[encoded data removed]",
      "text/plain": [
       "<Figure size 640x480 with 1 Axes>"
      ]
     },
     "metadata": {},
     "output_type": "display_data"
    }
   ],
   "source": [
    "sns.lineplot(\n",
    "    data=df_mid_big,\n",
    "    x='LastUpdate', y='ProductRemain'\n",
    ")"
   ]
  },
  {
   "cell_type": "code",
   "execution_count": 22,
   "id": "b1a4dca2-1b1b-40b5-938e-d4b2d0aebd26",
   "metadata": {
    "collapsed": true,
    "jupyter": {
     "outputs_hidden": true,
     "source_hidden": true
    }
   },
   "outputs": [
    {
     "data": {
      "text/plain": [
       "<Axes: xlabel='LastUpdate', ylabel='ProductRemain'>"
      ]
     },
     "execution_count": 22,
     "metadata": {},
     "output_type": "execute_result"
    },
    {
     "data": {
      "image/png": "[encoded data removed]",
      "text/plain": [
       "<Figure size 640x480 with 1 Axes>"
      ]
     },
     "metadata": {},
     "output_type": "display_data"
    }
   ],
   "source": [
    "sns.lineplot(\n",
    "    data=df_mid_big, kind=\"line\",\n",
    "    x='LastUpdate', y='ProductRemain',\n",
    "    errorbar=None\n",
    ")"
   ]
  },
  {
   "cell_type": "code",
   "execution_count": 8,
   "id": "240d5d1a-9481-49f0-b68f-6c7b40a346ba",
   "metadata": {},
   "outputs": [],
   "source": [
    "df_mid_small = df_clean.loc[df_clean['GenericName'] == 'Midazolam injection 5 mg/ml/amp']"
   ]
  },
  {
   "cell_type": "markdown",
   "id": "37998fdb-7aef-4ce8-8665-917609ebba9e",
   "metadata": {},
   "source": [
    "<h1>Ensure 'LastUpdate' is a datetime object</h1>"
   ]
  },
  {
   "cell_type": "code",
   "execution_count": 9,
   "id": "0757ff8f-fc0d-4672-b946-9ac2f8d20357",
   "metadata": {},
   "outputs": [],
   "source": [
    "df_mid_small.loc[:,'LastUpdate'] = pd.to_datetime(df_mid_small['LastUpdate'])"
   ]
  },
  {
   "cell_type": "code",
   "execution_count": 10,
   "id": "b66ef631-8b51-4d88-a37b-b012537fe0e9",
   "metadata": {
    "collapsed": true,
    "jupyter": {
     "outputs_hidden": true,
     "source_hidden": true
    }
   },
   "outputs": [
    {
     "data": {
      "text/plain": [
       "<Axes: xlabel='LastUpdate', ylabel='ProductRemain'>"
      ]
     },
     "execution_count": 10,
     "metadata": {},
     "output_type": "execute_result"
    },
    {
     "data": {
      "image/png": "[encoded data removed]",
      "text/plain": [
       "<Figure size 1200x600 with 1 Axes>"
      ]
     },
     "metadata": {},
     "output_type": "display_data"
    }
   ],
   "source": [
    "plt.figure(figsize=(12, 6))\n",
    "sns.lineplot(\n",
    "    data=df_mid_small,\n",
    "    x='LastUpdate', y='ProductRemain',\n",
    "    errorbar=None\n",
    ")"
   ]
  },
  {
   "cell_type": "code",
   "execution_count": 10,
   "id": "81de2742-706e-4d29-9e48-b8d466271349",
   "metadata": {},
   "outputs": [
    {
     "name": "stderr",
     "output_type": "stream",
     "text": [
      "C:\\Users\\user\\root_dir\\src\\envfda1\\Lib\\site-packages\\pandas\\core\\indexes\\base.py:7587: FutureWarning: Dtype inference on a pandas object (Series, Index, ExtensionArray) is deprecated. The Index constructor will keep the original dtype in the future. Call `infer_objects` on the result to get the old behavior.\n",
      "  return Index(sequences[0], name=names)\n"
     ]
    }
   ],
   "source": [
    "# Set 'LastUpdate' as index for resampling\n",
    "df_resampled = df_mid_small.set_index('LastUpdate')\n",
    "\n",
    "# Example: Resample to daily mean\n",
    "# You can change 'D' to 'H' for hourly, 'W' for weekly, 'M' for monthly\n",
    "df_daily_mean = df_resampled['ProductRemain'].resample('D').mean().reset_index()"
   ]
  },
  {
   "cell_type": "code",
   "execution_count": 12,
   "id": "01ee590c-a611-48da-89da-4e47b0ae8754",
   "metadata": {},
   "outputs": [],
   "source": [
    "df_mid_small = df_mid_small.sort_values(by='LastUpdate').reset_index(drop=True)"
   ]
  },
  {
   "cell_type": "code",
   "execution_count": 13,
   "id": "b0c59e72-fb92-40ba-ab58-a25997405659",
   "metadata": {
    "collapsed": true,
    "jupyter": {
     "outputs_hidden": true
    }
   },
   "outputs": [
    {
     "data": {
      "image/png": "[encoded data removed]",
      "text/plain": [
       "<Figure size 1200x600 with 1 Axes>"
      ]
     },
     "metadata": {},
     "output_type": "display_data"
    }
   ],
   "source": [
    "# Now plot the resampled data\n",
    "plt.figure(figsize=(12, 6))\n",
    "sns.lineplot(data=df_daily_mean, x='LastUpdate', y='ProductRemain', errorbar=None)\n",
    "plt.title('Product Remain Over Time (Daily Mean)')\n",
    "plt.xlabel('Date')\n",
    "plt.ylabel('Product Remain')\n",
    "plt.show()"
   ]
  },
  {
   "cell_type": "code",
   "execution_count": 14,
   "id": "40eda199-2c2a-4a77-94df-ac587e066813",
   "metadata": {},
   "outputs": [],
   "source": [
    "df_mid_small['deltaProductRemain'] = df_mid_small['ProductRemain'].diff().fillna(0)"
   ]
  },
  {
   "cell_type": "code",
   "execution_count": 15,
   "id": "95be2754-ba62-4d01-8ffa-bc455bfb97d5",
   "metadata": {
    "collapsed": true,
    "jupyter": {
     "outputs_hidden": true
    }
   },
   "outputs": [
    {
     "data": {
      "text/html": [
       "<div>\n",
       "<style scoped>\n",
       "    .dataframe tbody tr th:only-of-type {\n",
       "        vertical-align: middle;\n",
       "    }\n",
       "\n",
       "    .dataframe tbody tr th {\n",
       "        vertical-align: top;\n",
       "    }\n",
       "\n",
       "    .dataframe thead th {\n",
       "        text-align: right;\n",
       "    }\n",
       "</style>\n",
       "<table border=\"1\" class=\"dataframe\">\n",
       "  <thead>\n",
       "    <tr style=\"text-align: right;\">\n",
       "      <th></th>\n",
       "      <th>ProductCode</th>\n",
       "      <th>GenericName</th>\n",
       "      <th>TradeName</th>\n",
       "      <th>ProductTypeName</th>\n",
       "      <th>ProductPricePerUnit</th>\n",
       "      <th>ProductPrice</th>\n",
       "      <th>ProductStatus</th>\n",
       "      <th>ProductRemark</th>\n",
       "      <th>ProductUnitCode</th>\n",
       "      <th>ProductUnitName</th>\n",
       "      <th>ProductRemain</th>\n",
       "      <th>ProductAllocated</th>\n",
       "      <th>LastUpdate</th>\n",
       "      <th>enum_stock</th>\n",
       "      <th>isRemoved</th>\n",
       "      <th>daylog</th>\n",
       "      <th>deltaProductRemain</th>\n",
       "    </tr>\n",
       "  </thead>\n",
       "  <tbody>\n",
       "    <tr>\n",
       "      <th>0</th>\n",
       "      <td>6D9D125F-7918-43E6-A98C-9EFAD6CA21E0</td>\n",
       "      <td>Midazolam injection 5 mg/ml/amp</td>\n",
       "      <td>Midazolam-Hameln inj 5 mg/ml (Siam Bioscience)...</td>\n",
       "      <td>NaN</td>\n",
       "      <td>150.0</td>\n",
       "      <td>0</td>\n",
       "      <td>0</td>\n",
       "      <td>NaN</td>\n",
       "      <td>06E9F1D3-35B4-463C-B396-9D0E088B2AD0</td>\n",
       "      <td>Box</td>\n",
       "      <td>279445</td>\n",
       "      <td>3,511</td>\n",
       "      <td>2024-10-07 11:22:48</td>\n",
       "      <td>NaN</td>\n",
       "      <td>NaN</td>\n",
       "      <td>10/7/2024</td>\n",
       "      <td>0.0</td>\n",
       "    </tr>\n",
       "    <tr>\n",
       "      <th>6</th>\n",
       "      <td>6D9D125F-7918-43E6-A98C-9EFAD6CA21E0</td>\n",
       "      <td>Midazolam injection 5 mg/ml/amp</td>\n",
       "      <td>Midazolam-Hameln inj 5 mg/ml (Siam Bioscience)...</td>\n",
       "      <td>(วจ. 2) วัตถุออกฤทธิ์ในประเภท 2</td>\n",
       "      <td>150.0</td>\n",
       "      <td>0</td>\n",
       "      <td>0</td>\n",
       "      <td>NaN</td>\n",
       "      <td>06E9F1D3-35B4-463C-B396-9D0E088B2AD0</td>\n",
       "      <td>Box</td>\n",
       "      <td>278832</td>\n",
       "      <td>2,917</td>\n",
       "      <td>2024-10-07 22:14:49</td>\n",
       "      <td>NaN</td>\n",
       "      <td>NaN</td>\n",
       "      <td>10/7/2024</td>\n",
       "      <td>0.0</td>\n",
       "    </tr>\n",
       "    <tr>\n",
       "      <th>7</th>\n",
       "      <td>6D9D125F-7918-43E6-A98C-9EFAD6CA21E0</td>\n",
       "      <td>Midazolam injection 5 mg/ml/amp</td>\n",
       "      <td>Midazolam-Hameln inj 5 mg/ml (Siam Bioscience)...</td>\n",
       "      <td>(วจ. 2) วัตถุออกฤทธิ์ในประเภท 2</td>\n",
       "      <td>150.0</td>\n",
       "      <td>0</td>\n",
       "      <td>0</td>\n",
       "      <td>NaN</td>\n",
       "      <td>06E9F1D3-35B4-463C-B396-9D0E088B2AD0</td>\n",
       "      <td>Box</td>\n",
       "      <td>278832</td>\n",
       "      <td>2,917</td>\n",
       "      <td>2024-10-08 02:14:54</td>\n",
       "      <td>NaN</td>\n",
       "      <td>NaN</td>\n",
       "      <td>10/8/2024</td>\n",
       "      <td>0.0</td>\n",
       "    </tr>\n",
       "    <tr>\n",
       "      <th>8</th>\n",
       "      <td>6D9D125F-7918-43E6-A98C-9EFAD6CA21E0</td>\n",
       "      <td>Midazolam injection 5 mg/ml/amp</td>\n",
       "      <td>Midazolam-Hameln inj 5 mg/ml (Siam Bioscience)...</td>\n",
       "      <td>(วจ. 2) วัตถุออกฤทธิ์ในประเภท 2</td>\n",
       "      <td>150.0</td>\n",
       "      <td>0</td>\n",
       "      <td>0</td>\n",
       "      <td>NaN</td>\n",
       "      <td>06E9F1D3-35B4-463C-B396-9D0E088B2AD0</td>\n",
       "      <td>Box</td>\n",
       "      <td>278832</td>\n",
       "      <td>2,917</td>\n",
       "      <td>2024-10-08 04:14:51</td>\n",
       "      <td>NaN</td>\n",
       "      <td>NaN</td>\n",
       "      <td>10/8/2024</td>\n",
       "      <td>0.0</td>\n",
       "    </tr>\n",
       "    <tr>\n",
       "      <th>9</th>\n",
       "      <td>6D9D125F-7918-43E6-A98C-9EFAD6CA21E0</td>\n",
       "      <td>Midazolam injection 5 mg/ml/amp</td>\n",
       "      <td>Midazolam-Hameln inj 5 mg/ml (Siam Bioscience)...</td>\n",
       "      <td>(วจ. 2) วัตถุออกฤทธิ์ในประเภท 2</td>\n",
       "      <td>150.0</td>\n",
       "      <td>0</td>\n",
       "      <td>0</td>\n",
       "      <td>NaN</td>\n",
       "      <td>06E9F1D3-35B4-463C-B396-9D0E088B2AD0</td>\n",
       "      <td>Box</td>\n",
       "      <td>278832</td>\n",
       "      <td>2,917</td>\n",
       "      <td>2024-10-08 06:14:59</td>\n",
       "      <td>NaN</td>\n",
       "      <td>NaN</td>\n",
       "      <td>10/8/2024</td>\n",
       "      <td>0.0</td>\n",
       "    </tr>\n",
       "    <tr>\n",
       "      <th>...</th>\n",
       "      <td>...</td>\n",
       "      <td>...</td>\n",
       "      <td>...</td>\n",
       "      <td>...</td>\n",
       "      <td>...</td>\n",
       "      <td>...</td>\n",
       "      <td>...</td>\n",
       "      <td>...</td>\n",
       "      <td>...</td>\n",
       "      <td>...</td>\n",
       "      <td>...</td>\n",
       "      <td>...</td>\n",
       "      <td>...</td>\n",
       "      <td>...</td>\n",
       "      <td>...</td>\n",
       "      <td>...</td>\n",
       "      <td>...</td>\n",
       "    </tr>\n",
       "    <tr>\n",
       "      <th>2720</th>\n",
       "      <td>6D9D125F-7918-43E6-A98C-9EFAD6CA21E0</td>\n",
       "      <td>Midazolam injection 5 mg/ml/amp</td>\n",
       "      <td>Midazolam-Hameln inj 5 mg/ml (Siam Bioscience)...</td>\n",
       "      <td>(วจ. 2) วัตถุออกฤทธิ์ในประเภท 2</td>\n",
       "      <td>150.0</td>\n",
       "      <td>0</td>\n",
       "      <td>0</td>\n",
       "      <td>NaN</td>\n",
       "      <td>06E9F1D3-35B4-463C-B396-9D0E088B2AD0</td>\n",
       "      <td>Box</td>\n",
       "      <td>171823</td>\n",
       "      <td>7,460</td>\n",
       "      <td>2025-06-16 22:15:03</td>\n",
       "      <td>ปกติ</td>\n",
       "      <td>False</td>\n",
       "      <td>6/16/2025</td>\n",
       "      <td>0.0</td>\n",
       "    </tr>\n",
       "    <tr>\n",
       "      <th>2722</th>\n",
       "      <td>6D9D125F-7918-43E6-A98C-9EFAD6CA21E0</td>\n",
       "      <td>Midazolam injection 5 mg/ml/amp</td>\n",
       "      <td>Midazolam-Hameln inj 5 mg/ml (Siam Bioscience)...</td>\n",
       "      <td>(วจ. 2) วัตถุออกฤทธิ์ในประเภท 2</td>\n",
       "      <td>150.0</td>\n",
       "      <td>0</td>\n",
       "      <td>0</td>\n",
       "      <td>NaN</td>\n",
       "      <td>06E9F1D3-35B4-463C-B396-9D0E088B2AD0</td>\n",
       "      <td>Box</td>\n",
       "      <td>171876</td>\n",
       "      <td>7,407</td>\n",
       "      <td>2025-06-17 02:15:04</td>\n",
       "      <td>ปกติ</td>\n",
       "      <td>False</td>\n",
       "      <td>6/17/2025</td>\n",
       "      <td>0.0</td>\n",
       "    </tr>\n",
       "    <tr>\n",
       "      <th>2723</th>\n",
       "      <td>6D9D125F-7918-43E6-A98C-9EFAD6CA21E0</td>\n",
       "      <td>Midazolam injection 5 mg/ml/amp</td>\n",
       "      <td>Midazolam-Hameln inj 5 mg/ml (Siam Bioscience)...</td>\n",
       "      <td>(วจ. 2) วัตถุออกฤทธิ์ในประเภท 2</td>\n",
       "      <td>150.0</td>\n",
       "      <td>0</td>\n",
       "      <td>0</td>\n",
       "      <td>NaN</td>\n",
       "      <td>06E9F1D3-35B4-463C-B396-9D0E088B2AD0</td>\n",
       "      <td>Box</td>\n",
       "      <td>171876</td>\n",
       "      <td>7,407</td>\n",
       "      <td>2025-06-17 04:15:02</td>\n",
       "      <td>ปกติ</td>\n",
       "      <td>False</td>\n",
       "      <td>6/17/2025</td>\n",
       "      <td>0.0</td>\n",
       "    </tr>\n",
       "    <tr>\n",
       "      <th>2724</th>\n",
       "      <td>6D9D125F-7918-43E6-A98C-9EFAD6CA21E0</td>\n",
       "      <td>Midazolam injection 5 mg/ml/amp</td>\n",
       "      <td>Midazolam-Hameln inj 5 mg/ml (Siam Bioscience)...</td>\n",
       "      <td>(วจ. 2) วัตถุออกฤทธิ์ในประเภท 2</td>\n",
       "      <td>150.0</td>\n",
       "      <td>0</td>\n",
       "      <td>0</td>\n",
       "      <td>NaN</td>\n",
       "      <td>06E9F1D3-35B4-463C-B396-9D0E088B2AD0</td>\n",
       "      <td>Box</td>\n",
       "      <td>171876</td>\n",
       "      <td>7,407</td>\n",
       "      <td>2025-06-17 06:15:04</td>\n",
       "      <td>ปกติ</td>\n",
       "      <td>False</td>\n",
       "      <td>6/17/2025</td>\n",
       "      <td>0.0</td>\n",
       "    </tr>\n",
       "    <tr>\n",
       "      <th>2725</th>\n",
       "      <td>6D9D125F-7918-43E6-A98C-9EFAD6CA21E0</td>\n",
       "      <td>Midazolam injection 5 mg/ml/amp</td>\n",
       "      <td>Midazolam-Hameln inj 5 mg/ml (Siam Bioscience)...</td>\n",
       "      <td>(วจ. 2) วัตถุออกฤทธิ์ในประเภท 2</td>\n",
       "      <td>150.0</td>\n",
       "      <td>0</td>\n",
       "      <td>0</td>\n",
       "      <td>NaN</td>\n",
       "      <td>06E9F1D3-35B4-463C-B396-9D0E088B2AD0</td>\n",
       "      <td>Box</td>\n",
       "      <td>171876</td>\n",
       "      <td>7,407</td>\n",
       "      <td>2025-06-17 08:15:02</td>\n",
       "      <td>ปกติ</td>\n",
       "      <td>False</td>\n",
       "      <td>6/17/2025</td>\n",
       "      <td>0.0</td>\n",
       "    </tr>\n",
       "  </tbody>\n",
       "</table>\n",
       "<p>1792 rows × 17 columns</p>\n",
       "</div>"
      ],
      "text/plain": [
       "                               ProductCode                      GenericName  \\\n",
       "0     6D9D125F-7918-43E6-A98C-9EFAD6CA21E0  Midazolam injection 5 mg/ml/amp   \n",
       "6     6D9D125F-7918-43E6-A98C-9EFAD6CA21E0  Midazolam injection 5 mg/ml/amp   \n",
       "7     6D9D125F-7918-43E6-A98C-9EFAD6CA21E0  Midazolam injection 5 mg/ml/amp   \n",
       "8     6D9D125F-7918-43E6-A98C-9EFAD6CA21E0  Midazolam injection 5 mg/ml/amp   \n",
       "9     6D9D125F-7918-43E6-A98C-9EFAD6CA21E0  Midazolam injection 5 mg/ml/amp   \n",
       "...                                    ...                              ...   \n",
       "2720  6D9D125F-7918-43E6-A98C-9EFAD6CA21E0  Midazolam injection 5 mg/ml/amp   \n",
       "2722  6D9D125F-7918-43E6-A98C-9EFAD6CA21E0  Midazolam injection 5 mg/ml/amp   \n",
       "2723  6D9D125F-7918-43E6-A98C-9EFAD6CA21E0  Midazolam injection 5 mg/ml/amp   \n",
       "2724  6D9D125F-7918-43E6-A98C-9EFAD6CA21E0  Midazolam injection 5 mg/ml/amp   \n",
       "2725  6D9D125F-7918-43E6-A98C-9EFAD6CA21E0  Midazolam injection 5 mg/ml/amp   \n",
       "\n",
       "                                              TradeName  \\\n",
       "0     Midazolam-Hameln inj 5 mg/ml (Siam Bioscience)...   \n",
       "6     Midazolam-Hameln inj 5 mg/ml (Siam Bioscience)...   \n",
       "7     Midazolam-Hameln inj 5 mg/ml (Siam Bioscience)...   \n",
       "8     Midazolam-Hameln inj 5 mg/ml (Siam Bioscience)...   \n",
       "9     Midazolam-Hameln inj 5 mg/ml (Siam Bioscience)...   \n",
       "...                                                 ...   \n",
       "2720  Midazolam-Hameln inj 5 mg/ml (Siam Bioscience)...   \n",
       "2722  Midazolam-Hameln inj 5 mg/ml (Siam Bioscience)...   \n",
       "2723  Midazolam-Hameln inj 5 mg/ml (Siam Bioscience)...   \n",
       "2724  Midazolam-Hameln inj 5 mg/ml (Siam Bioscience)...   \n",
       "2725  Midazolam-Hameln inj 5 mg/ml (Siam Bioscience)...   \n",
       "\n",
       "                      ProductTypeName  ProductPricePerUnit  ProductPrice  \\\n",
       "0                                 NaN                150.0             0   \n",
       "6     (วจ. 2) วัตถุออกฤทธิ์ในประเภท 2                150.0             0   \n",
       "7     (วจ. 2) วัตถุออกฤทธิ์ในประเภท 2                150.0             0   \n",
       "8     (วจ. 2) วัตถุออกฤทธิ์ในประเภท 2                150.0             0   \n",
       "9     (วจ. 2) วัตถุออกฤทธิ์ในประเภท 2                150.0             0   \n",
       "...                               ...                  ...           ...   \n",
       "2720  (วจ. 2) วัตถุออกฤทธิ์ในประเภท 2                150.0             0   \n",
       "2722  (วจ. 2) วัตถุออกฤทธิ์ในประเภท 2                150.0             0   \n",
       "2723  (วจ. 2) วัตถุออกฤทธิ์ในประเภท 2                150.0             0   \n",
       "2724  (วจ. 2) วัตถุออกฤทธิ์ในประเภท 2                150.0             0   \n",
       "2725  (วจ. 2) วัตถุออกฤทธิ์ในประเภท 2                150.0             0   \n",
       "\n",
       "      ProductStatus  ProductRemark                       ProductUnitCode  \\\n",
       "0                 0            NaN  06E9F1D3-35B4-463C-B396-9D0E088B2AD0   \n",
       "6                 0            NaN  06E9F1D3-35B4-463C-B396-9D0E088B2AD0   \n",
       "7                 0            NaN  06E9F1D3-35B4-463C-B396-9D0E088B2AD0   \n",
       "8                 0            NaN  06E9F1D3-35B4-463C-B396-9D0E088B2AD0   \n",
       "9                 0            NaN  06E9F1D3-35B4-463C-B396-9D0E088B2AD0   \n",
       "...             ...            ...                                   ...   \n",
       "2720              0            NaN  06E9F1D3-35B4-463C-B396-9D0E088B2AD0   \n",
       "2722              0            NaN  06E9F1D3-35B4-463C-B396-9D0E088B2AD0   \n",
       "2723              0            NaN  06E9F1D3-35B4-463C-B396-9D0E088B2AD0   \n",
       "2724              0            NaN  06E9F1D3-35B4-463C-B396-9D0E088B2AD0   \n",
       "2725              0            NaN  06E9F1D3-35B4-463C-B396-9D0E088B2AD0   \n",
       "\n",
       "     ProductUnitName  ProductRemain ProductAllocated           LastUpdate  \\\n",
       "0                Box         279445            3,511  2024-10-07 11:22:48   \n",
       "6                Box         278832            2,917  2024-10-07 22:14:49   \n",
       "7                Box         278832            2,917  2024-10-08 02:14:54   \n",
       "8                Box         278832            2,917  2024-10-08 04:14:51   \n",
       "9                Box         278832            2,917  2024-10-08 06:14:59   \n",
       "...              ...            ...              ...                  ...   \n",
       "2720             Box         171823            7,460  2025-06-16 22:15:03   \n",
       "2722             Box         171876            7,407  2025-06-17 02:15:04   \n",
       "2723             Box         171876            7,407  2025-06-17 04:15:02   \n",
       "2724             Box         171876            7,407  2025-06-17 06:15:04   \n",
       "2725             Box         171876            7,407  2025-06-17 08:15:02   \n",
       "\n",
       "     enum_stock isRemoved     daylog  deltaProductRemain  \n",
       "0           NaN       NaN  10/7/2024                 0.0  \n",
       "6           NaN       NaN  10/7/2024                 0.0  \n",
       "7           NaN       NaN  10/8/2024                 0.0  \n",
       "8           NaN       NaN  10/8/2024                 0.0  \n",
       "9           NaN       NaN  10/8/2024                 0.0  \n",
       "...         ...       ...        ...                 ...  \n",
       "2720       ปกติ     False  6/16/2025                 0.0  \n",
       "2722       ปกติ     False  6/17/2025                 0.0  \n",
       "2723       ปกติ     False  6/17/2025                 0.0  \n",
       "2724       ปกติ     False  6/17/2025                 0.0  \n",
       "2725       ปกติ     False  6/17/2025                 0.0  \n",
       "\n",
       "[1792 rows x 17 columns]"
      ]
     },
     "execution_count": 15,
     "metadata": {},
     "output_type": "execute_result"
    }
   ],
   "source": [
    "df_mid_small.loc[df_mid_small['deltaProductRemain'] == 0]"
   ]
  },
  {
   "cell_type": "code",
   "execution_count": 17,
   "id": "c27f970a-6317-46ad-8a9a-9821eb64a69e",
   "metadata": {},
   "outputs": [],
   "source": [
    "df_mid_small['deltaProductRemain_Sold'] = -df_mid_small['deltaProductRemain']"
   ]
  },
  {
   "cell_type": "markdown",
   "id": "f46656ad-4511-4502-afa1-132a030a8e62",
   "metadata": {},
   "source": [
    "<h1> detect restock events</h1>"
   ]
  },
  {
   "cell_type": "code",
   "execution_count": 18,
   "id": "fa3f889e-8799-4af3-9aa5-2d30336e4e74",
   "metadata": {},
   "outputs": [],
   "source": [
    "df_mid_small['deltaProductRemain_Sold'] = df_mid_small['deltaProductRemain_Sold'].apply(lambda x: x if x > 0 else 0)"
   ]
  },
  {
   "cell_type": "code",
   "execution_count": 19,
   "id": "42d586f0-f294-480c-a4ec-b467533b72d5",
   "metadata": {},
   "outputs": [],
   "source": [
    "df_mid_small = df_mid_small.loc[df_mid_small['deltaProductRemain'] != 0]"
   ]
  },
  {
   "cell_type": "code",
   "execution_count": 20,
   "id": "34b997fb-588c-4ce7-94d3-40ba92eda639",
   "metadata": {},
   "outputs": [],
   "source": [
    "df_mid_small['deltaTime'] = df_mid_small['LastUpdate'].diff()"
   ]
  },
  {
   "cell_type": "code",
   "execution_count": 21,
   "id": "a257b825-0540-4afd-8401-f694af936c13",
   "metadata": {},
   "outputs": [],
   "source": [
    "df_mid_small['deltaTime'] = df_mid_small['deltaTime'].fillna(pd.Timedelta(seconds=0))"
   ]
  },
  {
   "cell_type": "code",
   "execution_count": 24,
   "id": "0ebe382a-1b25-432f-9646-03e4878d4fc9",
   "metadata": {},
   "outputs": [],
   "source": [
    "df_mid_small['deltaTime_hours'] = df_mid_small['deltaTime'].dt.total_seconds() / 3600"
   ]
  },
  {
   "cell_type": "code",
   "execution_count": 25,
   "id": "b0b4e22b-1f6d-4521-a93e-5db1fe507e42",
   "metadata": {},
   "outputs": [],
   "source": [
    "df_mid_small.loc[0, 'deltaTime_hours'] = np.nan"
   ]
  },
  {
   "cell_type": "code",
   "execution_count": 26,
   "id": "33314744-fb7d-4990-b39d-68b266caa7d3",
   "metadata": {},
   "outputs": [],
   "source": [
    "df_mid_small['SaleRate_Per_Hour'] = df_mid_small['deltaProductRemain_Sold'] / df_mid_small['deltaTime_hours']"
   ]
  },
  {
   "cell_type": "code",
   "execution_count": 27,
   "id": "d5007e43-922c-4bfd-8905-042c2771855d",
   "metadata": {},
   "outputs": [],
   "source": [
    "df_mid_small['SaleRate_Per_Hour'] = df_mid_small['SaleRate_Per_Hour'].replace([np.inf, -np.inf], np.nan).fillna(0)"
   ]
  },
  {
   "cell_type": "code",
   "execution_count": 58,
   "id": "e5e61e56-087a-4c80-80ac-cecd4d40e2a0",
   "metadata": {},
   "outputs": [
    {
     "data": {
      "text/html": [
       "<div>\n",
       "<style scoped>\n",
       "    .dataframe tbody tr th:only-of-type {\n",
       "        vertical-align: middle;\n",
       "    }\n",
       "\n",
       "    .dataframe tbody tr th {\n",
       "        vertical-align: top;\n",
       "    }\n",
       "\n",
       "    .dataframe thead th {\n",
       "        text-align: right;\n",
       "    }\n",
       "</style>\n",
       "<table border=\"1\" class=\"dataframe\">\n",
       "  <thead>\n",
       "    <tr style=\"text-align: right;\">\n",
       "      <th></th>\n",
       "      <th>ProductCode</th>\n",
       "      <th>GenericName</th>\n",
       "      <th>TradeName</th>\n",
       "      <th>ProductTypeName</th>\n",
       "      <th>ProductPricePerUnit</th>\n",
       "      <th>ProductPrice</th>\n",
       "      <th>ProductStatus</th>\n",
       "      <th>ProductRemark</th>\n",
       "      <th>ProductUnitCode</th>\n",
       "      <th>ProductUnitName</th>\n",
       "      <th>ProductRemain</th>\n",
       "      <th>ProductAllocated</th>\n",
       "      <th>LastUpdate</th>\n",
       "      <th>enum_stock</th>\n",
       "      <th>isRemoved</th>\n",
       "      <th>daylog</th>\n",
       "      <th>deltaProductRemain</th>\n",
       "      <th>deltaProductRemain_Sold</th>\n",
       "      <th>deltaTime</th>\n",
       "      <th>deltaTime_hours</th>\n",
       "      <th>SaleRate_Per_Hour</th>\n",
       "      <th>SaleRate_Per_Hour_Interval</th>\n",
       "      <th>Date</th>\n",
       "    </tr>\n",
       "  </thead>\n",
       "  <tbody>\n",
       "    <tr>\n",
       "      <th>1</th>\n",
       "      <td>6D9D125F-7918-43E6-A98C-9EFAD6CA21E0</td>\n",
       "      <td>Midazolam injection 5 mg/ml/amp</td>\n",
       "      <td>Midazolam-Hameln inj 5 mg/ml (Siam Bioscience)...</td>\n",
       "      <td>NaN</td>\n",
       "      <td>150.0</td>\n",
       "      <td>0.0</td>\n",
       "      <td>0.0</td>\n",
       "      <td>NaN</td>\n",
       "      <td>06E9F1D3-35B4-463C-B396-9D0E088B2AD0</td>\n",
       "      <td>Box</td>\n",
       "      <td>278945.0</td>\n",
       "      <td>4,011</td>\n",
       "      <td>2024-10-07 12:14:49</td>\n",
       "      <td>NaN</td>\n",
       "      <td>NaN</td>\n",
       "      <td>10/7/2024</td>\n",
       "      <td>-500.0</td>\n",
       "      <td>500.0</td>\n",
       "      <td>0 days 00:00:00</td>\n",
       "      <td>0.000000</td>\n",
       "      <td>0.000000</td>\n",
       "      <td>0.000000</td>\n",
       "      <td>2024-10-07</td>\n",
       "    </tr>\n",
       "    <tr>\n",
       "      <th>2</th>\n",
       "      <td>6D9D125F-7918-43E6-A98C-9EFAD6CA21E0</td>\n",
       "      <td>Midazolam injection 5 mg/ml/amp</td>\n",
       "      <td>Midazolam-Hameln inj 5 mg/ml (Siam Bioscience)...</td>\n",
       "      <td>NaN</td>\n",
       "      <td>150.0</td>\n",
       "      <td>0.0</td>\n",
       "      <td>0.0</td>\n",
       "      <td>NaN</td>\n",
       "      <td>06E9F1D3-35B4-463C-B396-9D0E088B2AD0</td>\n",
       "      <td>Box</td>\n",
       "      <td>278898.0</td>\n",
       "      <td>4,038</td>\n",
       "      <td>2024-10-07 14:14:50</td>\n",
       "      <td>NaN</td>\n",
       "      <td>NaN</td>\n",
       "      <td>10/7/2024</td>\n",
       "      <td>-47.0</td>\n",
       "      <td>47.0</td>\n",
       "      <td>0 days 02:00:01</td>\n",
       "      <td>2.000278</td>\n",
       "      <td>23.496737</td>\n",
       "      <td>23.496737</td>\n",
       "      <td>2024-10-07</td>\n",
       "    </tr>\n",
       "    <tr>\n",
       "      <th>3</th>\n",
       "      <td>6D9D125F-7918-43E6-A98C-9EFAD6CA21E0</td>\n",
       "      <td>Midazolam injection 5 mg/ml/amp</td>\n",
       "      <td>Midazolam-Hameln inj 5 mg/ml (Siam Bioscience)...</td>\n",
       "      <td>NaN</td>\n",
       "      <td>150.0</td>\n",
       "      <td>0.0</td>\n",
       "      <td>0.0</td>\n",
       "      <td>NaN</td>\n",
       "      <td>06E9F1D3-35B4-463C-B396-9D0E088B2AD0</td>\n",
       "      <td>Box</td>\n",
       "      <td>278867.0</td>\n",
       "      <td>2,882</td>\n",
       "      <td>2024-10-07 16:14:49</td>\n",
       "      <td>ปกติ</td>\n",
       "      <td>NaN</td>\n",
       "      <td>10/7/2024</td>\n",
       "      <td>-31.0</td>\n",
       "      <td>31.0</td>\n",
       "      <td>0 days 01:59:59</td>\n",
       "      <td>1.999722</td>\n",
       "      <td>15.502153</td>\n",
       "      <td>15.502153</td>\n",
       "      <td>2024-10-07</td>\n",
       "    </tr>\n",
       "    <tr>\n",
       "      <th>4</th>\n",
       "      <td>6D9D125F-7918-43E6-A98C-9EFAD6CA21E0</td>\n",
       "      <td>Midazolam injection 5 mg/ml/amp</td>\n",
       "      <td>Midazolam-Hameln inj 5 mg/ml (Siam Bioscience)...</td>\n",
       "      <td>NaN</td>\n",
       "      <td>150.0</td>\n",
       "      <td>0.0</td>\n",
       "      <td>0.0</td>\n",
       "      <td>NaN</td>\n",
       "      <td>06E9F1D3-35B4-463C-B396-9D0E088B2AD0</td>\n",
       "      <td>Box</td>\n",
       "      <td>278837.0</td>\n",
       "      <td>2,912</td>\n",
       "      <td>2024-10-07 18:14:52</td>\n",
       "      <td>ปกติ</td>\n",
       "      <td>NaN</td>\n",
       "      <td>10/7/2024</td>\n",
       "      <td>-30.0</td>\n",
       "      <td>30.0</td>\n",
       "      <td>0 days 02:00:03</td>\n",
       "      <td>2.000833</td>\n",
       "      <td>14.993753</td>\n",
       "      <td>14.993753</td>\n",
       "      <td>2024-10-07</td>\n",
       "    </tr>\n",
       "    <tr>\n",
       "      <th>5</th>\n",
       "      <td>6D9D125F-7918-43E6-A98C-9EFAD6CA21E0</td>\n",
       "      <td>Midazolam injection 5 mg/ml/amp</td>\n",
       "      <td>Midazolam-Hameln inj 5 mg/ml (Siam Bioscience)...</td>\n",
       "      <td>NaN</td>\n",
       "      <td>150.0</td>\n",
       "      <td>0.0</td>\n",
       "      <td>0.0</td>\n",
       "      <td>NaN</td>\n",
       "      <td>06E9F1D3-35B4-463C-B396-9D0E088B2AD0</td>\n",
       "      <td>Box</td>\n",
       "      <td>278832.0</td>\n",
       "      <td>2,917</td>\n",
       "      <td>2024-10-07 20:14:56</td>\n",
       "      <td>ปกติ</td>\n",
       "      <td>NaN</td>\n",
       "      <td>10/7/2024</td>\n",
       "      <td>-5.0</td>\n",
       "      <td>5.0</td>\n",
       "      <td>0 days 02:00:04</td>\n",
       "      <td>2.001111</td>\n",
       "      <td>2.498612</td>\n",
       "      <td>2.498612</td>\n",
       "      <td>2024-10-07</td>\n",
       "    </tr>\n",
       "    <tr>\n",
       "      <th>...</th>\n",
       "      <td>...</td>\n",
       "      <td>...</td>\n",
       "      <td>...</td>\n",
       "      <td>...</td>\n",
       "      <td>...</td>\n",
       "      <td>...</td>\n",
       "      <td>...</td>\n",
       "      <td>...</td>\n",
       "      <td>...</td>\n",
       "      <td>...</td>\n",
       "      <td>...</td>\n",
       "      <td>...</td>\n",
       "      <td>...</td>\n",
       "      <td>...</td>\n",
       "      <td>...</td>\n",
       "      <td>...</td>\n",
       "      <td>...</td>\n",
       "      <td>...</td>\n",
       "      <td>...</td>\n",
       "      <td>...</td>\n",
       "      <td>...</td>\n",
       "      <td>...</td>\n",
       "      <td>...</td>\n",
       "    </tr>\n",
       "    <tr>\n",
       "      <th>2716</th>\n",
       "      <td>6D9D125F-7918-43E6-A98C-9EFAD6CA21E0</td>\n",
       "      <td>Midazolam injection 5 mg/ml/amp</td>\n",
       "      <td>Midazolam-Hameln inj 5 mg/ml (Siam Bioscience)...</td>\n",
       "      <td>(วจ. 2) วัตถุออกฤทธิ์ในประเภท 2</td>\n",
       "      <td>150.0</td>\n",
       "      <td>0.0</td>\n",
       "      <td>0.0</td>\n",
       "      <td>NaN</td>\n",
       "      <td>06E9F1D3-35B4-463C-B396-9D0E088B2AD0</td>\n",
       "      <td>Box</td>\n",
       "      <td>173453.0</td>\n",
       "      <td>6,033</td>\n",
       "      <td>2025-06-16 14:15:01</td>\n",
       "      <td>ปกติ</td>\n",
       "      <td>False</td>\n",
       "      <td>6/16/2025</td>\n",
       "      <td>-23.0</td>\n",
       "      <td>23.0</td>\n",
       "      <td>0 days 03:59:56</td>\n",
       "      <td>3.998889</td>\n",
       "      <td>5.751598</td>\n",
       "      <td>5.751598</td>\n",
       "      <td>2025-06-16</td>\n",
       "    </tr>\n",
       "    <tr>\n",
       "      <th>2717</th>\n",
       "      <td>6D9D125F-7918-43E6-A98C-9EFAD6CA21E0</td>\n",
       "      <td>Midazolam injection 5 mg/ml/amp</td>\n",
       "      <td>Midazolam-Hameln inj 5 mg/ml (Siam Bioscience)...</td>\n",
       "      <td>(วจ. 2) วัตถุออกฤทธิ์ในประเภท 2</td>\n",
       "      <td>150.0</td>\n",
       "      <td>0.0</td>\n",
       "      <td>0.0</td>\n",
       "      <td>NaN</td>\n",
       "      <td>06E9F1D3-35B4-463C-B396-9D0E088B2AD0</td>\n",
       "      <td>Box</td>\n",
       "      <td>171893.0</td>\n",
       "      <td>7,390</td>\n",
       "      <td>2025-06-16 16:15:05</td>\n",
       "      <td>ปกติ</td>\n",
       "      <td>False</td>\n",
       "      <td>6/16/2025</td>\n",
       "      <td>-1560.0</td>\n",
       "      <td>1560.0</td>\n",
       "      <td>0 days 02:00:04</td>\n",
       "      <td>2.001111</td>\n",
       "      <td>779.566907</td>\n",
       "      <td>779.566907</td>\n",
       "      <td>2025-06-16</td>\n",
       "    </tr>\n",
       "    <tr>\n",
       "      <th>2718</th>\n",
       "      <td>6D9D125F-7918-43E6-A98C-9EFAD6CA21E0</td>\n",
       "      <td>Midazolam injection 5 mg/ml/amp</td>\n",
       "      <td>Midazolam-Hameln inj 5 mg/ml (Siam Bioscience)...</td>\n",
       "      <td>(วจ. 2) วัตถุออกฤทธิ์ในประเภท 2</td>\n",
       "      <td>150.0</td>\n",
       "      <td>0.0</td>\n",
       "      <td>0.0</td>\n",
       "      <td>NaN</td>\n",
       "      <td>06E9F1D3-35B4-463C-B396-9D0E088B2AD0</td>\n",
       "      <td>Box</td>\n",
       "      <td>171823.0</td>\n",
       "      <td>7,460</td>\n",
       "      <td>2025-06-16 18:15:05</td>\n",
       "      <td>ปกติ</td>\n",
       "      <td>False</td>\n",
       "      <td>6/16/2025</td>\n",
       "      <td>-70.0</td>\n",
       "      <td>70.0</td>\n",
       "      <td>0 days 02:00:00</td>\n",
       "      <td>2.000000</td>\n",
       "      <td>35.000000</td>\n",
       "      <td>35.000000</td>\n",
       "      <td>2025-06-16</td>\n",
       "    </tr>\n",
       "    <tr>\n",
       "      <th>2721</th>\n",
       "      <td>6D9D125F-7918-43E6-A98C-9EFAD6CA21E0</td>\n",
       "      <td>Midazolam injection 5 mg/ml/amp</td>\n",
       "      <td>Midazolam-Hameln inj 5 mg/ml (Siam Bioscience)...</td>\n",
       "      <td>(วจ. 2) วัตถุออกฤทธิ์ในประเภท 2</td>\n",
       "      <td>150.0</td>\n",
       "      <td>0.0</td>\n",
       "      <td>0.0</td>\n",
       "      <td>NaN</td>\n",
       "      <td>06E9F1D3-35B4-463C-B396-9D0E088B2AD0</td>\n",
       "      <td>Box</td>\n",
       "      <td>171876.0</td>\n",
       "      <td>7,407</td>\n",
       "      <td>2025-06-17 00:15:04</td>\n",
       "      <td>ปกติ</td>\n",
       "      <td>False</td>\n",
       "      <td>6/17/2025</td>\n",
       "      <td>53.0</td>\n",
       "      <td>0.0</td>\n",
       "      <td>0 days 05:59:59</td>\n",
       "      <td>5.999722</td>\n",
       "      <td>0.000000</td>\n",
       "      <td>0.000000</td>\n",
       "      <td>2025-06-17</td>\n",
       "    </tr>\n",
       "    <tr>\n",
       "      <th>0</th>\n",
       "      <td>NaN</td>\n",
       "      <td>NaN</td>\n",
       "      <td>NaN</td>\n",
       "      <td>NaN</td>\n",
       "      <td>NaN</td>\n",
       "      <td>NaN</td>\n",
       "      <td>NaN</td>\n",
       "      <td>NaN</td>\n",
       "      <td>NaN</td>\n",
       "      <td>NaN</td>\n",
       "      <td>NaN</td>\n",
       "      <td>NaN</td>\n",
       "      <td>NaT</td>\n",
       "      <td>NaN</td>\n",
       "      <td>NaN</td>\n",
       "      <td>NaN</td>\n",
       "      <td>NaN</td>\n",
       "      <td>NaN</td>\n",
       "      <td>NaT</td>\n",
       "      <td>NaN</td>\n",
       "      <td>0.000000</td>\n",
       "      <td>0.000000</td>\n",
       "      <td>NaT</td>\n",
       "    </tr>\n",
       "  </tbody>\n",
       "</table>\n",
       "<p>935 rows × 23 columns</p>\n",
       "</div>"
      ],
      "text/plain": [
       "                               ProductCode                      GenericName  \\\n",
       "1     6D9D125F-7918-43E6-A98C-9EFAD6CA21E0  Midazolam injection 5 mg/ml/amp   \n",
       "2     6D9D125F-7918-43E6-A98C-9EFAD6CA21E0  Midazolam injection 5 mg/ml/amp   \n",
       "3     6D9D125F-7918-43E6-A98C-9EFAD6CA21E0  Midazolam injection 5 mg/ml/amp   \n",
       "4     6D9D125F-7918-43E6-A98C-9EFAD6CA21E0  Midazolam injection 5 mg/ml/amp   \n",
       "5     6D9D125F-7918-43E6-A98C-9EFAD6CA21E0  Midazolam injection 5 mg/ml/amp   \n",
       "...                                    ...                              ...   \n",
       "2716  6D9D125F-7918-43E6-A98C-9EFAD6CA21E0  Midazolam injection 5 mg/ml/amp   \n",
       "2717  6D9D125F-7918-43E6-A98C-9EFAD6CA21E0  Midazolam injection 5 mg/ml/amp   \n",
       "2718  6D9D125F-7918-43E6-A98C-9EFAD6CA21E0  Midazolam injection 5 mg/ml/amp   \n",
       "2721  6D9D125F-7918-43E6-A98C-9EFAD6CA21E0  Midazolam injection 5 mg/ml/amp   \n",
       "0                                      NaN                              NaN   \n",
       "\n",
       "                                              TradeName  \\\n",
       "1     Midazolam-Hameln inj 5 mg/ml (Siam Bioscience)...   \n",
       "2     Midazolam-Hameln inj 5 mg/ml (Siam Bioscience)...   \n",
       "3     Midazolam-Hameln inj 5 mg/ml (Siam Bioscience)...   \n",
       "4     Midazolam-Hameln inj 5 mg/ml (Siam Bioscience)...   \n",
       "5     Midazolam-Hameln inj 5 mg/ml (Siam Bioscience)...   \n",
       "...                                                 ...   \n",
       "2716  Midazolam-Hameln inj 5 mg/ml (Siam Bioscience)...   \n",
       "2717  Midazolam-Hameln inj 5 mg/ml (Siam Bioscience)...   \n",
       "2718  Midazolam-Hameln inj 5 mg/ml (Siam Bioscience)...   \n",
       "2721  Midazolam-Hameln inj 5 mg/ml (Siam Bioscience)...   \n",
       "0                                                   NaN   \n",
       "\n",
       "                      ProductTypeName  ProductPricePerUnit  ProductPrice  \\\n",
       "1                                 NaN                150.0           0.0   \n",
       "2                                 NaN                150.0           0.0   \n",
       "3                                 NaN                150.0           0.0   \n",
       "4                                 NaN                150.0           0.0   \n",
       "5                                 NaN                150.0           0.0   \n",
       "...                               ...                  ...           ...   \n",
       "2716  (วจ. 2) วัตถุออกฤทธิ์ในประเภท 2                150.0           0.0   \n",
       "2717  (วจ. 2) วัตถุออกฤทธิ์ในประเภท 2                150.0           0.0   \n",
       "2718  (วจ. 2) วัตถุออกฤทธิ์ในประเภท 2                150.0           0.0   \n",
       "2721  (วจ. 2) วัตถุออกฤทธิ์ในประเภท 2                150.0           0.0   \n",
       "0                                 NaN                  NaN           NaN   \n",
       "\n",
       "      ProductStatus  ProductRemark                       ProductUnitCode  \\\n",
       "1               0.0            NaN  06E9F1D3-35B4-463C-B396-9D0E088B2AD0   \n",
       "2               0.0            NaN  06E9F1D3-35B4-463C-B396-9D0E088B2AD0   \n",
       "3               0.0            NaN  06E9F1D3-35B4-463C-B396-9D0E088B2AD0   \n",
       "4               0.0            NaN  06E9F1D3-35B4-463C-B396-9D0E088B2AD0   \n",
       "5               0.0            NaN  06E9F1D3-35B4-463C-B396-9D0E088B2AD0   \n",
       "...             ...            ...                                   ...   \n",
       "2716            0.0            NaN  06E9F1D3-35B4-463C-B396-9D0E088B2AD0   \n",
       "2717            0.0            NaN  06E9F1D3-35B4-463C-B396-9D0E088B2AD0   \n",
       "2718            0.0            NaN  06E9F1D3-35B4-463C-B396-9D0E088B2AD0   \n",
       "2721            0.0            NaN  06E9F1D3-35B4-463C-B396-9D0E088B2AD0   \n",
       "0               NaN            NaN                                   NaN   \n",
       "\n",
       "     ProductUnitName  ProductRemain ProductAllocated          LastUpdate  \\\n",
       "1                Box       278945.0            4,011 2024-10-07 12:14:49   \n",
       "2                Box       278898.0            4,038 2024-10-07 14:14:50   \n",
       "3                Box       278867.0            2,882 2024-10-07 16:14:49   \n",
       "4                Box       278837.0            2,912 2024-10-07 18:14:52   \n",
       "5                Box       278832.0            2,917 2024-10-07 20:14:56   \n",
       "...              ...            ...              ...                 ...   \n",
       "2716             Box       173453.0            6,033 2025-06-16 14:15:01   \n",
       "2717             Box       171893.0            7,390 2025-06-16 16:15:05   \n",
       "2718             Box       171823.0            7,460 2025-06-16 18:15:05   \n",
       "2721             Box       171876.0            7,407 2025-06-17 00:15:04   \n",
       "0                NaN            NaN              NaN                 NaT   \n",
       "\n",
       "     enum_stock isRemoved     daylog  deltaProductRemain  \\\n",
       "1           NaN       NaN  10/7/2024              -500.0   \n",
       "2           NaN       NaN  10/7/2024               -47.0   \n",
       "3          ปกติ       NaN  10/7/2024               -31.0   \n",
       "4          ปกติ       NaN  10/7/2024               -30.0   \n",
       "5          ปกติ       NaN  10/7/2024                -5.0   \n",
       "...         ...       ...        ...                 ...   \n",
       "2716       ปกติ     False  6/16/2025               -23.0   \n",
       "2717       ปกติ     False  6/16/2025             -1560.0   \n",
       "2718       ปกติ     False  6/16/2025               -70.0   \n",
       "2721       ปกติ     False  6/17/2025                53.0   \n",
       "0           NaN       NaN        NaN                 NaN   \n",
       "\n",
       "      deltaProductRemain_Sold       deltaTime  deltaTime_hours  \\\n",
       "1                       500.0 0 days 00:00:00         0.000000   \n",
       "2                        47.0 0 days 02:00:01         2.000278   \n",
       "3                        31.0 0 days 01:59:59         1.999722   \n",
       "4                        30.0 0 days 02:00:03         2.000833   \n",
       "5                         5.0 0 days 02:00:04         2.001111   \n",
       "...                       ...             ...              ...   \n",
       "2716                     23.0 0 days 03:59:56         3.998889   \n",
       "2717                   1560.0 0 days 02:00:04         2.001111   \n",
       "2718                     70.0 0 days 02:00:00         2.000000   \n",
       "2721                      0.0 0 days 05:59:59         5.999722   \n",
       "0                         NaN             NaT              NaN   \n",
       "\n",
       "      SaleRate_Per_Hour  SaleRate_Per_Hour_Interval        Date  \n",
       "1              0.000000                    0.000000  2024-10-07  \n",
       "2             23.496737                   23.496737  2024-10-07  \n",
       "3             15.502153                   15.502153  2024-10-07  \n",
       "4             14.993753                   14.993753  2024-10-07  \n",
       "5              2.498612                    2.498612  2024-10-07  \n",
       "...                 ...                         ...         ...  \n",
       "2716           5.751598                    5.751598  2025-06-16  \n",
       "2717         779.566907                  779.566907  2025-06-16  \n",
       "2718          35.000000                   35.000000  2025-06-16  \n",
       "2721           0.000000                    0.000000  2025-06-17  \n",
       "0              0.000000                    0.000000         NaT  \n",
       "\n",
       "[935 rows x 23 columns]"
      ]
     },
     "execution_count": 58,
     "metadata": {},
     "output_type": "execute_result"
    }
   ],
   "source": [
    "df_mid_small"
   ]
  },
  {
   "cell_type": "code",
   "execution_count": 29,
   "id": "7da60888-7e40-469d-b0eb-3eea66d1e011",
   "metadata": {},
   "outputs": [],
   "source": [
    "df_mid_small['SaleRate_Per_Hour_Interval'] = df_mid_small['deltaProductRemain_Sold'] / df_mid_small['deltaTime_hours']"
   ]
  },
  {
   "cell_type": "code",
   "execution_count": 30,
   "id": "5d7094d0-a753-4626-ba90-859271b5b006",
   "metadata": {},
   "outputs": [],
   "source": [
    "df_mid_small['SaleRate_Per_Hour_Interval'] = df_mid_small['SaleRate_Per_Hour_Interval'].replace([np.inf, -np.inf], np.nan).fillna(0)"
   ]
  },
  {
   "cell_type": "code",
   "execution_count": 42,
   "id": "4ef84490-a74b-4dff-9d84-0ac36d932919",
   "metadata": {},
   "outputs": [],
   "source": [
    "df_mid_small['LastUpdate'] = pd.to_datetime(df_mid_small['LastUpdate'])"
   ]
  },
  {
   "cell_type": "code",
   "execution_count": 43,
   "id": "e9f9f7c0-4a0d-4ea6-bcde-c4cb163d7faa",
   "metadata": {},
   "outputs": [],
   "source": [
    "df_mid_small['Date'] = df_mid_small['LastUpdate'].dt.date"
   ]
  },
  {
   "cell_type": "code",
   "execution_count": 44,
   "id": "cf444c75-4f65-45ec-a412-d2230344a3b1",
   "metadata": {},
   "outputs": [
    {
     "data": {
      "text/plain": [
       "dtype('<M8[ns]')"
      ]
     },
     "execution_count": 44,
     "metadata": {},
     "output_type": "execute_result"
    }
   ],
   "source": [
    "df_mid_small['LastUpdate'].dtype"
   ]
  },
  {
   "cell_type": "code",
   "execution_count": 45,
   "id": "0b37552d-a80b-45d9-8e02-12da745456a8",
   "metadata": {},
   "outputs": [],
   "source": [
    "daily_summary = df_mid_small.groupby('Date').agg(\n",
    "    TotalProductsSold=('deltaProductRemain_Sold', 'sum'),\n",
    "    TotalTimeElapsedHours=('deltaTime_hours', 'sum')\n",
    ").reset_index()"
   ]
  },
  {
   "cell_type": "code",
   "execution_count": 46,
   "id": "ca7f5427-2abb-42ee-b673-3ca6adf7d2e0",
   "metadata": {},
   "outputs": [],
   "source": [
    "daily_summary['DailyAvgSaleRate_Per_Hour'] = daily_summary['TotalProductsSold'] / daily_summary['TotalTimeElapsedHours']"
   ]
  },
  {
   "cell_type": "code",
   "execution_count": 47,
   "id": "c596acde-9ecb-48e4-b08a-eb80bdb7e2b9",
   "metadata": {},
   "outputs": [],
   "source": [
    "daily_summary['DailyAvgSaleRate_Per_Hour'] = daily_summary['DailyAvgSaleRate_Per_Hour'].replace([np.inf, -np.inf], np.nan).fillna(0)"
   ]
  },
  {
   "cell_type": "code",
   "execution_count": 48,
   "id": "1dab8f45-72c3-4e14-a844-eb81d1d46f7f",
   "metadata": {},
   "outputs": [],
   "source": [
    "daily_summary['DailyTotalSales'] = daily_summary['TotalProductsSold']"
   ]
  },
  {
   "cell_type": "code",
   "execution_count": 51,
   "id": "dccc31b0-5b7c-43d0-a0d7-e7dccdcd124b",
   "metadata": {},
   "outputs": [
    {
     "data": {
      "text/html": [
       "<div>\n",
       "<style scoped>\n",
       "    .dataframe tbody tr th:only-of-type {\n",
       "        vertical-align: middle;\n",
       "    }\n",
       "\n",
       "    .dataframe tbody tr th {\n",
       "        vertical-align: top;\n",
       "    }\n",
       "\n",
       "    .dataframe thead th {\n",
       "        text-align: right;\n",
       "    }\n",
       "</style>\n",
       "<table border=\"1\" class=\"dataframe\">\n",
       "  <thead>\n",
       "    <tr style=\"text-align: right;\">\n",
       "      <th></th>\n",
       "      <th>Date</th>\n",
       "      <th>TotalProductsSold</th>\n",
       "      <th>TotalTimeElapsedHours</th>\n",
       "      <th>DailyAvgSaleRate_Per_Hour</th>\n",
       "      <th>DailyTotalSales</th>\n",
       "    </tr>\n",
       "  </thead>\n",
       "  <tbody>\n",
       "    <tr>\n",
       "      <th>0</th>\n",
       "      <td>2024-10-07</td>\n",
       "      <td>613.0</td>\n",
       "      <td>8.001944</td>\n",
       "      <td>76.606380</td>\n",
       "      <td>613.0</td>\n",
       "    </tr>\n",
       "    <tr>\n",
       "      <th>1</th>\n",
       "      <td>2024-10-08</td>\n",
       "      <td>2097.0</td>\n",
       "      <td>21.998333</td>\n",
       "      <td>95.325403</td>\n",
       "      <td>2097.0</td>\n",
       "    </tr>\n",
       "    <tr>\n",
       "      <th>2</th>\n",
       "      <td>2024-10-09</td>\n",
       "      <td>2686.0</td>\n",
       "      <td>24.000833</td>\n",
       "      <td>111.912781</td>\n",
       "      <td>2686.0</td>\n",
       "    </tr>\n",
       "    <tr>\n",
       "      <th>3</th>\n",
       "      <td>2024-10-10</td>\n",
       "      <td>1989.0</td>\n",
       "      <td>28.074722</td>\n",
       "      <td>70.846649</td>\n",
       "      <td>1989.0</td>\n",
       "    </tr>\n",
       "    <tr>\n",
       "      <th>4</th>\n",
       "      <td>2024-10-11</td>\n",
       "      <td>614.0</td>\n",
       "      <td>19.924444</td>\n",
       "      <td>30.816418</td>\n",
       "      <td>614.0</td>\n",
       "    </tr>\n",
       "    <tr>\n",
       "      <th>...</th>\n",
       "      <td>...</td>\n",
       "      <td>...</td>\n",
       "      <td>...</td>\n",
       "      <td>...</td>\n",
       "      <td>...</td>\n",
       "    </tr>\n",
       "    <tr>\n",
       "      <th>232</th>\n",
       "      <td>2025-06-13</td>\n",
       "      <td>1951.0</td>\n",
       "      <td>19.998889</td>\n",
       "      <td>97.555420</td>\n",
       "      <td>1951.0</td>\n",
       "    </tr>\n",
       "    <tr>\n",
       "      <th>233</th>\n",
       "      <td>2025-06-14</td>\n",
       "      <td>141.0</td>\n",
       "      <td>26.000000</td>\n",
       "      <td>5.423077</td>\n",
       "      <td>141.0</td>\n",
       "    </tr>\n",
       "    <tr>\n",
       "      <th>234</th>\n",
       "      <td>2025-06-15</td>\n",
       "      <td>67.0</td>\n",
       "      <td>21.999722</td>\n",
       "      <td>3.045493</td>\n",
       "      <td>67.0</td>\n",
       "    </tr>\n",
       "    <tr>\n",
       "      <th>235</th>\n",
       "      <td>2025-06-16</td>\n",
       "      <td>2239.0</td>\n",
       "      <td>24.000833</td>\n",
       "      <td>93.288427</td>\n",
       "      <td>2239.0</td>\n",
       "    </tr>\n",
       "    <tr>\n",
       "      <th>236</th>\n",
       "      <td>2025-06-17</td>\n",
       "      <td>0.0</td>\n",
       "      <td>5.999722</td>\n",
       "      <td>0.000000</td>\n",
       "      <td>0.0</td>\n",
       "    </tr>\n",
       "  </tbody>\n",
       "</table>\n",
       "<p>237 rows × 5 columns</p>\n",
       "</div>"
      ],
      "text/plain": [
       "           Date  TotalProductsSold  TotalTimeElapsedHours  \\\n",
       "0    2024-10-07              613.0               8.001944   \n",
       "1    2024-10-08             2097.0              21.998333   \n",
       "2    2024-10-09             2686.0              24.000833   \n",
       "3    2024-10-10             1989.0              28.074722   \n",
       "4    2024-10-11              614.0              19.924444   \n",
       "..          ...                ...                    ...   \n",
       "232  2025-06-13             1951.0              19.998889   \n",
       "233  2025-06-14              141.0              26.000000   \n",
       "234  2025-06-15               67.0              21.999722   \n",
       "235  2025-06-16             2239.0              24.000833   \n",
       "236  2025-06-17                0.0               5.999722   \n",
       "\n",
       "     DailyAvgSaleRate_Per_Hour  DailyTotalSales  \n",
       "0                    76.606380            613.0  \n",
       "1                    95.325403           2097.0  \n",
       "2                   111.912781           2686.0  \n",
       "3                    70.846649           1989.0  \n",
       "4                    30.816418            614.0  \n",
       "..                         ...              ...  \n",
       "232                  97.555420           1951.0  \n",
       "233                   5.423077            141.0  \n",
       "234                   3.045493             67.0  \n",
       "235                  93.288427           2239.0  \n",
       "236                   0.000000              0.0  \n",
       "\n",
       "[237 rows x 5 columns]"
      ]
     },
     "execution_count": 51,
     "metadata": {},
     "output_type": "execute_result"
    }
   ],
   "source": [
    "daily_summary"
   ]
  },
  {
   "cell_type": "code",
   "execution_count": 49,
   "id": "d9b1a995-e257-4648-86d8-818eaaf70f18",
   "metadata": {},
   "outputs": [
    {
     "data": {
      "text/html": [
       "<div>\n",
       "<style scoped>\n",
       "    .dataframe tbody tr th:only-of-type {\n",
       "        vertical-align: middle;\n",
       "    }\n",
       "\n",
       "    .dataframe tbody tr th {\n",
       "        vertical-align: top;\n",
       "    }\n",
       "\n",
       "    .dataframe thead th {\n",
       "        text-align: right;\n",
       "    }\n",
       "</style>\n",
       "<table border=\"1\" class=\"dataframe\">\n",
       "  <thead>\n",
       "    <tr style=\"text-align: right;\">\n",
       "      <th></th>\n",
       "      <th>Date</th>\n",
       "      <th>TotalProductsSold</th>\n",
       "      <th>TotalTimeElapsedHours</th>\n",
       "      <th>DailyAvgSaleRate_Per_Hour</th>\n",
       "      <th>DailyTotalSales</th>\n",
       "    </tr>\n",
       "  </thead>\n",
       "  <tbody>\n",
       "    <tr>\n",
       "      <th>15</th>\n",
       "      <td>2024-10-23</td>\n",
       "      <td>0.0</td>\n",
       "      <td>8.000000</td>\n",
       "      <td>0.0</td>\n",
       "      <td>0.0</td>\n",
       "    </tr>\n",
       "    <tr>\n",
       "      <th>23</th>\n",
       "      <td>2024-11-02</td>\n",
       "      <td>0.0</td>\n",
       "      <td>25.999167</td>\n",
       "      <td>0.0</td>\n",
       "      <td>0.0</td>\n",
       "    </tr>\n",
       "    <tr>\n",
       "      <th>42</th>\n",
       "      <td>2024-11-23</td>\n",
       "      <td>0.0</td>\n",
       "      <td>8.002500</td>\n",
       "      <td>0.0</td>\n",
       "      <td>0.0</td>\n",
       "    </tr>\n",
       "    <tr>\n",
       "      <th>59</th>\n",
       "      <td>2024-12-10</td>\n",
       "      <td>0.0</td>\n",
       "      <td>10.046111</td>\n",
       "      <td>0.0</td>\n",
       "      <td>0.0</td>\n",
       "    </tr>\n",
       "    <tr>\n",
       "      <th>101</th>\n",
       "      <td>2025-01-25</td>\n",
       "      <td>0.0</td>\n",
       "      <td>8.001111</td>\n",
       "      <td>0.0</td>\n",
       "      <td>0.0</td>\n",
       "    </tr>\n",
       "    <tr>\n",
       "      <th>213</th>\n",
       "      <td>2025-05-24</td>\n",
       "      <td>0.0</td>\n",
       "      <td>4.000000</td>\n",
       "      <td>0.0</td>\n",
       "      <td>0.0</td>\n",
       "    </tr>\n",
       "    <tr>\n",
       "      <th>236</th>\n",
       "      <td>2025-06-17</td>\n",
       "      <td>0.0</td>\n",
       "      <td>5.999722</td>\n",
       "      <td>0.0</td>\n",
       "      <td>0.0</td>\n",
       "    </tr>\n",
       "  </tbody>\n",
       "</table>\n",
       "</div>"
      ],
      "text/plain": [
       "           Date  TotalProductsSold  TotalTimeElapsedHours  \\\n",
       "15   2024-10-23                0.0               8.000000   \n",
       "23   2024-11-02                0.0              25.999167   \n",
       "42   2024-11-23                0.0               8.002500   \n",
       "59   2024-12-10                0.0              10.046111   \n",
       "101  2025-01-25                0.0               8.001111   \n",
       "213  2025-05-24                0.0               4.000000   \n",
       "236  2025-06-17                0.0               5.999722   \n",
       "\n",
       "     DailyAvgSaleRate_Per_Hour  DailyTotalSales  \n",
       "15                         0.0              0.0  \n",
       "23                         0.0              0.0  \n",
       "42                         0.0              0.0  \n",
       "59                         0.0              0.0  \n",
       "101                        0.0              0.0  \n",
       "213                        0.0              0.0  \n",
       "236                        0.0              0.0  "
      ]
     },
     "execution_count": 49,
     "metadata": {},
     "output_type": "execute_result"
    }
   ],
   "source": [
    "daily_summary.loc[daily_summary['DailyTotalSales']==0]"
   ]
  },
  {
   "cell_type": "code",
   "execution_count": 52,
   "id": "46cca228-126f-4616-91c0-f868db76971a",
   "metadata": {},
   "outputs": [],
   "source": [
    "daily_summary2 = daily_summary.loc[daily_summary['DailyTotalSales']!=0]"
   ]
  },
  {
   "cell_type": "code",
   "execution_count": 53,
   "id": "cd7a9f39-fe27-444c-9405-e806ea457af3",
   "metadata": {},
   "outputs": [
    {
     "data": {
      "text/plain": [
       "<Axes: xlabel='Date', ylabel='DailyTotalSales'>"
      ]
     },
     "execution_count": 53,
     "metadata": {},
     "output_type": "execute_result"
    },
    {
     "data": {
      "image/png": "[encoded data removed]",
      "text/plain": [
       "<Figure size 640x480 with 1 Axes>"
      ]
     },
     "metadata": {},
     "output_type": "display_data"
    }
   ],
   "source": [
    "sns.lineplot(data=daily_summary2, x='Date', y='DailyTotalSales', errorbar=None)"
   ]
  },
  {
   "cell_type": "code",
   "execution_count": 55,
   "id": "a426dc8d-18e3-4484-91db-ad13f84da332",
   "metadata": {},
   "outputs": [
    {
     "data": {
      "text/plain": [
       "992.7299578059071"
      ]
     },
     "execution_count": 55,
     "metadata": {},
     "output_type": "execute_result"
    }
   ],
   "source": [
    "daily_summary['DailyTotalSales'].mean()"
   ]
  },
  {
   "cell_type": "code",
   "execution_count": 57,
   "id": "459f91b4-4e23-4bcf-bcb8-bd3bfbbf8044",
   "metadata": {},
   "outputs": [
    {
     "data": {
      "text/plain": [
       "1038.763657066801"
      ]
     },
     "execution_count": 57,
     "metadata": {},
     "output_type": "execute_result"
    }
   ],
   "source": [
    "daily_summary['DailyTotalSales'].std()"
   ]
  },
  {
   "cell_type": "code",
   "execution_count": 59,
   "id": "dac0a7e8-0a64-40de-bb14-5375bf842f04",
   "metadata": {},
   "outputs": [],
   "source": [
    "mean_daily_sale = daily_summary['DailyTotalSales'].mean()\n",
    "std_daily_sale = daily_summary['DailyTotalSales'].std()"
   ]
  },
  {
   "cell_type": "code",
   "execution_count": 61,
   "id": "506213bd-5563-4b6f-9e5b-cf3d31429fe5",
   "metadata": {},
   "outputs": [
    {
     "name": "stdout",
     "output_type": "stream",
     "text": [
      "Mean Hourly Sales: 41.3637 units/hour\n"
     ]
    }
   ],
   "source": [
    "hours_per_day = 24\n",
    "mean_hourly_sales = mean_daily_sale / hours_per_day\n",
    "print(f\"Mean Hourly Sales: {mean_hourly_sales:.4f} units/hour\")"
   ]
  },
  {
   "cell_type": "code",
   "execution_count": 158,
   "id": "b8183dcf-394b-4b80-8d2c-86e528ea930b",
   "metadata": {},
   "outputs": [
    {
     "data": {
      "text/plain": [
       "1038.763657066801"
      ]
     },
     "execution_count": 158,
     "metadata": {},
     "output_type": "execute_result"
    }
   ],
   "source": [
    "std_daily_sale"
   ]
  },
  {
   "cell_type": "code",
   "execution_count": 63,
   "id": "19912db7-db43-4e6c-b052-9e06daa84dfd",
   "metadata": {},
   "outputs": [],
   "source": [
    "std_hourly_for_band = std_daily_sale / hours_per_day"
   ]
  },
  {
   "cell_type": "code",
   "execution_count": 163,
   "id": "c641011c-6fa8-445c-95a5-b5d0e7a51ee8",
   "metadata": {},
   "outputs": [
    {
     "name": "stdout",
     "output_type": "stream",
     "text": [
      "Sample standard deviation: 43.2818\n"
     ]
    }
   ],
   "source": [
    "print(f\"Sample standard deviation: {std_hourly_for_band:.4f}\")"
   ]
  },
  {
   "cell_type": "code",
   "execution_count": 164,
   "id": "73d2e18f-cdee-4210-9641-d3a96be17b4d",
   "metadata": {},
   "outputs": [
    {
     "name": "stdout",
     "output_type": "stream",
     "text": [
      "z_score: 1.00\n"
     ]
    }
   ],
   "source": [
    "print(f\"z_score: {z_score:.2f}\")"
   ]
  },
  {
   "cell_type": "code",
   "execution_count": 64,
   "id": "a38acce6-bf34-4768-9087-082761f620e0",
   "metadata": {},
   "outputs": [],
   "source": [
    "last_observed_time = df_mid_small['LastUpdate'].max()"
   ]
  },
  {
   "cell_type": "code",
   "execution_count": 126,
   "id": "37f4a833-6007-4a4c-a490-3c0d173e5ebd",
   "metadata": {},
   "outputs": [],
   "source": [
    "extrapolation_period_days = 360"
   ]
  },
  {
   "cell_type": "code",
   "execution_count": 127,
   "id": "d01c4e6c-3471-4901-aa73-75339a810828",
   "metadata": {},
   "outputs": [],
   "source": [
    "future_hours = extrapolation_period_days * hours_per_day"
   ]
  },
  {
   "cell_type": "code",
   "execution_count": 128,
   "id": "3d6bc0f4-a2b5-47f6-a72b-101a3d7239dd",
   "metadata": {},
   "outputs": [],
   "source": [
    "future_timestamps = pd.to_datetime(\n",
    "    [last_observed_time + pd.Timedelta(hours=i) for i in range(1, future_hours + 1)]\n",
    ")"
   ]
  },
  {
   "cell_type": "code",
   "execution_count": 129,
   "id": "6eb47f8e-6967-4e77-bf56-73a811729fac",
   "metadata": {},
   "outputs": [],
   "source": [
    "extrapolated_df = pd.DataFrame({\n",
    "    'LastUpdate': future_timestamps\n",
    "})"
   ]
  },
  {
   "cell_type": "code",
   "execution_count": 96,
   "id": "dd8db708-18ae-4f41-a237-91bf1c160fa0",
   "metadata": {
    "collapsed": true,
    "jupyter": {
     "outputs_hidden": true,
     "source_hidden": true
    }
   },
   "outputs": [
    {
     "data": {
      "text/plain": [
       "935"
      ]
     },
     "execution_count": 96,
     "metadata": {},
     "output_type": "execute_result"
    }
   ],
   "source": [
    "len(df_mid_small['ProductRemain'])"
   ]
  },
  {
   "cell_type": "code",
   "execution_count": 99,
   "id": "390bae4c-12d2-47bd-ae3b-cae5dcb44eaa",
   "metadata": {
    "collapsed": true,
    "jupyter": {
     "outputs_hidden": true,
     "source_hidden": true
    }
   },
   "outputs": [
    {
     "data": {
      "text/plain": [
       "2716    173453.0\n",
       "2717    171893.0\n",
       "2718    171823.0\n",
       "2721    171876.0\n",
       "0            NaN\n",
       "Name: ProductRemain, dtype: float64"
      ]
     },
     "execution_count": 99,
     "metadata": {},
     "output_type": "execute_result"
    }
   ],
   "source": [
    "df_mid_small['ProductRemain'].tail(5)"
   ]
  },
  {
   "cell_type": "code",
   "execution_count": 130,
   "id": "f119271f-deb9-44c9-9ac3-2061b0a1bb7c",
   "metadata": {},
   "outputs": [],
   "source": [
    "last_product_remain = df_mid_small['ProductRemain'].iloc[len(df_mid_small['ProductRemain'])-2]"
   ]
  },
  {
   "cell_type": "code",
   "execution_count": 131,
   "id": "1878987d-8867-4377-9b97-25633c3b2e46",
   "metadata": {},
   "outputs": [
    {
     "data": {
      "text/plain": [
       "171876.0"
      ]
     },
     "execution_count": 131,
     "metadata": {},
     "output_type": "execute_result"
    }
   ],
   "source": [
    "last_product_remain"
   ]
  },
  {
   "cell_type": "code",
   "execution_count": 84,
   "id": "73b75577-2308-4a4a-a66f-b79e69b9d954",
   "metadata": {},
   "outputs": [
    {
     "data": {
      "text/plain": [
       "41.363748241912795"
      ]
     },
     "execution_count": 84,
     "metadata": {},
     "output_type": "execute_result"
    }
   ],
   "source": [
    "mean_hourly_sales"
   ]
  },
  {
   "cell_type": "code",
   "execution_count": 85,
   "id": "8f53daae-d59c-41d7-b4f4-8e1eb940d92e",
   "metadata": {},
   "outputs": [
    {
     "data": {
      "text/plain": [
       "2160"
      ]
     },
     "execution_count": 85,
     "metadata": {},
     "output_type": "execute_result"
    }
   ],
   "source": [
    "future_hours"
   ]
  },
  {
   "cell_type": "code",
   "execution_count": 132,
   "id": "7159dd5d-8680-4aad-b239-3e29aba07e49",
   "metadata": {},
   "outputs": [],
   "source": [
    "projected_product_remain = [last_product_remain - (mean_hourly_sales * i) for i in range(1, future_hours + 1)]"
   ]
  },
  {
   "cell_type": "code",
   "execution_count": 133,
   "id": "5bf8b453-47ea-42f2-9c4d-b42baf6cb1eb",
   "metadata": {},
   "outputs": [],
   "source": [
    "extrapolated_df['ProductRemain_Mean'] = projected_product_remain"
   ]
  },
  {
   "cell_type": "code",
   "execution_count": 72,
   "id": "3acdc423-4355-4eab-bbaa-02aabedc9904",
   "metadata": {},
   "outputs": [],
   "source": [
    "z_score = 1"
   ]
  },
  {
   "cell_type": "code",
   "execution_count": 134,
   "id": "b2a2acf9-74a6-44f6-a295-77d222e80533",
   "metadata": {},
   "outputs": [],
   "source": [
    "extrapolated_df['Cumulative_Hours_From_Last'] = (extrapolated_df['LastUpdate'] - last_observed_time).dt.total_seconds() / 3600"
   ]
  },
  {
   "cell_type": "code",
   "execution_count": 135,
   "id": "fb7b0634-d73d-4381-99ca-4c1afa91103f",
   "metadata": {},
   "outputs": [],
   "source": [
    "extrapolated_df['Cumulative_Days_From_Last'] = extrapolated_df['Cumulative_Hours_From_Last'] / hours_per_day"
   ]
  },
  {
   "cell_type": "code",
   "execution_count": 136,
   "id": "f6cfe08e-857a-4c80-9b65-7c960772fa31",
   "metadata": {},
   "outputs": [
    {
     "data": {
      "text/html": [
       "<div>\n",
       "<style scoped>\n",
       "    .dataframe tbody tr th:only-of-type {\n",
       "        vertical-align: middle;\n",
       "    }\n",
       "\n",
       "    .dataframe tbody tr th {\n",
       "        vertical-align: top;\n",
       "    }\n",
       "\n",
       "    .dataframe thead th {\n",
       "        text-align: right;\n",
       "    }\n",
       "</style>\n",
       "<table border=\"1\" class=\"dataframe\">\n",
       "  <thead>\n",
       "    <tr style=\"text-align: right;\">\n",
       "      <th></th>\n",
       "      <th>LastUpdate</th>\n",
       "      <th>ProductRemain_Mean</th>\n",
       "      <th>Cumulative_Hours_From_Last</th>\n",
       "      <th>Cumulative_Days_From_Last</th>\n",
       "    </tr>\n",
       "  </thead>\n",
       "  <tbody>\n",
       "    <tr>\n",
       "      <th>0</th>\n",
       "      <td>2025-06-17 01:15:04</td>\n",
       "      <td>171834.636252</td>\n",
       "      <td>1.0</td>\n",
       "      <td>0.041667</td>\n",
       "    </tr>\n",
       "    <tr>\n",
       "      <th>1</th>\n",
       "      <td>2025-06-17 02:15:04</td>\n",
       "      <td>171793.272504</td>\n",
       "      <td>2.0</td>\n",
       "      <td>0.083333</td>\n",
       "    </tr>\n",
       "    <tr>\n",
       "      <th>2</th>\n",
       "      <td>2025-06-17 03:15:04</td>\n",
       "      <td>171751.908755</td>\n",
       "      <td>3.0</td>\n",
       "      <td>0.125000</td>\n",
       "    </tr>\n",
       "    <tr>\n",
       "      <th>3</th>\n",
       "      <td>2025-06-17 04:15:04</td>\n",
       "      <td>171710.545007</td>\n",
       "      <td>4.0</td>\n",
       "      <td>0.166667</td>\n",
       "    </tr>\n",
       "    <tr>\n",
       "      <th>4</th>\n",
       "      <td>2025-06-17 05:15:04</td>\n",
       "      <td>171669.181259</td>\n",
       "      <td>5.0</td>\n",
       "      <td>0.208333</td>\n",
       "    </tr>\n",
       "    <tr>\n",
       "      <th>...</th>\n",
       "      <td>...</td>\n",
       "      <td>...</td>\n",
       "      <td>...</td>\n",
       "      <td>...</td>\n",
       "    </tr>\n",
       "    <tr>\n",
       "      <th>8635</th>\n",
       "      <td>2026-06-11 20:15:04</td>\n",
       "      <td>-185341.329817</td>\n",
       "      <td>8636.0</td>\n",
       "      <td>359.833333</td>\n",
       "    </tr>\n",
       "    <tr>\n",
       "      <th>8636</th>\n",
       "      <td>2026-06-11 21:15:04</td>\n",
       "      <td>-185382.693565</td>\n",
       "      <td>8637.0</td>\n",
       "      <td>359.875000</td>\n",
       "    </tr>\n",
       "    <tr>\n",
       "      <th>8637</th>\n",
       "      <td>2026-06-11 22:15:04</td>\n",
       "      <td>-185424.057314</td>\n",
       "      <td>8638.0</td>\n",
       "      <td>359.916667</td>\n",
       "    </tr>\n",
       "    <tr>\n",
       "      <th>8638</th>\n",
       "      <td>2026-06-11 23:15:04</td>\n",
       "      <td>-185465.421062</td>\n",
       "      <td>8639.0</td>\n",
       "      <td>359.958333</td>\n",
       "    </tr>\n",
       "    <tr>\n",
       "      <th>8639</th>\n",
       "      <td>2026-06-12 00:15:04</td>\n",
       "      <td>-185506.784810</td>\n",
       "      <td>8640.0</td>\n",
       "      <td>360.000000</td>\n",
       "    </tr>\n",
       "  </tbody>\n",
       "</table>\n",
       "<p>8640 rows × 4 columns</p>\n",
       "</div>"
      ],
      "text/plain": [
       "              LastUpdate  ProductRemain_Mean  Cumulative_Hours_From_Last  \\\n",
       "0    2025-06-17 01:15:04       171834.636252                         1.0   \n",
       "1    2025-06-17 02:15:04       171793.272504                         2.0   \n",
       "2    2025-06-17 03:15:04       171751.908755                         3.0   \n",
       "3    2025-06-17 04:15:04       171710.545007                         4.0   \n",
       "4    2025-06-17 05:15:04       171669.181259                         5.0   \n",
       "...                  ...                 ...                         ...   \n",
       "8635 2026-06-11 20:15:04      -185341.329817                      8636.0   \n",
       "8636 2026-06-11 21:15:04      -185382.693565                      8637.0   \n",
       "8637 2026-06-11 22:15:04      -185424.057314                      8638.0   \n",
       "8638 2026-06-11 23:15:04      -185465.421062                      8639.0   \n",
       "8639 2026-06-12 00:15:04      -185506.784810                      8640.0   \n",
       "\n",
       "      Cumulative_Days_From_Last  \n",
       "0                      0.041667  \n",
       "1                      0.083333  \n",
       "2                      0.125000  \n",
       "3                      0.166667  \n",
       "4                      0.208333  \n",
       "...                         ...  \n",
       "8635                 359.833333  \n",
       "8636                 359.875000  \n",
       "8637                 359.916667  \n",
       "8638                 359.958333  \n",
       "8639                 360.000000  \n",
       "\n",
       "[8640 rows x 4 columns]"
      ]
     },
     "execution_count": 136,
     "metadata": {},
     "output_type": "execute_result"
    }
   ],
   "source": [
    "extrapolated_df"
   ]
  },
  {
   "cell_type": "code",
   "execution_count": 137,
   "id": "5f538a80-a726-45d0-862b-292b69060b64",
   "metadata": {},
   "outputs": [],
   "source": [
    "extrapolated_df['ProductRemain_Upper'] = extrapolated_df['ProductRemain_Mean'] + (z_score * std_daily_sale * np.sqrt(extrapolated_df['Cumulative_Days_From_Last']))\n",
    "extrapolated_df['ProductRemain_Lower'] = extrapolated_df['ProductRemain_Mean'] - (z_score * std_daily_sale * np.sqrt(extrapolated_df['Cumulative_Days_From_Last']))"
   ]
  },
  {
   "cell_type": "code",
   "execution_count": 138,
   "id": "10952de4-454f-43e8-9593-13cd5424d2fc",
   "metadata": {},
   "outputs": [],
   "source": [
    "extrapolated_df['ProductRemain_Lower'] = extrapolated_df['ProductRemain_Lower'].clip(lower=0)\n",
    "extrapolated_df['ProductRemain_Mean'] = extrapolated_df['ProductRemain_Mean'].clip(lower=0) # Cap mean at 0 too\n",
    "extrapolated_df['ProductRemain_Upper'] = extrapolated_df['ProductRemain_Upper'].clip(lower=0)"
   ]
  },
  {
   "cell_type": "code",
   "execution_count": 141,
   "id": "ef26c622-23b8-4995-a96e-5022da47072d",
   "metadata": {},
   "outputs": [],
   "source": [
    "extrapolated_df = extrapolated_df.loc[extrapolated_df['ProductRemain_Mean'] >0]"
   ]
  },
  {
   "cell_type": "code",
   "execution_count": 143,
   "id": "0f7e5c84-e139-4f8b-b07a-eb92d606d96c",
   "metadata": {},
   "outputs": [
    {
     "data": {
      "text/html": [
       "<div>\n",
       "<style scoped>\n",
       "    .dataframe tbody tr th:only-of-type {\n",
       "        vertical-align: middle;\n",
       "    }\n",
       "\n",
       "    .dataframe tbody tr th {\n",
       "        vertical-align: top;\n",
       "    }\n",
       "\n",
       "    .dataframe thead th {\n",
       "        text-align: right;\n",
       "    }\n",
       "</style>\n",
       "<table border=\"1\" class=\"dataframe\">\n",
       "  <thead>\n",
       "    <tr style=\"text-align: right;\">\n",
       "      <th></th>\n",
       "      <th>LastUpdate</th>\n",
       "      <th>ProductRemain_Mean</th>\n",
       "      <th>Cumulative_Hours_From_Last</th>\n",
       "      <th>Cumulative_Days_From_Last</th>\n",
       "      <th>ProductRemain_Upper</th>\n",
       "      <th>ProductRemain_Lower</th>\n",
       "    </tr>\n",
       "  </thead>\n",
       "  <tbody>\n",
       "    <tr>\n",
       "      <th>0</th>\n",
       "      <td>2025-06-17 01:15:04</td>\n",
       "      <td>171834.636252</td>\n",
       "      <td>1.0</td>\n",
       "      <td>0.041667</td>\n",
       "      <td>172046.672995</td>\n",
       "      <td>171622.599508</td>\n",
       "    </tr>\n",
       "    <tr>\n",
       "      <th>1</th>\n",
       "      <td>2025-06-17 02:15:04</td>\n",
       "      <td>171793.272504</td>\n",
       "      <td>2.0</td>\n",
       "      <td>0.083333</td>\n",
       "      <td>172093.137742</td>\n",
       "      <td>171493.407265</td>\n",
       "    </tr>\n",
       "    <tr>\n",
       "      <th>2</th>\n",
       "      <td>2025-06-17 03:15:04</td>\n",
       "      <td>171751.908755</td>\n",
       "      <td>3.0</td>\n",
       "      <td>0.125000</td>\n",
       "      <td>172119.167168</td>\n",
       "      <td>171384.650342</td>\n",
       "    </tr>\n",
       "    <tr>\n",
       "      <th>3</th>\n",
       "      <td>2025-06-17 04:15:04</td>\n",
       "      <td>171710.545007</td>\n",
       "      <td>4.0</td>\n",
       "      <td>0.166667</td>\n",
       "      <td>172134.618494</td>\n",
       "      <td>171286.471520</td>\n",
       "    </tr>\n",
       "    <tr>\n",
       "      <th>4</th>\n",
       "      <td>2025-06-17 05:15:04</td>\n",
       "      <td>171669.181259</td>\n",
       "      <td>5.0</td>\n",
       "      <td>0.208333</td>\n",
       "      <td>172143.309831</td>\n",
       "      <td>171195.052686</td>\n",
       "    </tr>\n",
       "    <tr>\n",
       "      <th>...</th>\n",
       "      <td>...</td>\n",
       "      <td>...</td>\n",
       "      <td>...</td>\n",
       "      <td>...</td>\n",
       "      <td>...</td>\n",
       "      <td>...</td>\n",
       "    </tr>\n",
       "    <tr>\n",
       "      <th>4150</th>\n",
       "      <td>2025-12-06 23:15:04</td>\n",
       "      <td>175.081048</td>\n",
       "      <td>4151.0</td>\n",
       "      <td>172.958333</td>\n",
       "      <td>13836.238364</td>\n",
       "      <td>0.000000</td>\n",
       "    </tr>\n",
       "    <tr>\n",
       "      <th>4151</th>\n",
       "      <td>2025-12-07 00:15:04</td>\n",
       "      <td>133.717300</td>\n",
       "      <td>4152.0</td>\n",
       "      <td>173.000000</td>\n",
       "      <td>13796.520043</td>\n",
       "      <td>0.000000</td>\n",
       "    </tr>\n",
       "    <tr>\n",
       "      <th>4152</th>\n",
       "      <td>2025-12-07 01:15:04</td>\n",
       "      <td>92.353551</td>\n",
       "      <td>4153.0</td>\n",
       "      <td>173.041667</td>\n",
       "      <td>13756.801523</td>\n",
       "      <td>0.000000</td>\n",
       "    </tr>\n",
       "    <tr>\n",
       "      <th>4153</th>\n",
       "      <td>2025-12-07 02:15:04</td>\n",
       "      <td>50.989803</td>\n",
       "      <td>4154.0</td>\n",
       "      <td>173.083333</td>\n",
       "      <td>13717.082806</td>\n",
       "      <td>0.000000</td>\n",
       "    </tr>\n",
       "    <tr>\n",
       "      <th>4154</th>\n",
       "      <td>2025-12-07 03:15:04</td>\n",
       "      <td>9.626055</td>\n",
       "      <td>4155.0</td>\n",
       "      <td>173.125000</td>\n",
       "      <td>13677.363890</td>\n",
       "      <td>0.000000</td>\n",
       "    </tr>\n",
       "  </tbody>\n",
       "</table>\n",
       "<p>4155 rows × 6 columns</p>\n",
       "</div>"
      ],
      "text/plain": [
       "              LastUpdate  ProductRemain_Mean  Cumulative_Hours_From_Last  \\\n",
       "0    2025-06-17 01:15:04       171834.636252                         1.0   \n",
       "1    2025-06-17 02:15:04       171793.272504                         2.0   \n",
       "2    2025-06-17 03:15:04       171751.908755                         3.0   \n",
       "3    2025-06-17 04:15:04       171710.545007                         4.0   \n",
       "4    2025-06-17 05:15:04       171669.181259                         5.0   \n",
       "...                  ...                 ...                         ...   \n",
       "4150 2025-12-06 23:15:04          175.081048                      4151.0   \n",
       "4151 2025-12-07 00:15:04          133.717300                      4152.0   \n",
       "4152 2025-12-07 01:15:04           92.353551                      4153.0   \n",
       "4153 2025-12-07 02:15:04           50.989803                      4154.0   \n",
       "4154 2025-12-07 03:15:04            9.626055                      4155.0   \n",
       "\n",
       "      Cumulative_Days_From_Last  ProductRemain_Upper  ProductRemain_Lower  \n",
       "0                      0.041667        172046.672995        171622.599508  \n",
       "1                      0.083333        172093.137742        171493.407265  \n",
       "2                      0.125000        172119.167168        171384.650342  \n",
       "3                      0.166667        172134.618494        171286.471520  \n",
       "4                      0.208333        172143.309831        171195.052686  \n",
       "...                         ...                  ...                  ...  \n",
       "4150                 172.958333         13836.238364             0.000000  \n",
       "4151                 173.000000         13796.520043             0.000000  \n",
       "4152                 173.041667         13756.801523             0.000000  \n",
       "4153                 173.083333         13717.082806             0.000000  \n",
       "4154                 173.125000         13677.363890             0.000000  \n",
       "\n",
       "[4155 rows x 6 columns]"
      ]
     },
     "execution_count": 143,
     "metadata": {},
     "output_type": "execute_result"
    }
   ],
   "source": [
    "extrapolated_df"
   ]
  },
  {
   "cell_type": "code",
   "execution_count": 154,
   "id": "e332bfc6-f6f6-4ccc-9547-a93090d88236",
   "metadata": {},
   "outputs": [],
   "source": [
    "last_lowerProjectedDate = None\n",
    "for i,row in extrapolated_df.iterrows():\n",
    "    if row.loc['ProductRemain_Lower'] == 0:\n",
    "        last_lowerProjectedDate = row.loc['LastUpdate']\n",
    "        break"
   ]
  },
  {
   "cell_type": "code",
   "execution_count": 155,
   "id": "c76610fe-1e4d-43bd-a14a-edc9e61a1f77",
   "metadata": {},
   "outputs": [
    {
     "data": {
      "text/plain": [
       "Timestamp('2025-11-23 22:15:04')"
      ]
     },
     "execution_count": 155,
     "metadata": {},
     "output_type": "execute_result"
    }
   ],
   "source": [
    "last_lowerProjectedDate"
   ]
  },
  {
   "cell_type": "code",
   "execution_count": 151,
   "id": "e6837f51-db72-4428-9a5c-7c72b56a106a",
   "metadata": {},
   "outputs": [],
   "source": [
    "lastRemainsDate = extrapolated_df.iloc[len(extrapolated_df)-1,0]"
   ]
  },
  {
   "cell_type": "code",
   "execution_count": 152,
   "id": "72584c53-4063-4e91-8543-24c6c15853b0",
   "metadata": {},
   "outputs": [
    {
     "data": {
      "text/plain": [
       "Timestamp('2025-12-07 03:15:04')"
      ]
     },
     "execution_count": 152,
     "metadata": {},
     "output_type": "execute_result"
    }
   ],
   "source": [
    "lastRemainsDate"
   ]
  },
  {
   "cell_type": "code",
   "execution_count": 157,
   "id": "ccb039e5-9b2f-4e7c-8fee-1618ff927b0a",
   "metadata": {},
   "outputs": [
    {
     "data": {
      "image/png": "[encoded data removed]",
      "text/plain": [
       "<Figure size 1400x700 with 1 Axes>"
      ]
     },
     "metadata": {},
     "output_type": "display_data"
    }
   ],
   "source": [
    "# Create a common column 'ProductRemain' for plotting observed data\n",
    "df_observed_plot = df_mid_small[['LastUpdate', 'ProductRemain']].copy()\n",
    "df_observed_plot['Type'] = 'Observed'\n",
    "\n",
    "# Prepare extrapolated data for plotting\n",
    "df_extrapolated_plot = extrapolated_df[['LastUpdate', 'ProductRemain_Mean']].copy()\n",
    "df_extrapolated_plot['ProductRemain'] = df_extrapolated_plot['ProductRemain_Mean']\n",
    "df_extrapolated_plot['Type'] = 'Extrapolated Mean'\n",
    "\n",
    "# Concatenate for plotting the main lines\n",
    "df_combined = pd.concat([df_observed_plot, df_extrapolated_plot])\n",
    "\n",
    "plt.figure(figsize=(14, 7))\n",
    "\n",
    "# Plot observed data\n",
    "sns.lineplot(data=df_observed_plot, x='LastUpdate', y='ProductRemain', label='Observed Product Remain', color='blue', linewidth=2)\n",
    "\n",
    "# Plot extrapolated mean\n",
    "sns.lineplot(data=df_extrapolated_plot, x='LastUpdate', y='ProductRemain', label='Extrapolated Mean Sales', color='red', linestyle='--', linewidth=2)\n",
    "\n",
    "# Plot the error band using fill_between\n",
    "plt.fill_between(\n",
    "    extrapolated_df['LastUpdate'],\n",
    "    extrapolated_df['ProductRemain_Lower'],\n",
    "    extrapolated_df['ProductRemain_Upper'],\n",
    "    color='red',\n",
    "    alpha=0.15,\n",
    "    label=f'{z_score} Std Dev Error Band'\n",
    ")\n",
    "\n",
    "# Add a vertical line at the last observed point to separate observed from forecast\n",
    "plt.axvline(last_observed_time, color='gray', linestyle=':', linewidth=1.5, label='Last Observed Data Point')\n",
    "plt.axvline(last_lowerProjectedDate, color='red', linestyle=':', linewidth=1, label=f'Last Lower Projected Date: {last_lowerProjectedDate}')\n",
    "plt.axvline(lastRemainsDate, color='red', linestyle=':', linewidth=1, label=f'Last Mean Projected Date: {lastRemainsDate}')\n",
    "\n",
    "plt.title('Midazolam injection 5 mg/ml/amp Product Remain: Observed vs. Extrapolated Forecast with Error Band')\n",
    "plt.xlabel('Date and Time')\n",
    "plt.ylabel('Product Remain')\n",
    "plt.legend()\n",
    "plt.grid(True, linestyle='--', alpha=0.7)\n",
    "plt.tight_layout()\n",
    "plt.show()"
   ]
  }
 ],
 "metadata": {
  "kernelspec": {
   "display_name": "Python 3 (ipykernel)",
   "language": "python",
   "name": "python3"
  },
  "language_info": {
   "codemirror_mode": {
    "name": "ipython",
    "version": 3
   },
   "file_extension": ".py",
   "mimetype": "text/x-python",
   "name": "python",
   "nbconvert_exporter": "python",
   "pygments_lexer": "ipython3",
   "version": "3.11.4"
  }
 },
 "nbformat": 4,
 "nbformat_minor": 5
}
